{
 "cells": [
  {
   "cell_type": "code",
   "execution_count": 11,
   "id": "81043536-4b20-4b77-9d05-2ebe025ebfe4",
   "metadata": {},
   "outputs": [],
   "source": [
    "from manim import *\n",
    "from manim_slides import Slide\n",
    "from util import paragraph, TITLE_FONT_SIZE, CONTENT_FONT_SIZE\n",
    "config.background_color = \"#262626ff\""
   ]
  },
  {
   "cell_type": "code",
   "execution_count": 17,
   "id": "9dc4d432-b329-4b22-81d4-fbe302b19fc1",
   "metadata": {},
   "outputs": [
    {
     "data": {
      "text/html": [
       "<pre style=\"white-space:pre;overflow-x:auto;line-height:normal;font-family:Menlo,'DejaVu Sans Mono',consolas,'Courier New',monospace\">Manim Community <span style=\"color: #008000; text-decoration-color: #008000\">v0.18.1</span>\n",
       "\n",
       "</pre>\n"
      ],
      "text/plain": [
       "Manim Community \u001b[32mv0.\u001b[0m\u001b[32m18.1\u001b[0m\n",
       "\n"
      ]
     },
     "metadata": {},
     "output_type": "display_data"
    },
    {
     "name": "stderr",
     "output_type": "stream",
     "text": [
      "                                                                                                                                                                                                                                                                                                      "
     ]
    },
    {
     "data": {
      "text/html": [
       "<pre style=\"white-space:pre;overflow-x:auto;line-height:normal;font-family:Menlo,'DejaVu Sans Mono',consolas,'Courier New',monospace\"><span style=\"color: #7fbfbf; text-decoration-color: #7fbfbf\">[11/02/24 12:17:29] </span><span style=\"color: #000080; text-decoration-color: #000080\">INFO    </span> Generated <span style=\"color: #008080; text-decoration-color: #008080; font-weight: bold\">11</span> slides to <span style=\"color: #008000; text-decoration-color: #008000\">'/home/arne/Projects/Work/11.PHDD PhD </span>              <a href=\"file:///home/arne/miniconda3/envs/manim/lib/python3.12/site-packages/manim_slides/slide/base.py\" target=\"_blank\"><span style=\"color: #7f7f7f; text-decoration-color: #7f7f7f\">base.py</span></a><span style=\"color: #7f7f7f; text-decoration-color: #7f7f7f\">:</span><a href=\"file:///home/arne/miniconda3/envs/manim/lib/python3.12/site-packages/manim_slides/slide/base.py#547\" target=\"_blank\"><span style=\"color: #7f7f7f; text-decoration-color: #7f7f7f\">547</span></a>\n",
       "<span style=\"color: #7fbfbf; text-decoration-color: #7fbfbf\">                    </span>         <span style=\"color: #008000; text-decoration-color: #008000\">Defense/public_defense/slides/files/Intro'</span>                                 <span style=\"color: #7f7f7f; text-decoration-color: #7f7f7f\">           </span>\n",
       "</pre>\n"
      ],
      "text/plain": [
       "\u001b[2;36m[11/02/24 12:17:29]\u001b[0m\u001b[2;36m \u001b[0m\u001b[34mINFO    \u001b[0m Generated \u001b[1;36m11\u001b[0m slides to \u001b[32m'/home/arne/Projects/Work/11.PHDD PhD \u001b[0m              \u001b]8;id=531929;file:///home/arne/miniconda3/envs/manim/lib/python3.12/site-packages/manim_slides/slide/base.py\u001b\\\u001b[2mbase.py\u001b[0m\u001b]8;;\u001b\\\u001b[2m:\u001b[0m\u001b]8;id=44389;file:///home/arne/miniconda3/envs/manim/lib/python3.12/site-packages/manim_slides/slide/base.py#547\u001b\\\u001b[2m547\u001b[0m\u001b]8;;\u001b\\\n",
       "\u001b[2;36m                    \u001b[0m         \u001b[32mDefense/public_defense/slides/files/Intro'\u001b[0m                                 \u001b[2m           \u001b[0m\n"
      ]
     },
     "metadata": {},
     "output_type": "display_data"
    },
    {
     "data": {
      "text/html": [
       "<pre style=\"white-space:pre;overflow-x:auto;line-height:normal;font-family:Menlo,'DejaVu Sans Mono',consolas,'Courier New',monospace\"><span style=\"color: #7fbfbf; text-decoration-color: #7fbfbf\">                    </span><span style=\"color: #000080; text-decoration-color: #000080\">INFO    </span> Slide <span style=\"color: #008000; text-decoration-color: #008000\">'Intro'</span> configuration written in <span style=\"color: #008000; text-decoration-color: #008000\">'/home/arne/Projects/Work/11.PHDD </span>  <a href=\"file:///home/arne/miniconda3/envs/manim/lib/python3.12/site-packages/manim_slides/slide/base.py\" target=\"_blank\"><span style=\"color: #7f7f7f; text-decoration-color: #7f7f7f\">base.py</span></a><span style=\"color: #7f7f7f; text-decoration-color: #7f7f7f\">:</span><a href=\"file:///home/arne/miniconda3/envs/manim/lib/python3.12/site-packages/manim_slides/slide/base.py#559\" target=\"_blank\"><span style=\"color: #7f7f7f; text-decoration-color: #7f7f7f\">559</span></a>\n",
       "<span style=\"color: #7fbfbf; text-decoration-color: #7fbfbf\">                    </span>         <span style=\"color: #008000; text-decoration-color: #008000\">PhD Defense/public_defense/slides/Intro.json'</span>                              <span style=\"color: #7f7f7f; text-decoration-color: #7f7f7f\">           </span>\n",
       "</pre>\n"
      ],
      "text/plain": [
       "\u001b[2;36m                   \u001b[0m\u001b[2;36m \u001b[0m\u001b[34mINFO    \u001b[0m Slide \u001b[32m'Intro'\u001b[0m configuration written in \u001b[32m'/home/arne/Projects/Work/11.PHDD \u001b[0m  \u001b]8;id=832012;file:///home/arne/miniconda3/envs/manim/lib/python3.12/site-packages/manim_slides/slide/base.py\u001b\\\u001b[2mbase.py\u001b[0m\u001b]8;;\u001b\\\u001b[2m:\u001b[0m\u001b]8;id=369217;file:///home/arne/miniconda3/envs/manim/lib/python3.12/site-packages/manim_slides/slide/base.py#559\u001b\\\u001b[2m559\u001b[0m\u001b]8;;\u001b\\\n",
       "\u001b[2;36m                    \u001b[0m         \u001b[32mPhD Defense/public_defense/slides/Intro.json'\u001b[0m                              \u001b[2m           \u001b[0m\n"
      ]
     },
     "metadata": {},
     "output_type": "display_data"
    },
    {
     "data": {
      "text/html": [
       "<video src=\"media/jupyter/Intro@2024-11-02@12-17-29.mp4\" controls autoplay loop style=\"max-width: 60%;\"  >\n",
       "      Your browser does not support the <code>video</code> element.\n",
       "    </video>"
      ],
      "text/plain": [
       "<IPython.core.display.Video object>"
      ]
     },
     "metadata": {},
     "output_type": "display_data"
    }
   ],
   "source": [
    "%%manim -v WARNING --disable_caching -q l Intro\n",
    "\n",
    "class Intro(Slide):\n",
    "    def __init__(self, *args, **kwargs):\n",
    "        super().__init__(*args, **kwargs)\n",
    "        contents_title = Text(\n",
    "            \"Contents\", color=BLACK, font_size=TITLE_FONT_SIZE\n",
    "        ).to_corner(UL)\n",
    "        self.contents = paragraph(\n",
    "            f\"1. Introduction\",\n",
    "            f\"2. Feature Attribution Benchmark\",\n",
    "            f\"3. Removal-Based Attribution Methods\",\n",
    "            f\"4. Functional Decomposition\",\n",
    "            f\"5. PDD-SHAP\",\n",
    "            f\"6. Conclusion\",\n",
    "            color=WHITE,\n",
    "            font_size=CONTENT_FONT_SIZE,\n",
    "        ).align_to(contents_title, LEFT)\n",
    "    \n",
    "    def intro_slide(self):\n",
    "        title1 = Text(\n",
    "            \"Unifying Attribution-Based Explanation Methods\", color=WHITE, font_size=TITLE_FONT_SIZE,\n",
    "        )\n",
    "        title2 = Text(\n",
    "            \"in Machine Learning\", color=WHITE, font_size=TITLE_FONT_SIZE,\n",
    "        ).next_to(title1, DOWN)\n",
    "        author_date = (\n",
    "            Text(\"Arne Gevaert - November 7th 2024\", color=WHITE, font_size=CONTENT_FONT_SIZE)\n",
    "            .next_to(title2, DOWN)\n",
    "        )\n",
    "\n",
    "        self.next_slide()\n",
    "        self.play(FadeIn(title1), FadeIn(title2))\n",
    "        self.play(FadeIn(author_date))\n",
    "\n",
    "    def toc_slide(self, chapter):\n",
    "        self.next_slide()\n",
    "        self.wipe(self.mobjects_without_canvas, [*self.canvas_mobjects, self.contents])\n",
    "        self.play(\n",
    "            FadeOut(self.contents[:chapter]),\n",
    "            FadeOut(self.contents[chapter+1:]),\n",
    "            Indicate(self.contents[chapter])\n",
    "        )\n",
    "        self.next_slide()\n",
    "        self.play(FadeOut(self.contents[chapter]))\n",
    "\n",
    "    def introduction(self):\n",
    "        pass\n",
    "        \n",
    "    def construct(self):\n",
    "        self.intro_slide()\n",
    "        self.toc_slide(chapter=0)\n",
    "        self.introduction()"
   ]
  },
  {
   "cell_type": "code",
   "execution_count": null,
   "id": "94f0a2d8-a4c5-452c-b6ba-a1e4c15701f3",
   "metadata": {},
   "outputs": [],
   "source": []
  },
  {
   "cell_type": "code",
   "execution_count": null,
   "id": "2aa8cdc5-eeb4-4781-9ba9-081ec1a1e6c6",
   "metadata": {},
   "outputs": [],
   "source": []
  }
 ],
 "metadata": {
  "kernelspec": {
   "display_name": "Python 3 (ipykernel)",
   "language": "python",
   "name": "python3"
  },
  "language_info": {
   "codemirror_mode": {
    "name": "ipython",
    "version": 3
   },
   "file_extension": ".py",
   "mimetype": "text/x-python",
   "name": "python",
   "nbconvert_exporter": "python",
   "pygments_lexer": "ipython3",
   "version": "3.12.2"
  }
 },
 "nbformat": 4,
 "nbformat_minor": 5
}
