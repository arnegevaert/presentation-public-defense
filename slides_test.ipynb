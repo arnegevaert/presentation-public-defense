{
 "cells": [
  {
   "cell_type": "code",
   "execution_count": 4,
   "id": "81043536-4b20-4b77-9d05-2ebe025ebfe4",
   "metadata": {},
   "outputs": [],
   "source": [
    "from manim import *\n",
    "from manim_slides import Slide"
   ]
  },
  {
   "cell_type": "code",
   "execution_count": 6,
   "id": "cfd3bee4-889c-446b-bdfa-66e17841756f",
   "metadata": {},
   "outputs": [
    {
     "data": {
      "text/html": [
       "<pre style=\"white-space:pre;overflow-x:auto;line-height:normal;font-family:Menlo,'DejaVu Sans Mono',consolas,'Courier New',monospace\">Manim Community <span style=\"color: #008000; text-decoration-color: #008000\">v0.18.1</span>\n",
       "\n",
       "</pre>\n"
      ],
      "text/plain": [
       "Manim Community \u001b[32mv0.\u001b[0m\u001b[32m18.1\u001b[0m\n",
       "\n"
      ]
     },
     "metadata": {},
     "output_type": "display_data"
    },
    {
     "name": "stderr",
     "output_type": "stream",
     "text": [
      "                                                                                                                                                                                                                                                                                                      "
     ]
    },
    {
     "data": {
      "text/html": [
       "<pre style=\"white-space:pre;overflow-x:auto;line-height:normal;font-family:Menlo,'DejaVu Sans Mono',consolas,'Courier New',monospace\"><span style=\"color: #7fbfbf; text-decoration-color: #7fbfbf\">[11/02/24 11:02:51] </span><span style=\"color: #000080; text-decoration-color: #000080\">INFO    </span> Generated <span style=\"color: #008080; text-decoration-color: #008080; font-weight: bold\">3</span> slides to <span style=\"color: #008000; text-decoration-color: #008000\">'/home/arne/Projects/Work/11.PHDD PhD </span>               <a href=\"file:///home/arne/miniconda3/envs/manim/lib/python3.12/site-packages/manim_slides/slide/base.py\" target=\"_blank\"><span style=\"color: #7f7f7f; text-decoration-color: #7f7f7f\">base.py</span></a><span style=\"color: #7f7f7f; text-decoration-color: #7f7f7f\">:</span><a href=\"file:///home/arne/miniconda3/envs/manim/lib/python3.12/site-packages/manim_slides/slide/base.py#547\" target=\"_blank\"><span style=\"color: #7f7f7f; text-decoration-color: #7f7f7f\">547</span></a>\n",
       "<span style=\"color: #7fbfbf; text-decoration-color: #7fbfbf\">                    </span>         <span style=\"color: #008000; text-decoration-color: #008000\">Defense/public_defense/slides/files/BasicExample'</span>                          <span style=\"color: #7f7f7f; text-decoration-color: #7f7f7f\">           </span>\n",
       "</pre>\n"
      ],
      "text/plain": [
       "\u001b[2;36m[11/02/24 11:02:51]\u001b[0m\u001b[2;36m \u001b[0m\u001b[34mINFO    \u001b[0m Generated \u001b[1;36m3\u001b[0m slides to \u001b[32m'/home/arne/Projects/Work/11.PHDD PhD \u001b[0m               \u001b]8;id=618044;file:///home/arne/miniconda3/envs/manim/lib/python3.12/site-packages/manim_slides/slide/base.py\u001b\\\u001b[2mbase.py\u001b[0m\u001b]8;;\u001b\\\u001b[2m:\u001b[0m\u001b]8;id=376860;file:///home/arne/miniconda3/envs/manim/lib/python3.12/site-packages/manim_slides/slide/base.py#547\u001b\\\u001b[2m547\u001b[0m\u001b]8;;\u001b\\\n",
       "\u001b[2;36m                    \u001b[0m         \u001b[32mDefense/public_defense/slides/files/BasicExample'\u001b[0m                          \u001b[2m           \u001b[0m\n"
      ]
     },
     "metadata": {},
     "output_type": "display_data"
    },
    {
     "data": {
      "text/html": [
       "<pre style=\"white-space:pre;overflow-x:auto;line-height:normal;font-family:Menlo,'DejaVu Sans Mono',consolas,'Courier New',monospace\"><span style=\"color: #7fbfbf; text-decoration-color: #7fbfbf\">                    </span><span style=\"color: #000080; text-decoration-color: #000080\">INFO    </span> Slide <span style=\"color: #008000; text-decoration-color: #008000\">'BasicExample'</span> configuration written in                              <a href=\"file:///home/arne/miniconda3/envs/manim/lib/python3.12/site-packages/manim_slides/slide/base.py\" target=\"_blank\"><span style=\"color: #7f7f7f; text-decoration-color: #7f7f7f\">base.py</span></a><span style=\"color: #7f7f7f; text-decoration-color: #7f7f7f\">:</span><a href=\"file:///home/arne/miniconda3/envs/manim/lib/python3.12/site-packages/manim_slides/slide/base.py#559\" target=\"_blank\"><span style=\"color: #7f7f7f; text-decoration-color: #7f7f7f\">559</span></a>\n",
       "<span style=\"color: #7fbfbf; text-decoration-color: #7fbfbf\">                    </span>         <span style=\"color: #008000; text-decoration-color: #008000\">'/home/arne/Projects/Work/11.PHDD PhD </span>                                     <span style=\"color: #7f7f7f; text-decoration-color: #7f7f7f\">           </span>\n",
       "<span style=\"color: #7fbfbf; text-decoration-color: #7fbfbf\">                    </span>         <span style=\"color: #008000; text-decoration-color: #008000\">Defense/public_defense/slides/BasicExample.json'</span>                           <span style=\"color: #7f7f7f; text-decoration-color: #7f7f7f\">           </span>\n",
       "</pre>\n"
      ],
      "text/plain": [
       "\u001b[2;36m                   \u001b[0m\u001b[2;36m \u001b[0m\u001b[34mINFO    \u001b[0m Slide \u001b[32m'BasicExample'\u001b[0m configuration written in                              \u001b]8;id=687423;file:///home/arne/miniconda3/envs/manim/lib/python3.12/site-packages/manim_slides/slide/base.py\u001b\\\u001b[2mbase.py\u001b[0m\u001b]8;;\u001b\\\u001b[2m:\u001b[0m\u001b]8;id=952539;file:///home/arne/miniconda3/envs/manim/lib/python3.12/site-packages/manim_slides/slide/base.py#559\u001b\\\u001b[2m559\u001b[0m\u001b]8;;\u001b\\\n",
       "\u001b[2;36m                    \u001b[0m         \u001b[32m'/home/arne/Projects/Work/11.PHDD PhD \u001b[0m                                     \u001b[2m           \u001b[0m\n",
       "\u001b[2;36m                    \u001b[0m         \u001b[32mDefense/public_defense/slides/BasicExample.json'\u001b[0m                           \u001b[2m           \u001b[0m\n"
      ]
     },
     "metadata": {},
     "output_type": "display_data"
    },
    {
     "data": {
      "text/html": [
       "<video src=\"media/jupyter/BasicExample@2024-11-02@11-02-51.mp4\" controls autoplay loop style=\"max-width: 60%;\"  >\n",
       "      Your browser does not support the <code>video</code> element.\n",
       "    </video>"
      ],
      "text/plain": [
       "<IPython.core.display.Video object>"
      ]
     },
     "metadata": {},
     "output_type": "display_data"
    }
   ],
   "source": [
    "%%manim -v WARNING --disable_caching -qm BasicExample\n",
    "\n",
    "class BasicExample(Slide):\n",
    "    def construct(self):\n",
    "        circle = Circle(radius=3, color=BLUE)\n",
    "        dot = Dot()\n",
    "\n",
    "        self.play(GrowFromCenter(circle))\n",
    "        self.next_slide()  # Waits user to press continue to go to the next slide\n",
    "\n",
    "        self.next_slide(loop=True)  # Start loop\n",
    "        self.play(MoveAlongPath(dot, circle), run_time=2, rate_func=linear)\n",
    "        self.next_slide()  # This will start a new non-looping slide\n",
    "\n",
    "        self.play(dot.animate.move_to(ORIGIN))"
   ]
  },
  {
   "cell_type": "code",
   "execution_count": null,
   "id": "9dc4d432-b329-4b22-81d4-fbe302b19fc1",
   "metadata": {},
   "outputs": [],
   "source": []
  }
 ],
 "metadata": {
  "kernelspec": {
   "display_name": "Python 3 (ipykernel)",
   "language": "python",
   "name": "python3"
  },
  "language_info": {
   "codemirror_mode": {
    "name": "ipython",
    "version": 3
   },
   "file_extension": ".py",
   "mimetype": "text/x-python",
   "name": "python",
   "nbconvert_exporter": "python",
   "pygments_lexer": "ipython3",
   "version": "3.12.2"
  }
 },
 "nbformat": 4,
 "nbformat_minor": 5
}
