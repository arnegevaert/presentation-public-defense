{
 "cells": [
  {
   "cell_type": "markdown",
   "id": "06b8ceee-8be9-4669-9b34-d1d27f3b4be2",
   "metadata": {},
   "source": [
    "# Worksheet\n",
    "This is just a scrapbook for working on the animations.\n",
    "The code in this notebook might not be identical to the final version in `presentation.py`."
   ]
  },
  {
   "cell_type": "code",
   "execution_count": 118,
   "id": "81043536-4b20-4b77-9d05-2ebe025ebfe4",
   "metadata": {},
   "outputs": [
    {
     "name": "stdout",
     "output_type": "stream",
     "text": [
      "The autoreload extension is already loaded. To reload it, use:\n",
      "  %reload_ext autoreload\n"
     ]
    }
   ],
   "source": [
    "from manim import *\n",
    "from manim_slides import Slide, ThreeDSlide\n",
    "%load_ext autoreload\n",
    "%autoreload 2\n",
    "from util import paragraph, example_function_1, linreg_univariate, linreg_multivariate, parabolic_reg, nn_reg\n",
    "import numpy as np\n",
    "from sklearn.metrics import root_mean_squared_error\n",
    "from sklearn.datasets import fetch_openml\n",
    "\n",
    "config.background_color = \"#262626ff\""
   ]
  },
  {
   "cell_type": "code",
   "execution_count": 524,
   "id": "9dc4d432-b329-4b22-81d4-fbe302b19fc1",
   "metadata": {
    "collapsed": true,
    "jupyter": {
     "outputs_hidden": true,
     "source_hidden": true
    }
   },
   "outputs": [
    {
     "data": {
      "text/html": [
       "<pre style=\"white-space:pre;overflow-x:auto;line-height:normal;font-family:Menlo,'DejaVu Sans Mono',consolas,'Courier New',monospace\">Manim Community <span style=\"color: #008000; text-decoration-color: #008000\">v0.18.1</span>\n",
       "\n",
       "</pre>\n"
      ],
      "text/plain": [
       "Manim Community \u001b[32mv0.\u001b[0m\u001b[32m18.1\u001b[0m\n",
       "\n"
      ]
     },
     "metadata": {},
     "output_type": "display_data"
    },
    {
     "name": "stderr",
     "output_type": "stream",
     "text": [
      "                                                                                                                                                                                                                                                                                                      "
     ]
    },
    {
     "data": {
      "text/html": [
       "<pre style=\"white-space:pre;overflow-x:auto;line-height:normal;font-family:Menlo,'DejaVu Sans Mono',consolas,'Courier New',monospace\"><span style=\"color: #7fbfbf; text-decoration-color: #7fbfbf\">[11/03/24 17:24:07] </span><span style=\"color: #000080; text-decoration-color: #000080\">INFO    </span> Generated <span style=\"color: #008080; text-decoration-color: #008080; font-weight: bold\">2</span> slides to <span style=\"color: #008000; text-decoration-color: #008000\">'/home/arne/Projects/Work/11.PHDD PhD </span>               <a href=\"file:///home/arne/miniconda3/envs/manim/lib/python3.12/site-packages/manim_slides/slide/base.py\" target=\"_blank\"><span style=\"color: #7f7f7f; text-decoration-color: #7f7f7f\">base.py</span></a><span style=\"color: #7f7f7f; text-decoration-color: #7f7f7f\">:</span><a href=\"file:///home/arne/miniconda3/envs/manim/lib/python3.12/site-packages/manim_slides/slide/base.py#547\" target=\"_blank\"><span style=\"color: #7f7f7f; text-decoration-color: #7f7f7f\">547</span></a>\n",
       "<span style=\"color: #7fbfbf; text-decoration-color: #7fbfbf\">                    </span>         <span style=\"color: #008000; text-decoration-color: #008000\">Defense/public_defense/slides/files/Intro'</span>                                 <span style=\"color: #7f7f7f; text-decoration-color: #7f7f7f\">           </span>\n",
       "</pre>\n"
      ],
      "text/plain": [
       "\u001b[2;36m[11/03/24 17:24:07]\u001b[0m\u001b[2;36m \u001b[0m\u001b[34mINFO    \u001b[0m Generated \u001b[1;36m2\u001b[0m slides to \u001b[32m'/home/arne/Projects/Work/11.PHDD PhD \u001b[0m               \u001b]8;id=11922;file:///home/arne/miniconda3/envs/manim/lib/python3.12/site-packages/manim_slides/slide/base.py\u001b\\\u001b[2mbase.py\u001b[0m\u001b]8;;\u001b\\\u001b[2m:\u001b[0m\u001b]8;id=109890;file:///home/arne/miniconda3/envs/manim/lib/python3.12/site-packages/manim_slides/slide/base.py#547\u001b\\\u001b[2m547\u001b[0m\u001b]8;;\u001b\\\n",
       "\u001b[2;36m                    \u001b[0m         \u001b[32mDefense/public_defense/slides/files/Intro'\u001b[0m                                 \u001b[2m           \u001b[0m\n"
      ]
     },
     "metadata": {},
     "output_type": "display_data"
    },
    {
     "data": {
      "text/html": [
       "<pre style=\"white-space:pre;overflow-x:auto;line-height:normal;font-family:Menlo,'DejaVu Sans Mono',consolas,'Courier New',monospace\"><span style=\"color: #7fbfbf; text-decoration-color: #7fbfbf\">                    </span><span style=\"color: #000080; text-decoration-color: #000080\">INFO    </span> Slide <span style=\"color: #008000; text-decoration-color: #008000\">'Intro'</span> configuration written in <span style=\"color: #008000; text-decoration-color: #008000\">'/home/arne/Projects/Work/11.PHDD </span>  <a href=\"file:///home/arne/miniconda3/envs/manim/lib/python3.12/site-packages/manim_slides/slide/base.py\" target=\"_blank\"><span style=\"color: #7f7f7f; text-decoration-color: #7f7f7f\">base.py</span></a><span style=\"color: #7f7f7f; text-decoration-color: #7f7f7f\">:</span><a href=\"file:///home/arne/miniconda3/envs/manim/lib/python3.12/site-packages/manim_slides/slide/base.py#559\" target=\"_blank\"><span style=\"color: #7f7f7f; text-decoration-color: #7f7f7f\">559</span></a>\n",
       "<span style=\"color: #7fbfbf; text-decoration-color: #7fbfbf\">                    </span>         <span style=\"color: #008000; text-decoration-color: #008000\">PhD Defense/public_defense/slides/Intro.json'</span>                              <span style=\"color: #7f7f7f; text-decoration-color: #7f7f7f\">           </span>\n",
       "</pre>\n"
      ],
      "text/plain": [
       "\u001b[2;36m                   \u001b[0m\u001b[2;36m \u001b[0m\u001b[34mINFO    \u001b[0m Slide \u001b[32m'Intro'\u001b[0m configuration written in \u001b[32m'/home/arne/Projects/Work/11.PHDD \u001b[0m  \u001b]8;id=811376;file:///home/arne/miniconda3/envs/manim/lib/python3.12/site-packages/manim_slides/slide/base.py\u001b\\\u001b[2mbase.py\u001b[0m\u001b]8;;\u001b\\\u001b[2m:\u001b[0m\u001b]8;id=442054;file:///home/arne/miniconda3/envs/manim/lib/python3.12/site-packages/manim_slides/slide/base.py#559\u001b\\\u001b[2m559\u001b[0m\u001b]8;;\u001b\\\n",
       "\u001b[2;36m                    \u001b[0m         \u001b[32mPhD Defense/public_defense/slides/Intro.json'\u001b[0m                              \u001b[2m           \u001b[0m\n"
      ]
     },
     "metadata": {},
     "output_type": "display_data"
    },
    {
     "data": {
      "text/html": [
       "<video src=\"media/jupyter/Intro@2024-11-03@17-24-07.mp4\" controls autoplay loop style=\"max-width: 60%;\"  >\n",
       "      Your browser does not support the <code>video</code> element.\n",
       "    </video>"
      ],
      "text/plain": [
       "<IPython.core.display.Video object>"
      ]
     },
     "metadata": {},
     "output_type": "display_data"
    }
   ],
   "source": [
    "%%manim -v WARNING --disable_caching -q l Intro\n",
    "\n",
    "class Intro(Slide):\n",
    "    def construct(self):\n",
    "        title1 = Text(\n",
    "            \"Unifying Attribution-Based Explanation Methods\", color=WHITE, font_size=40,\n",
    "        )\n",
    "        title2 = Text(\n",
    "            \"in Machine Learning\", color=WHITE, font_size=40,\n",
    "        ).next_to(title1, DOWN)\n",
    "        author_date = (\n",
    "            Text(\"Arne Gevaert - November 7th 2024\", color=WHITE, font_size=24)\n",
    "            .next_to(title2, DOWN)\n",
    "        )\n",
    "\n",
    "        self.next_slide()\n",
    "        self.play(FadeIn(title1), FadeIn(title2))\n",
    "        self.play(FadeIn(author_date))\n",
    "        self.next_slide()\n",
    "        self.play(FadeOut(title1),FadeOut(title2), FadeOut(author_date))\n",
    "        self.next_slide()"
   ]
  },
  {
   "cell_type": "code",
   "execution_count": 333,
   "id": "94f0a2d8-a4c5-452c-b6ba-a1e4c15701f3",
   "metadata": {
    "collapsed": true,
    "jupyter": {
     "outputs_hidden": true,
     "source_hidden": true
    }
   },
   "outputs": [
    {
     "data": {
      "text/html": [
       "<pre style=\"white-space:pre;overflow-x:auto;line-height:normal;font-family:Menlo,'DejaVu Sans Mono',consolas,'Courier New',monospace\">Manim Community <span style=\"color: #008000; text-decoration-color: #008000\">v0.18.1</span>\n",
       "\n",
       "</pre>\n"
      ],
      "text/plain": [
       "Manim Community \u001b[32mv0.\u001b[0m\u001b[32m18.1\u001b[0m\n",
       "\n"
      ]
     },
     "metadata": {},
     "output_type": "display_data"
    },
    {
     "name": "stderr",
     "output_type": "stream",
     "text": [
      "                                                                                                                                                                                                                                                                                                      "
     ]
    },
    {
     "data": {
      "text/html": [
       "<pre style=\"white-space:pre;overflow-x:auto;line-height:normal;font-family:Menlo,'DejaVu Sans Mono',consolas,'Courier New',monospace\"><span style=\"color: #7fbfbf; text-decoration-color: #7fbfbf\">[11/03/24 15:00:51] </span><span style=\"color: #000080; text-decoration-color: #000080\">INFO    </span> Generated <span style=\"color: #008080; text-decoration-color: #008080; font-weight: bold\">6</span> slides to <span style=\"color: #008000; text-decoration-color: #008000\">'/home/arne/Projects/Work/11.PHDD PhD </span>               <a href=\"file:///home/arne/miniconda3/envs/manim/lib/python3.12/site-packages/manim_slides/slide/base.py\" target=\"_blank\"><span style=\"color: #7f7f7f; text-decoration-color: #7f7f7f\">base.py</span></a><span style=\"color: #7f7f7f; text-decoration-color: #7f7f7f\">:</span><a href=\"file:///home/arne/miniconda3/envs/manim/lib/python3.12/site-packages/manim_slides/slide/base.py#547\" target=\"_blank\"><span style=\"color: #7f7f7f; text-decoration-color: #7f7f7f\">547</span></a>\n",
       "<span style=\"color: #7fbfbf; text-decoration-color: #7fbfbf\">                    </span>         <span style=\"color: #008000; text-decoration-color: #008000\">Defense/public_defense/slides/files/Chapter1_1'</span>                            <span style=\"color: #7f7f7f; text-decoration-color: #7f7f7f\">           </span>\n",
       "</pre>\n"
      ],
      "text/plain": [
       "\u001b[2;36m[11/03/24 15:00:51]\u001b[0m\u001b[2;36m \u001b[0m\u001b[34mINFO    \u001b[0m Generated \u001b[1;36m6\u001b[0m slides to \u001b[32m'/home/arne/Projects/Work/11.PHDD PhD \u001b[0m               \u001b]8;id=962890;file:///home/arne/miniconda3/envs/manim/lib/python3.12/site-packages/manim_slides/slide/base.py\u001b\\\u001b[2mbase.py\u001b[0m\u001b]8;;\u001b\\\u001b[2m:\u001b[0m\u001b]8;id=172251;file:///home/arne/miniconda3/envs/manim/lib/python3.12/site-packages/manim_slides/slide/base.py#547\u001b\\\u001b[2m547\u001b[0m\u001b]8;;\u001b\\\n",
       "\u001b[2;36m                    \u001b[0m         \u001b[32mDefense/public_defense/slides/files/Chapter1_1'\u001b[0m                            \u001b[2m           \u001b[0m\n"
      ]
     },
     "metadata": {},
     "output_type": "display_data"
    },
    {
     "data": {
      "text/html": [
       "<pre style=\"white-space:pre;overflow-x:auto;line-height:normal;font-family:Menlo,'DejaVu Sans Mono',consolas,'Courier New',monospace\"><span style=\"color: #7fbfbf; text-decoration-color: #7fbfbf\">                    </span><span style=\"color: #000080; text-decoration-color: #000080\">INFO    </span> Slide <span style=\"color: #008000; text-decoration-color: #008000\">'Chapter1_1'</span> configuration written in                                <a href=\"file:///home/arne/miniconda3/envs/manim/lib/python3.12/site-packages/manim_slides/slide/base.py\" target=\"_blank\"><span style=\"color: #7f7f7f; text-decoration-color: #7f7f7f\">base.py</span></a><span style=\"color: #7f7f7f; text-decoration-color: #7f7f7f\">:</span><a href=\"file:///home/arne/miniconda3/envs/manim/lib/python3.12/site-packages/manim_slides/slide/base.py#559\" target=\"_blank\"><span style=\"color: #7f7f7f; text-decoration-color: #7f7f7f\">559</span></a>\n",
       "<span style=\"color: #7fbfbf; text-decoration-color: #7fbfbf\">                    </span>         <span style=\"color: #008000; text-decoration-color: #008000\">'/home/arne/Projects/Work/11.PHDD PhD </span>                                     <span style=\"color: #7f7f7f; text-decoration-color: #7f7f7f\">           </span>\n",
       "<span style=\"color: #7fbfbf; text-decoration-color: #7fbfbf\">                    </span>         <span style=\"color: #008000; text-decoration-color: #008000\">Defense/public_defense/slides/Chapter1_1.json'</span>                             <span style=\"color: #7f7f7f; text-decoration-color: #7f7f7f\">           </span>\n",
       "</pre>\n"
      ],
      "text/plain": [
       "\u001b[2;36m                   \u001b[0m\u001b[2;36m \u001b[0m\u001b[34mINFO    \u001b[0m Slide \u001b[32m'Chapter1_1'\u001b[0m configuration written in                                \u001b]8;id=662530;file:///home/arne/miniconda3/envs/manim/lib/python3.12/site-packages/manim_slides/slide/base.py\u001b\\\u001b[2mbase.py\u001b[0m\u001b]8;;\u001b\\\u001b[2m:\u001b[0m\u001b]8;id=903143;file:///home/arne/miniconda3/envs/manim/lib/python3.12/site-packages/manim_slides/slide/base.py#559\u001b\\\u001b[2m559\u001b[0m\u001b]8;;\u001b\\\n",
       "\u001b[2;36m                    \u001b[0m         \u001b[32m'/home/arne/Projects/Work/11.PHDD PhD \u001b[0m                                     \u001b[2m           \u001b[0m\n",
       "\u001b[2;36m                    \u001b[0m         \u001b[32mDefense/public_defense/slides/Chapter1_1.json'\u001b[0m                             \u001b[2m           \u001b[0m\n"
      ]
     },
     "metadata": {},
     "output_type": "display_data"
    },
    {
     "data": {
      "text/html": [
       "<video src=\"media/jupyter/Chapter1_1@2024-11-03@15-00-51.mp4\" controls autoplay loop style=\"max-width: 60%;\"  >\n",
       "      Your browser does not support the <code>video</code> element.\n",
       "    </video>"
      ],
      "text/plain": [
       "<IPython.core.display.Video object>"
      ]
     },
     "metadata": {},
     "output_type": "display_data"
    }
   ],
   "source": [
    "%%manim -v WARNING --disable_caching -q l Chapter1_1\n",
    "\n",
    "class Chapter1_1(Slide):\n",
    "    def construct(self):\n",
    "        # GENERAL FUNCTION\n",
    "        rect = Rectangle(width=5, height=3)\n",
    "        f = MathTex(\"f\", font_size=100)\n",
    "        self.play(Create(rect), Write(f))\n",
    "        \n",
    "        self.next_slide()\n",
    "        \n",
    "        in_arrow = Arrow(start=LEFT, end=RIGHT).next_to(rect, direction=LEFT)\n",
    "        out_arrow = Arrow(start=LEFT, end=RIGHT).next_to(rect, direction=RIGHT)\n",
    "        x = MathTex(\"x\", font_size=100).next_to(in_arrow, direction=LEFT)\n",
    "        y = MathTex(\"y\", font_size=100).next_to(out_arrow, direction=RIGHT)\n",
    "        self.play(\n",
    "            DrawBorderThenFill(in_arrow, run_time=1),\n",
    "            Write(x, run_time=1)\n",
    "        )\n",
    "        self.play(\n",
    "            DrawBorderThenFill(out_arrow, run_time=1),\n",
    "            Write(y, run_time=1)\n",
    "        )\n",
    "\n",
    "        self.next_slide()\n",
    "        \n",
    "        # EXAMPLE FUNCTION\n",
    "        fun, fmt_str = example_function_1()\n",
    "        ex_f = MathTex(fmt_str.format(\"x\", \"x\"))\n",
    "        self.play(Transform(f, ex_f))\n",
    "\n",
    "        self.next_slide()\n",
    "\n",
    "        input_values = (6, 4)\n",
    "        for value in input_values:\n",
    "            in_tex = MathTex(str(value), font_size=100).next_to(in_arrow, direction=LEFT)\n",
    "            out_val = fun(value)\n",
    "            assert out_val == int(out_val), \"Output of function is not an integer\"\n",
    "            out_tex = MathTex(str(int(out_val)), font_size=100).next_to(out_arrow, direction=RIGHT)\n",
    "            ex_f_transformed = MathTex(fmt_str.format(str(value), str(value)))\n",
    "            self.play(\n",
    "                Transform(x, in_tex),\n",
    "                Transform(y, out_tex),\n",
    "                Transform(f, ex_f_transformed),\n",
    "            )\n",
    "            self.next_slide()\n",
    "        \n",
    "        self.play(\n",
    "            *[FadeOut(obj) for obj in self.mobjects_without_canvas]\n",
    "        )\n",
    "\n",
    "        self.next_slide()"
   ]
  },
  {
   "cell_type": "code",
   "execution_count": 9,
   "id": "2aa8cdc5-eeb4-4781-9ba9-081ec1a1e6c6",
   "metadata": {
    "collapsed": true,
    "jupyter": {
     "outputs_hidden": true,
     "source_hidden": true
    }
   },
   "outputs": [
    {
     "data": {
      "text/html": [
       "<pre style=\"white-space:pre;overflow-x:auto;line-height:normal;font-family:Menlo,'DejaVu Sans Mono',consolas,'Courier New',monospace\">Manim Community <span style=\"color: #008000; text-decoration-color: #008000\">v0.18.1</span>\n",
       "\n",
       "</pre>\n"
      ],
      "text/plain": [
       "Manim Community \u001b[32mv0.\u001b[0m\u001b[32m18.1\u001b[0m\n",
       "\n"
      ]
     },
     "metadata": {},
     "output_type": "display_data"
    },
    {
     "name": "stderr",
     "output_type": "stream",
     "text": [
      "                                                                                                                                                                                                                                                                                                      "
     ]
    },
    {
     "data": {
      "text/html": [
       "<pre style=\"white-space:pre;overflow-x:auto;line-height:normal;font-family:Menlo,'DejaVu Sans Mono',consolas,'Courier New',monospace\"><span style=\"color: #7fbfbf; text-decoration-color: #7fbfbf\">[11/02/24 15:08:45] </span><span style=\"color: #000080; text-decoration-color: #000080\">INFO    </span> Generated <span style=\"color: #008080; text-decoration-color: #008080; font-weight: bold\">7</span> slides to <span style=\"color: #008000; text-decoration-color: #008000\">'/home/arne/Projects/Work/11.PHDD PhD </span>               <a href=\"file:///home/arne/miniconda3/envs/manim/lib/python3.12/site-packages/manim_slides/slide/base.py\" target=\"_blank\"><span style=\"color: #7f7f7f; text-decoration-color: #7f7f7f\">base.py</span></a><span style=\"color: #7f7f7f; text-decoration-color: #7f7f7f\">:</span><a href=\"file:///home/arne/miniconda3/envs/manim/lib/python3.12/site-packages/manim_slides/slide/base.py#547\" target=\"_blank\"><span style=\"color: #7f7f7f; text-decoration-color: #7f7f7f\">547</span></a>\n",
       "<span style=\"color: #7fbfbf; text-decoration-color: #7fbfbf\">                    </span>         <span style=\"color: #008000; text-decoration-color: #008000\">Defense/public_defense/slides/files/Chapter1_2'</span>                            <span style=\"color: #7f7f7f; text-decoration-color: #7f7f7f\">           </span>\n",
       "</pre>\n"
      ],
      "text/plain": [
       "\u001b[2;36m[11/02/24 15:08:45]\u001b[0m\u001b[2;36m \u001b[0m\u001b[34mINFO    \u001b[0m Generated \u001b[1;36m7\u001b[0m slides to \u001b[32m'/home/arne/Projects/Work/11.PHDD PhD \u001b[0m               \u001b]8;id=365835;file:///home/arne/miniconda3/envs/manim/lib/python3.12/site-packages/manim_slides/slide/base.py\u001b\\\u001b[2mbase.py\u001b[0m\u001b]8;;\u001b\\\u001b[2m:\u001b[0m\u001b]8;id=655536;file:///home/arne/miniconda3/envs/manim/lib/python3.12/site-packages/manim_slides/slide/base.py#547\u001b\\\u001b[2m547\u001b[0m\u001b]8;;\u001b\\\n",
       "\u001b[2;36m                    \u001b[0m         \u001b[32mDefense/public_defense/slides/files/Chapter1_2'\u001b[0m                            \u001b[2m           \u001b[0m\n"
      ]
     },
     "metadata": {},
     "output_type": "display_data"
    },
    {
     "data": {
      "text/html": [
       "<pre style=\"white-space:pre;overflow-x:auto;line-height:normal;font-family:Menlo,'DejaVu Sans Mono',consolas,'Courier New',monospace\"><span style=\"color: #7fbfbf; text-decoration-color: #7fbfbf\">                    </span><span style=\"color: #000080; text-decoration-color: #000080\">INFO    </span> Slide <span style=\"color: #008000; text-decoration-color: #008000\">'Chapter1_2'</span> configuration written in                                <a href=\"file:///home/arne/miniconda3/envs/manim/lib/python3.12/site-packages/manim_slides/slide/base.py\" target=\"_blank\"><span style=\"color: #7f7f7f; text-decoration-color: #7f7f7f\">base.py</span></a><span style=\"color: #7f7f7f; text-decoration-color: #7f7f7f\">:</span><a href=\"file:///home/arne/miniconda3/envs/manim/lib/python3.12/site-packages/manim_slides/slide/base.py#559\" target=\"_blank\"><span style=\"color: #7f7f7f; text-decoration-color: #7f7f7f\">559</span></a>\n",
       "<span style=\"color: #7fbfbf; text-decoration-color: #7fbfbf\">                    </span>         <span style=\"color: #008000; text-decoration-color: #008000\">'/home/arne/Projects/Work/11.PHDD PhD </span>                                     <span style=\"color: #7f7f7f; text-decoration-color: #7f7f7f\">           </span>\n",
       "<span style=\"color: #7fbfbf; text-decoration-color: #7fbfbf\">                    </span>         <span style=\"color: #008000; text-decoration-color: #008000\">Defense/public_defense/slides/Chapter1_2.json'</span>                             <span style=\"color: #7f7f7f; text-decoration-color: #7f7f7f\">           </span>\n",
       "</pre>\n"
      ],
      "text/plain": [
       "\u001b[2;36m                   \u001b[0m\u001b[2;36m \u001b[0m\u001b[34mINFO    \u001b[0m Slide \u001b[32m'Chapter1_2'\u001b[0m configuration written in                                \u001b]8;id=387494;file:///home/arne/miniconda3/envs/manim/lib/python3.12/site-packages/manim_slides/slide/base.py\u001b\\\u001b[2mbase.py\u001b[0m\u001b]8;;\u001b\\\u001b[2m:\u001b[0m\u001b]8;id=782016;file:///home/arne/miniconda3/envs/manim/lib/python3.12/site-packages/manim_slides/slide/base.py#559\u001b\\\u001b[2m559\u001b[0m\u001b]8;;\u001b\\\n",
       "\u001b[2;36m                    \u001b[0m         \u001b[32m'/home/arne/Projects/Work/11.PHDD PhD \u001b[0m                                     \u001b[2m           \u001b[0m\n",
       "\u001b[2;36m                    \u001b[0m         \u001b[32mDefense/public_defense/slides/Chapter1_2.json'\u001b[0m                             \u001b[2m           \u001b[0m\n"
      ]
     },
     "metadata": {},
     "output_type": "display_data"
    },
    {
     "data": {
      "text/html": [
       "<video src=\"media/jupyter/Chapter1_2@2024-11-02@15-08-45.mp4\" controls autoplay loop style=\"max-width: 60%;\"  >\n",
       "      Your browser does not support the <code>video</code> element.\n",
       "    </video>"
      ],
      "text/plain": [
       "<IPython.core.display.Video object>"
      ]
     },
     "metadata": {},
     "output_type": "display_data"
    }
   ],
   "source": [
    "%%manim -v WARNING --disable_caching -q l Chapter1_2\n",
    "\n",
    "class Chapter1_2(Slide):\n",
    "    def construct(self):\n",
    "        # GRAPH\n",
    "        axis_config = {\"include_ticks\": True, \"include_numbers\": True}\n",
    "        plane = NumberPlane(x_axis_config=axis_config, y_axis_config=axis_config)\n",
    "        self.play(Write(plane))\n",
    "        \n",
    "        self.next_slide()\n",
    "\n",
    "        fun, fmt_str = example_function_1()\n",
    "\n",
    "        red_dots = []\n",
    "        for x in [6, 4]:\n",
    "            dot = Dot(color=RED).move_to([x, 0, 0])\n",
    "            dot.generate_target()\n",
    "            out = fun(x)\n",
    "            dot.target.shift(out*UP)\n",
    "            red_dots.append(dot)\n",
    "\n",
    "\n",
    "        self.play(*[DrawBorderThenFill(dot, run_time=0.5) for dot in red_dots])\n",
    "\n",
    "        self.next_slide()\n",
    "        self.play(*[MoveToTarget(dot) for dot in red_dots])\n",
    "\n",
    "        self.next_slide()\n",
    "\n",
    "        dots = []\n",
    "        for x in range(-35, 35, 1):\n",
    "            x = x/10*2\n",
    "            dot = Dot(color=WHITE).move_to([x, 0, 0]).scale(0.5)\n",
    "            dot.generate_target()\n",
    "            dot.target.shift(fun(x) * UP)\n",
    "            dots.append(dot)\n",
    "\n",
    "        self.next_slide()\n",
    "        \n",
    "        self.play(*[DrawBorderThenFill(dot, run_time=0.5) for dot in dots])\n",
    "\n",
    "        self.next_slide()\n",
    "        self.play(LaggedStart(*[MoveToTarget(dot) for dot in dots], lag_ratio=0.01))\n",
    "\n",
    "        self.next_slide()\n",
    "        graph = plane.plot(fun, color=WHITE)\n",
    "        self.play(\n",
    "            Create(graph),\n",
    "            *[FadeOut(dot) for dot in dots],\n",
    "            *[FadeOut(dot) for dot in red_dots]\n",
    "        )\n",
    "\n",
    "        self.next_slide()\n",
    "        self.play(\n",
    "            *[FadeOut(obj) for obj in self.mobjects_without_canvas]\n",
    "        )\n",
    "        self.next_slide()"
   ]
  },
  {
   "cell_type": "code",
   "execution_count": 50,
   "id": "1a920148-b89d-45e9-b920-190a0d61a82a",
   "metadata": {
    "collapsed": true,
    "jupyter": {
     "outputs_hidden": true,
     "source_hidden": true
    }
   },
   "outputs": [
    {
     "data": {
      "text/html": [
       "<pre style=\"white-space:pre;overflow-x:auto;line-height:normal;font-family:Menlo,'DejaVu Sans Mono',consolas,'Courier New',monospace\">Manim Community <span style=\"color: #008000; text-decoration-color: #008000\">v0.18.1</span>\n",
       "\n",
       "</pre>\n"
      ],
      "text/plain": [
       "Manim Community \u001b[32mv0.\u001b[0m\u001b[32m18.1\u001b[0m\n",
       "\n"
      ]
     },
     "metadata": {},
     "output_type": "display_data"
    },
    {
     "name": "stderr",
     "output_type": "stream",
     "text": [
      "                                                                                                                                                                                                                                                                                                      "
     ]
    },
    {
     "data": {
      "text/html": [
       "<pre style=\"white-space:pre;overflow-x:auto;line-height:normal;font-family:Menlo,'DejaVu Sans Mono',consolas,'Courier New',monospace\"><span style=\"color: #7fbfbf; text-decoration-color: #7fbfbf\">[11/02/24 15:36:23] </span><span style=\"color: #000080; text-decoration-color: #000080\">INFO    </span> Generated <span style=\"color: #008080; text-decoration-color: #008080; font-weight: bold\">8</span> slides to <span style=\"color: #008000; text-decoration-color: #008000\">'/home/arne/Projects/Work/11.PHDD PhD </span>               <a href=\"file:///home/arne/miniconda3/envs/manim/lib/python3.12/site-packages/manim_slides/slide/base.py\" target=\"_blank\"><span style=\"color: #7f7f7f; text-decoration-color: #7f7f7f\">base.py</span></a><span style=\"color: #7f7f7f; text-decoration-color: #7f7f7f\">:</span><a href=\"file:///home/arne/miniconda3/envs/manim/lib/python3.12/site-packages/manim_slides/slide/base.py#547\" target=\"_blank\"><span style=\"color: #7f7f7f; text-decoration-color: #7f7f7f\">547</span></a>\n",
       "<span style=\"color: #7fbfbf; text-decoration-color: #7fbfbf\">                    </span>         <span style=\"color: #008000; text-decoration-color: #008000\">Defense/public_defense/slides/files/Chapter1_3'</span>                            <span style=\"color: #7f7f7f; text-decoration-color: #7f7f7f\">           </span>\n",
       "</pre>\n"
      ],
      "text/plain": [
       "\u001b[2;36m[11/02/24 15:36:23]\u001b[0m\u001b[2;36m \u001b[0m\u001b[34mINFO    \u001b[0m Generated \u001b[1;36m8\u001b[0m slides to \u001b[32m'/home/arne/Projects/Work/11.PHDD PhD \u001b[0m               \u001b]8;id=347859;file:///home/arne/miniconda3/envs/manim/lib/python3.12/site-packages/manim_slides/slide/base.py\u001b\\\u001b[2mbase.py\u001b[0m\u001b]8;;\u001b\\\u001b[2m:\u001b[0m\u001b]8;id=690697;file:///home/arne/miniconda3/envs/manim/lib/python3.12/site-packages/manim_slides/slide/base.py#547\u001b\\\u001b[2m547\u001b[0m\u001b]8;;\u001b\\\n",
       "\u001b[2;36m                    \u001b[0m         \u001b[32mDefense/public_defense/slides/files/Chapter1_3'\u001b[0m                            \u001b[2m           \u001b[0m\n"
      ]
     },
     "metadata": {},
     "output_type": "display_data"
    },
    {
     "data": {
      "text/html": [
       "<pre style=\"white-space:pre;overflow-x:auto;line-height:normal;font-family:Menlo,'DejaVu Sans Mono',consolas,'Courier New',monospace\"><span style=\"color: #7fbfbf; text-decoration-color: #7fbfbf\">                    </span><span style=\"color: #000080; text-decoration-color: #000080\">INFO    </span> Slide <span style=\"color: #008000; text-decoration-color: #008000\">'Chapter1_3'</span> configuration written in                                <a href=\"file:///home/arne/miniconda3/envs/manim/lib/python3.12/site-packages/manim_slides/slide/base.py\" target=\"_blank\"><span style=\"color: #7f7f7f; text-decoration-color: #7f7f7f\">base.py</span></a><span style=\"color: #7f7f7f; text-decoration-color: #7f7f7f\">:</span><a href=\"file:///home/arne/miniconda3/envs/manim/lib/python3.12/site-packages/manim_slides/slide/base.py#559\" target=\"_blank\"><span style=\"color: #7f7f7f; text-decoration-color: #7f7f7f\">559</span></a>\n",
       "<span style=\"color: #7fbfbf; text-decoration-color: #7fbfbf\">                    </span>         <span style=\"color: #008000; text-decoration-color: #008000\">'/home/arne/Projects/Work/11.PHDD PhD </span>                                     <span style=\"color: #7f7f7f; text-decoration-color: #7f7f7f\">           </span>\n",
       "<span style=\"color: #7fbfbf; text-decoration-color: #7fbfbf\">                    </span>         <span style=\"color: #008000; text-decoration-color: #008000\">Defense/public_defense/slides/Chapter1_3.json'</span>                             <span style=\"color: #7f7f7f; text-decoration-color: #7f7f7f\">           </span>\n",
       "</pre>\n"
      ],
      "text/plain": [
       "\u001b[2;36m                   \u001b[0m\u001b[2;36m \u001b[0m\u001b[34mINFO    \u001b[0m Slide \u001b[32m'Chapter1_3'\u001b[0m configuration written in                                \u001b]8;id=473015;file:///home/arne/miniconda3/envs/manim/lib/python3.12/site-packages/manim_slides/slide/base.py\u001b\\\u001b[2mbase.py\u001b[0m\u001b]8;;\u001b\\\u001b[2m:\u001b[0m\u001b]8;id=421455;file:///home/arne/miniconda3/envs/manim/lib/python3.12/site-packages/manim_slides/slide/base.py#559\u001b\\\u001b[2m559\u001b[0m\u001b]8;;\u001b\\\n",
       "\u001b[2;36m                    \u001b[0m         \u001b[32m'/home/arne/Projects/Work/11.PHDD PhD \u001b[0m                                     \u001b[2m           \u001b[0m\n",
       "\u001b[2;36m                    \u001b[0m         \u001b[32mDefense/public_defense/slides/Chapter1_3.json'\u001b[0m                             \u001b[2m           \u001b[0m\n"
      ]
     },
     "metadata": {},
     "output_type": "display_data"
    },
    {
     "data": {
      "text/html": [
       "<video src=\"media/jupyter/Chapter1_3@2024-11-02@15-36-23.mp4\" controls autoplay loop style=\"max-width: 60%;\"  >\n",
       "      Your browser does not support the <code>video</code> element.\n",
       "    </video>"
      ],
      "text/plain": [
       "<IPython.core.display.Video object>"
      ]
     },
     "metadata": {},
     "output_type": "display_data"
    }
   ],
   "source": [
    "%%manim -v WARNING --disable_caching -q l Chapter1_3\n",
    "\n",
    "class Chapter1_3(Slide):\n",
    "    def construct(self):\n",
    "        # Look at equation parameters\n",
    "        eq = MathTex(\"f(x) = 0.5 * x - 1\", font_size=100, substrings_to_isolate=[\"0.5\", \"1\"])\n",
    "        self.play(Write(eq))\n",
    "        self.next_slide()\n",
    "        \n",
    "        params = [\"0.5\", \"1\"]\n",
    "\n",
    "        for param in params:\n",
    "            p = eq.get_parts_by_tex(param)\n",
    "            p.generate_target()\n",
    "            p.target.set_color(YELLOW)\n",
    "            self.play(\n",
    "                Circumscribe(p),\n",
    "                MoveToTarget(p)\n",
    "            )\n",
    "            self.next_slide()\n",
    "\n",
    "        # Show influence on line\n",
    "        axis_config = {\"include_ticks\": True, \"include_numbers\": True}\n",
    "        plane = NumberPlane(x_axis_config=axis_config, y_axis_config=axis_config, background_line_style={\n",
    "                \"stroke_width\": 4,\n",
    "                \"stroke_opacity\": 0.2\n",
    "            })\n",
    "        eq.generate_target()\n",
    "        eq.target.to_corner(UL).shift(2 * LEFT).scale(0.5)\n",
    "        graph = plane.plot(lambda x: 0.5 * x - 1, color=WHITE)\n",
    "        self.play(\n",
    "            Write(plane),\n",
    "            MoveToTarget(eq)\n",
    "        )\n",
    "        self.play(Create(graph))\n",
    "\n",
    "        self.next_slide()\n",
    "\n",
    "        graph2 = plane.plot(lambda x: x - 1, color=WHITE)\n",
    "        eq2 = MathTex(\"f(x) = 1 * x - 1\", font_size=100, substrings_to_isolate=[\"1\"]).to_corner(UL).shift(2 * LEFT).scale(0.5)\n",
    "        eq2.set_color_by_tex(\"1\", YELLOW)\n",
    "        self.play(\n",
    "            Transform(graph, graph2),\n",
    "            Transform(eq, eq2)\n",
    "        )\n",
    "\n",
    "        self.next_slide()\n",
    "\n",
    "        graph3 = plane.plot(lambda x: 0.5 * x - 1, color=WHITE)\n",
    "        eq3 = MathTex(\"f(x) = 0.5 * x - 1\", font_size=100, substrings_to_isolate=[\"0.5\", \"1\"]).to_corner(UL).shift(2 * LEFT).scale(0.5)\n",
    "        eq3.set_color_by_tex(\"1\", YELLOW)\n",
    "        eq3.set_color_by_tex(\"0.5\", YELLOW)\n",
    "        self.play(\n",
    "            Transform(graph, graph3),\n",
    "            Transform(eq, eq3)\n",
    "        )\n",
    "\n",
    "        self.next_slide()\n",
    "\n",
    "        graph4 = plane.plot(lambda x: 0.5 * x - 2, color=WHITE)\n",
    "        eq4 = MathTex(\"f(x) = 0.5 * x - 2\", font_size=100, substrings_to_isolate=[\"0.5\", \"2\"]).to_corner(UL).shift(2 * LEFT).scale(0.5)\n",
    "        eq4.set_color_by_tex(\"2\", YELLOW)\n",
    "        eq4.set_color_by_tex(\"0.5\", YELLOW)\n",
    "        self.play(\n",
    "            Transform(graph, graph4),\n",
    "            Transform(eq, eq4)\n",
    "        )\n",
    "\n",
    "        self.next_slide()\n",
    "\n",
    "        graph5 = plane.plot(lambda x: 0.5 * x - 1, color=WHITE)\n",
    "        eq5 = MathTex(\"f(x) = 0.5 * x - 1\", font_size=100, substrings_to_isolate=[\"0.5\", \"1\"]).to_corner(UL).shift(2 * LEFT).scale(0.5)\n",
    "        eq5.set_color_by_tex(\"1\", YELLOW)\n",
    "        eq5.set_color_by_tex(\"0.5\", YELLOW)\n",
    "        self.play(\n",
    "            Transform(graph, graph5),\n",
    "            Transform(eq, eq5)\n",
    "        )\n",
    "\n",
    "        self.next_slide()\n",
    "        self.play(\n",
    "            *[FadeOut(obj) for obj in self.mobjects_without_canvas]\n",
    "        )\n",
    "        self.next_slide()"
   ]
  },
  {
   "cell_type": "code",
   "execution_count": 107,
   "id": "4c97d3be-ad6a-44d4-bf5d-d6e00e7f5a07",
   "metadata": {
    "collapsed": true,
    "jupyter": {
     "outputs_hidden": true,
     "source_hidden": true
    }
   },
   "outputs": [
    {
     "data": {
      "text/html": [
       "<pre style=\"white-space:pre;overflow-x:auto;line-height:normal;font-family:Menlo,'DejaVu Sans Mono',consolas,'Courier New',monospace\">Manim Community <span style=\"color: #008000; text-decoration-color: #008000\">v0.18.1</span>\n",
       "\n",
       "</pre>\n"
      ],
      "text/plain": [
       "Manim Community \u001b[32mv0.\u001b[0m\u001b[32m18.1\u001b[0m\n",
       "\n"
      ]
     },
     "metadata": {},
     "output_type": "display_data"
    },
    {
     "name": "stderr",
     "output_type": "stream",
     "text": [
      "                                                                                                                                                                                                                                                                                                      "
     ]
    },
    {
     "data": {
      "text/html": [
       "<pre style=\"white-space:pre;overflow-x:auto;line-height:normal;font-family:Menlo,'DejaVu Sans Mono',consolas,'Courier New',monospace\"><span style=\"color: #7fbfbf; text-decoration-color: #7fbfbf\">[11/02/24 19:33:39] </span><span style=\"color: #000080; text-decoration-color: #000080\">INFO    </span> Generated <span style=\"color: #008080; text-decoration-color: #008080; font-weight: bold\">5</span> slides to <span style=\"color: #008000; text-decoration-color: #008000\">'/home/arne/Projects/Work/11.PHDD PhD </span>               <a href=\"file:///home/arne/miniconda3/envs/manim/lib/python3.12/site-packages/manim_slides/slide/base.py\" target=\"_blank\"><span style=\"color: #7f7f7f; text-decoration-color: #7f7f7f\">base.py</span></a><span style=\"color: #7f7f7f; text-decoration-color: #7f7f7f\">:</span><a href=\"file:///home/arne/miniconda3/envs/manim/lib/python3.12/site-packages/manim_slides/slide/base.py#547\" target=\"_blank\"><span style=\"color: #7f7f7f; text-decoration-color: #7f7f7f\">547</span></a>\n",
       "<span style=\"color: #7fbfbf; text-decoration-color: #7fbfbf\">                    </span>         <span style=\"color: #008000; text-decoration-color: #008000\">Defense/public_defense/slides/files/Chapter1_4'</span>                            <span style=\"color: #7f7f7f; text-decoration-color: #7f7f7f\">           </span>\n",
       "</pre>\n"
      ],
      "text/plain": [
       "\u001b[2;36m[11/02/24 19:33:39]\u001b[0m\u001b[2;36m \u001b[0m\u001b[34mINFO    \u001b[0m Generated \u001b[1;36m5\u001b[0m slides to \u001b[32m'/home/arne/Projects/Work/11.PHDD PhD \u001b[0m               \u001b]8;id=145306;file:///home/arne/miniconda3/envs/manim/lib/python3.12/site-packages/manim_slides/slide/base.py\u001b\\\u001b[2mbase.py\u001b[0m\u001b]8;;\u001b\\\u001b[2m:\u001b[0m\u001b]8;id=193352;file:///home/arne/miniconda3/envs/manim/lib/python3.12/site-packages/manim_slides/slide/base.py#547\u001b\\\u001b[2m547\u001b[0m\u001b]8;;\u001b\\\n",
       "\u001b[2;36m                    \u001b[0m         \u001b[32mDefense/public_defense/slides/files/Chapter1_4'\u001b[0m                            \u001b[2m           \u001b[0m\n"
      ]
     },
     "metadata": {},
     "output_type": "display_data"
    },
    {
     "data": {
      "text/html": [
       "<pre style=\"white-space:pre;overflow-x:auto;line-height:normal;font-family:Menlo,'DejaVu Sans Mono',consolas,'Courier New',monospace\"><span style=\"color: #7fbfbf; text-decoration-color: #7fbfbf\">                    </span><span style=\"color: #000080; text-decoration-color: #000080\">INFO    </span> Slide <span style=\"color: #008000; text-decoration-color: #008000\">'Chapter1_4'</span> configuration written in                                <a href=\"file:///home/arne/miniconda3/envs/manim/lib/python3.12/site-packages/manim_slides/slide/base.py\" target=\"_blank\"><span style=\"color: #7f7f7f; text-decoration-color: #7f7f7f\">base.py</span></a><span style=\"color: #7f7f7f; text-decoration-color: #7f7f7f\">:</span><a href=\"file:///home/arne/miniconda3/envs/manim/lib/python3.12/site-packages/manim_slides/slide/base.py#559\" target=\"_blank\"><span style=\"color: #7f7f7f; text-decoration-color: #7f7f7f\">559</span></a>\n",
       "<span style=\"color: #7fbfbf; text-decoration-color: #7fbfbf\">                    </span>         <span style=\"color: #008000; text-decoration-color: #008000\">'/home/arne/Projects/Work/11.PHDD PhD </span>                                     <span style=\"color: #7f7f7f; text-decoration-color: #7f7f7f\">           </span>\n",
       "<span style=\"color: #7fbfbf; text-decoration-color: #7fbfbf\">                    </span>         <span style=\"color: #008000; text-decoration-color: #008000\">Defense/public_defense/slides/Chapter1_4.json'</span>                             <span style=\"color: #7f7f7f; text-decoration-color: #7f7f7f\">           </span>\n",
       "</pre>\n"
      ],
      "text/plain": [
       "\u001b[2;36m                   \u001b[0m\u001b[2;36m \u001b[0m\u001b[34mINFO    \u001b[0m Slide \u001b[32m'Chapter1_4'\u001b[0m configuration written in                                \u001b]8;id=880804;file:///home/arne/miniconda3/envs/manim/lib/python3.12/site-packages/manim_slides/slide/base.py\u001b\\\u001b[2mbase.py\u001b[0m\u001b]8;;\u001b\\\u001b[2m:\u001b[0m\u001b]8;id=150678;file:///home/arne/miniconda3/envs/manim/lib/python3.12/site-packages/manim_slides/slide/base.py#559\u001b\\\u001b[2m559\u001b[0m\u001b]8;;\u001b\\\n",
       "\u001b[2;36m                    \u001b[0m         \u001b[32m'/home/arne/Projects/Work/11.PHDD PhD \u001b[0m                                     \u001b[2m           \u001b[0m\n",
       "\u001b[2;36m                    \u001b[0m         \u001b[32mDefense/public_defense/slides/Chapter1_4.json'\u001b[0m                             \u001b[2m           \u001b[0m\n"
      ]
     },
     "metadata": {},
     "output_type": "display_data"
    },
    {
     "data": {
      "text/html": [
       "<video src=\"media/jupyter/Chapter1_4@2024-11-02@19-33-39.mp4\" controls autoplay loop style=\"max-width: 60%;\"  >\n",
       "      Your browser does not support the <code>video</code> element.\n",
       "    </video>"
      ],
      "text/plain": [
       "<IPython.core.display.Video object>"
      ]
     },
     "metadata": {},
     "output_type": "display_data"
    }
   ],
   "source": [
    "%%manim -v WARNING --disable_caching -q l Chapter1_4\n",
    "\n",
    "class Chapter1_4(Slide):\n",
    "    def construct(self):\n",
    "        # Draw axes\n",
    "        axis_config = {\"include_ticks\": True, \"include_numbers\": True, }\n",
    "        plane = NumberPlane(\n",
    "            x_axis_config=axis_config, \n",
    "            y_axis_config=axis_config, \n",
    "            background_line_style={\n",
    "                \"stroke_width\": 4,\n",
    "                \"stroke_opacity\": 0.2\n",
    "            },\n",
    "            x_range=(-6, 22, 2),\n",
    "            x_length=config.frame_width,\n",
    "            y_range=(-1, 7),\n",
    "            y_length=config.frame_height)\n",
    "        self.play(Write(plane))\n",
    "\n",
    "        self.next_slide()\n",
    "        \n",
    "        # Generate data\n",
    "        def true_fn(x):\n",
    "            return 5 - x / 4\n",
    "\n",
    "        x_points = np.arange(-3, 19, 2)\n",
    "        rng = np.random.default_rng(seed=0)\n",
    "        noise = rng.normal(0, 0.5, len(x_points))\n",
    "        y_points = true_fn(x_points) + noise\n",
    "\n",
    "        dots = []\n",
    "        for x, y in zip(x_points, y_points):\n",
    "            dot = Dot().move_to(plane.coords_to_point(x, y, 0))\n",
    "            dots.append(dot)\n",
    "\n",
    "        self.play(Create(dot) for dot in dots)\n",
    "\n",
    "        self.next_slide()\n",
    "        \n",
    "        # Random line\n",
    "        # TODO add a little equation on the top right of the screen\n",
    "        # TODO add error function\n",
    "        rand_line = plane.plot(lambda x: 0.1 * x + 0.5)\n",
    "        self.play(Create(rand_line))\n",
    "\n",
    "        self.next_slide()\n",
    "        \n",
    "        # TODO split animation: first fit slope, then intercept\n",
    "        lm = linreg_univariate(x_points, y_points)\n",
    "        reg_line = plane.plot(lambda x: lm.predict(np.array(x).reshape(-1,1))[0])\n",
    "        self.play(Transform(rand_line, reg_line))\n",
    "\n",
    "        self.next_slide()\n",
    "        self.play(\n",
    "            *[FadeOut(obj) for obj in self.mobjects_without_canvas]\n",
    "        )\n",
    "        self.next_slide()"
   ]
  },
  {
   "cell_type": "code",
   "execution_count": 109,
   "id": "a49e3f24-5ee5-4396-b7cb-a4e83c5969cd",
   "metadata": {
    "collapsed": true,
    "jupyter": {
     "outputs_hidden": true,
     "source_hidden": true
    }
   },
   "outputs": [
    {
     "data": {
      "text/html": [
       "<pre style=\"white-space:pre;overflow-x:auto;line-height:normal;font-family:Menlo,'DejaVu Sans Mono',consolas,'Courier New',monospace\">Manim Community <span style=\"color: #008000; text-decoration-color: #008000\">v0.18.1</span>\n",
       "\n",
       "</pre>\n"
      ],
      "text/plain": [
       "Manim Community \u001b[32mv0.\u001b[0m\u001b[32m18.1\u001b[0m\n",
       "\n"
      ]
     },
     "metadata": {},
     "output_type": "display_data"
    },
    {
     "name": "stderr",
     "output_type": "stream",
     "text": [
      "                                                                                                                                                                                                                                                                                                      "
     ]
    },
    {
     "data": {
      "text/html": [
       "<pre style=\"white-space:pre;overflow-x:auto;line-height:normal;font-family:Menlo,'DejaVu Sans Mono',consolas,'Courier New',monospace\"><span style=\"color: #7fbfbf; text-decoration-color: #7fbfbf\">[11/02/24 19:41:22] </span><span style=\"color: #000080; text-decoration-color: #000080\">INFO    </span> Generated <span style=\"color: #008080; text-decoration-color: #008080; font-weight: bold\">1</span> slides to <span style=\"color: #008000; text-decoration-color: #008000\">'/home/arne/Projects/Work/11.PHDD PhD </span>               <a href=\"file:///home/arne/miniconda3/envs/manim/lib/python3.12/site-packages/manim_slides/slide/base.py\" target=\"_blank\"><span style=\"color: #7f7f7f; text-decoration-color: #7f7f7f\">base.py</span></a><span style=\"color: #7f7f7f; text-decoration-color: #7f7f7f\">:</span><a href=\"file:///home/arne/miniconda3/envs/manim/lib/python3.12/site-packages/manim_slides/slide/base.py#547\" target=\"_blank\"><span style=\"color: #7f7f7f; text-decoration-color: #7f7f7f\">547</span></a>\n",
       "<span style=\"color: #7fbfbf; text-decoration-color: #7fbfbf\">                    </span>         <span style=\"color: #008000; text-decoration-color: #008000\">Defense/public_defense/slides/files/Chapter1_5'</span>                            <span style=\"color: #7f7f7f; text-decoration-color: #7f7f7f\">           </span>\n",
       "</pre>\n"
      ],
      "text/plain": [
       "\u001b[2;36m[11/02/24 19:41:22]\u001b[0m\u001b[2;36m \u001b[0m\u001b[34mINFO    \u001b[0m Generated \u001b[1;36m1\u001b[0m slides to \u001b[32m'/home/arne/Projects/Work/11.PHDD PhD \u001b[0m               \u001b]8;id=727564;file:///home/arne/miniconda3/envs/manim/lib/python3.12/site-packages/manim_slides/slide/base.py\u001b\\\u001b[2mbase.py\u001b[0m\u001b]8;;\u001b\\\u001b[2m:\u001b[0m\u001b]8;id=70419;file:///home/arne/miniconda3/envs/manim/lib/python3.12/site-packages/manim_slides/slide/base.py#547\u001b\\\u001b[2m547\u001b[0m\u001b]8;;\u001b\\\n",
       "\u001b[2;36m                    \u001b[0m         \u001b[32mDefense/public_defense/slides/files/Chapter1_5'\u001b[0m                            \u001b[2m           \u001b[0m\n"
      ]
     },
     "metadata": {},
     "output_type": "display_data"
    },
    {
     "data": {
      "text/html": [
       "<pre style=\"white-space:pre;overflow-x:auto;line-height:normal;font-family:Menlo,'DejaVu Sans Mono',consolas,'Courier New',monospace\"><span style=\"color: #7fbfbf; text-decoration-color: #7fbfbf\">                    </span><span style=\"color: #000080; text-decoration-color: #000080\">INFO    </span> Slide <span style=\"color: #008000; text-decoration-color: #008000\">'Chapter1_5'</span> configuration written in                                <a href=\"file:///home/arne/miniconda3/envs/manim/lib/python3.12/site-packages/manim_slides/slide/base.py\" target=\"_blank\"><span style=\"color: #7f7f7f; text-decoration-color: #7f7f7f\">base.py</span></a><span style=\"color: #7f7f7f; text-decoration-color: #7f7f7f\">:</span><a href=\"file:///home/arne/miniconda3/envs/manim/lib/python3.12/site-packages/manim_slides/slide/base.py#559\" target=\"_blank\"><span style=\"color: #7f7f7f; text-decoration-color: #7f7f7f\">559</span></a>\n",
       "<span style=\"color: #7fbfbf; text-decoration-color: #7fbfbf\">                    </span>         <span style=\"color: #008000; text-decoration-color: #008000\">'/home/arne/Projects/Work/11.PHDD PhD </span>                                     <span style=\"color: #7f7f7f; text-decoration-color: #7f7f7f\">           </span>\n",
       "<span style=\"color: #7fbfbf; text-decoration-color: #7fbfbf\">                    </span>         <span style=\"color: #008000; text-decoration-color: #008000\">Defense/public_defense/slides/Chapter1_5.json'</span>                             <span style=\"color: #7f7f7f; text-decoration-color: #7f7f7f\">           </span>\n",
       "</pre>\n"
      ],
      "text/plain": [
       "\u001b[2;36m                   \u001b[0m\u001b[2;36m \u001b[0m\u001b[34mINFO    \u001b[0m Slide \u001b[32m'Chapter1_5'\u001b[0m configuration written in                                \u001b]8;id=371565;file:///home/arne/miniconda3/envs/manim/lib/python3.12/site-packages/manim_slides/slide/base.py\u001b\\\u001b[2mbase.py\u001b[0m\u001b]8;;\u001b\\\u001b[2m:\u001b[0m\u001b]8;id=169316;file:///home/arne/miniconda3/envs/manim/lib/python3.12/site-packages/manim_slides/slide/base.py#559\u001b\\\u001b[2m559\u001b[0m\u001b]8;;\u001b\\\n",
       "\u001b[2;36m                    \u001b[0m         \u001b[32m'/home/arne/Projects/Work/11.PHDD PhD \u001b[0m                                     \u001b[2m           \u001b[0m\n",
       "\u001b[2;36m                    \u001b[0m         \u001b[32mDefense/public_defense/slides/Chapter1_5.json'\u001b[0m                             \u001b[2m           \u001b[0m\n"
      ]
     },
     "metadata": {},
     "output_type": "display_data"
    },
    {
     "data": {
      "text/html": [
       "<video src=\"media/jupyter/Chapter1_5@2024-11-02@19-41-22.mp4\" controls autoplay loop style=\"max-width: 60%;\"  >\n",
       "      Your browser does not support the <code>video</code> element.\n",
       "    </video>"
      ],
      "text/plain": [
       "<IPython.core.display.Video object>"
      ]
     },
     "metadata": {},
     "output_type": "display_data"
    }
   ],
   "source": [
    "%%manim -v WARNING --disable_caching -q l Chapter1_5\n",
    "\n",
    "class Chapter1_5(ThreeDSlide):\n",
    "    def construct(self):\n",
    "        axes = ThreeDAxes()\n",
    "        self.set_camera_orientation(theta=-45 * DEGREES, phi=75 * DEGREES)\n",
    "        self.begin_ambient_camera_rotation(rate=75 * DEGREES / 4)\n",
    "\n",
    "        rng = np.random.default_rng(seed=0)\n",
    "        n_points = 10\n",
    "        data = rng.uniform(low=-3, high=3, size=(n_points, 2))\n",
    "        \n",
    "        dots = [Dot3D(color=RED, point=axes.coords_to_point(row[0], row[1], 0)) for row in data]\n",
    "        self.play(\n",
    "            Write(axes),\n",
    "            *[FadeIn(dot) for dot in dots]\n",
    "        )\n",
    "\n",
    "        def outcome(x):\n",
    "            return 0.5 * x[:, 0] - 0.25 * x[:, 1]\n",
    "        \n",
    "        rng = np.random.default_rng(seed=0)\n",
    "        noise = rng.normal(0, 0.5, n_points)\n",
    "        y = outcome(data) + noise\n",
    "\n",
    "        self.play(Wait(run_time=3))\n",
    "\n",
    "        for dot, y_val in zip(dots, y):\n",
    "            dot.generate_target()\n",
    "            dot.target.shift(axes.coords_to_point(0, 0, y_val))\n",
    "        self.play(\n",
    "            *[MoveToTarget(dot) for dot in dots]\n",
    "        )\n",
    "\n",
    "        self.play(Wait(run_time=3))\n",
    "\n",
    "\n",
    "        surface = Surface(\n",
    "            lambda u, v: axes.c2p(u, v, 0.5 * u - 0.25 * v),\n",
    "            u_range=[-7, 7],\n",
    "            v_range=[-7, 7],\n",
    "            resolution=8,\n",
    "            fill_opacity=0.5\n",
    "        )\n",
    "        self.play(\n",
    "            DrawBorderThenFill(surface)\n",
    "        )\n",
    "        \n",
    "        self.play(Wait(run_time=3))\n",
    "\n",
    "        self.next_slide()\n",
    "        self.play(\n",
    "            *[FadeOut(obj) for obj in self.mobjects_without_canvas]\n",
    "        )\n",
    "        self.next_slide()"
   ]
  },
  {
   "cell_type": "code",
   "execution_count": 52,
   "id": "bf68de2c-7e44-4008-963a-2eb5cc0937b3",
   "metadata": {
    "collapsed": true,
    "jupyter": {
     "outputs_hidden": true,
     "source_hidden": true
    }
   },
   "outputs": [
    {
     "name": "stderr",
     "output_type": "stream",
     "text": [
      "<string>:5: SyntaxWarning: invalid escape sequence '\\%'\n"
     ]
    },
    {
     "data": {
      "text/html": [
       "<pre style=\"white-space:pre;overflow-x:auto;line-height:normal;font-family:Menlo,'DejaVu Sans Mono',consolas,'Courier New',monospace\">Manim Community <span style=\"color: #008000; text-decoration-color: #008000\">v0.18.1</span>\n",
       "\n",
       "</pre>\n"
      ],
      "text/plain": [
       "Manim Community \u001b[32mv0.\u001b[0m\u001b[32m18.1\u001b[0m\n",
       "\n"
      ]
     },
     "metadata": {},
     "output_type": "display_data"
    },
    {
     "name": "stderr",
     "output_type": "stream",
     "text": [
      "                                                                                                                                                                                                                                                                                                      "
     ]
    },
    {
     "data": {
      "text/html": [
       "<pre style=\"white-space:pre;overflow-x:auto;line-height:normal;font-family:Menlo,'DejaVu Sans Mono',consolas,'Courier New',monospace\"><span style=\"color: #7fbfbf; text-decoration-color: #7fbfbf\">[11/02/24 18:34:56] </span><span style=\"color: #000080; text-decoration-color: #000080\">INFO    </span> Generated <span style=\"color: #008080; text-decoration-color: #008080; font-weight: bold\">3</span> slides to <span style=\"color: #008000; text-decoration-color: #008000\">'/home/arne/Projects/Work/11.PHDD PhD </span>               <a href=\"file:///home/arne/miniconda3/envs/manim/lib/python3.12/site-packages/manim_slides/slide/base.py\" target=\"_blank\"><span style=\"color: #7f7f7f; text-decoration-color: #7f7f7f\">base.py</span></a><span style=\"color: #7f7f7f; text-decoration-color: #7f7f7f\">:</span><a href=\"file:///home/arne/miniconda3/envs/manim/lib/python3.12/site-packages/manim_slides/slide/base.py#547\" target=\"_blank\"><span style=\"color: #7f7f7f; text-decoration-color: #7f7f7f\">547</span></a>\n",
       "<span style=\"color: #7fbfbf; text-decoration-color: #7fbfbf\">                    </span>         <span style=\"color: #008000; text-decoration-color: #008000\">Defense/public_defense/slides/files/Chapter1_5'</span>                            <span style=\"color: #7f7f7f; text-decoration-color: #7f7f7f\">           </span>\n",
       "</pre>\n"
      ],
      "text/plain": [
       "\u001b[2;36m[11/02/24 18:34:56]\u001b[0m\u001b[2;36m \u001b[0m\u001b[34mINFO    \u001b[0m Generated \u001b[1;36m3\u001b[0m slides to \u001b[32m'/home/arne/Projects/Work/11.PHDD PhD \u001b[0m               \u001b]8;id=824332;file:///home/arne/miniconda3/envs/manim/lib/python3.12/site-packages/manim_slides/slide/base.py\u001b\\\u001b[2mbase.py\u001b[0m\u001b]8;;\u001b\\\u001b[2m:\u001b[0m\u001b]8;id=60186;file:///home/arne/miniconda3/envs/manim/lib/python3.12/site-packages/manim_slides/slide/base.py#547\u001b\\\u001b[2m547\u001b[0m\u001b]8;;\u001b\\\n",
       "\u001b[2;36m                    \u001b[0m         \u001b[32mDefense/public_defense/slides/files/Chapter1_5'\u001b[0m                            \u001b[2m           \u001b[0m\n"
      ]
     },
     "metadata": {},
     "output_type": "display_data"
    },
    {
     "data": {
      "text/html": [
       "<pre style=\"white-space:pre;overflow-x:auto;line-height:normal;font-family:Menlo,'DejaVu Sans Mono',consolas,'Courier New',monospace\"><span style=\"color: #7fbfbf; text-decoration-color: #7fbfbf\">                    </span><span style=\"color: #000080; text-decoration-color: #000080\">INFO    </span> Slide <span style=\"color: #008000; text-decoration-color: #008000\">'Chapter1_5'</span> configuration written in                                <a href=\"file:///home/arne/miniconda3/envs/manim/lib/python3.12/site-packages/manim_slides/slide/base.py\" target=\"_blank\"><span style=\"color: #7f7f7f; text-decoration-color: #7f7f7f\">base.py</span></a><span style=\"color: #7f7f7f; text-decoration-color: #7f7f7f\">:</span><a href=\"file:///home/arne/miniconda3/envs/manim/lib/python3.12/site-packages/manim_slides/slide/base.py#559\" target=\"_blank\"><span style=\"color: #7f7f7f; text-decoration-color: #7f7f7f\">559</span></a>\n",
       "<span style=\"color: #7fbfbf; text-decoration-color: #7fbfbf\">                    </span>         <span style=\"color: #008000; text-decoration-color: #008000\">'/home/arne/Projects/Work/11.PHDD PhD </span>                                     <span style=\"color: #7f7f7f; text-decoration-color: #7f7f7f\">           </span>\n",
       "<span style=\"color: #7fbfbf; text-decoration-color: #7fbfbf\">                    </span>         <span style=\"color: #008000; text-decoration-color: #008000\">Defense/public_defense/slides/Chapter1_5.json'</span>                             <span style=\"color: #7f7f7f; text-decoration-color: #7f7f7f\">           </span>\n",
       "</pre>\n"
      ],
      "text/plain": [
       "\u001b[2;36m                   \u001b[0m\u001b[2;36m \u001b[0m\u001b[34mINFO    \u001b[0m Slide \u001b[32m'Chapter1_5'\u001b[0m configuration written in                                \u001b]8;id=687089;file:///home/arne/miniconda3/envs/manim/lib/python3.12/site-packages/manim_slides/slide/base.py\u001b\\\u001b[2mbase.py\u001b[0m\u001b]8;;\u001b\\\u001b[2m:\u001b[0m\u001b]8;id=869608;file:///home/arne/miniconda3/envs/manim/lib/python3.12/site-packages/manim_slides/slide/base.py#559\u001b\\\u001b[2m559\u001b[0m\u001b]8;;\u001b\\\n",
       "\u001b[2;36m                    \u001b[0m         \u001b[32m'/home/arne/Projects/Work/11.PHDD PhD \u001b[0m                                     \u001b[2m           \u001b[0m\n",
       "\u001b[2;36m                    \u001b[0m         \u001b[32mDefense/public_defense/slides/Chapter1_5.json'\u001b[0m                             \u001b[2m           \u001b[0m\n"
      ]
     },
     "metadata": {},
     "output_type": "display_data"
    },
    {
     "data": {
      "text/html": [
       "<video src=\"media/jupyter/Chapter1_5@2024-11-02@18-34-56.mp4\" controls autoplay loop style=\"max-width: 60%;\"  >\n",
       "      Your browser does not support the <code>video</code> element.\n",
       "    </video>"
      ],
      "text/plain": [
       "<IPython.core.display.Video object>"
      ]
     },
     "metadata": {},
     "output_type": "display_data"
    }
   ],
   "source": [
    "%%manim -v WARNING --disable_caching -q l Chapter1_6\n",
    "\n",
    "class Chapter1_6(Slide):\n",
    "    def construct(self):\n",
    "        rows = [Text(f\"Day {i+1}\") for i in range(6)]\n",
    "        cols = [Tex(label) for label in [\"$x_1$: Temp (C)\", \"$x_1$: People\", \"$x_1$: Sun (\\%)\", \"$y$: Energy\"]]\n",
    "        data = [\n",
    "            [14, 3, 70],\n",
    "            [17, 4, 80],\n",
    "            [13, 3, 75],\n",
    "            [5, 2, 65],\n",
    "            [8, 3, 70],\n",
    "            [10, 4, 80]\n",
    "        ]\n",
    "        def outcome(x):\n",
    "            rng = np.random.default_rng(seed=0)\n",
    "            noise = rng.normal(0, 0.5, x.shape[0])\n",
    "            return 2 * x[:, 0] + 3 * x[:, 1] - 0.25 * x[:, 2] + 5 + noise\n",
    "            \n",
    "        y = list(outcome(np.array(data)).reshape(-1))\n",
    "\n",
    "        self.next_slide()\n",
    "        \n",
    "        table = Table(\n",
    "            [[str(num) for num in entry] + [f\"{out:.1f}\"] for entry, out in zip(data, y)],\n",
    "            row_labels=rows,\n",
    "            col_labels=cols).scale(0.4).set_column_colors(WHITE, WHITE, WHITE, WHITE, RED).to_corner(DR)\n",
    "        self.play(table.create())\n",
    "\n",
    "        self.next_slide()\n",
    "        \n",
    "        params = [\"5.1\", \"1.3\", \"5.4\", \"2.8\"]\n",
    "        pred_before = [x[0] * 5.1 + x[1] * 1.3 - x[2] * 5.4 + 2.8 for x in data]\n",
    "        mse_before = root_mean_squared_error(y, pred_before)\n",
    "\n",
    "        eqn_before = MathTex(\n",
    "            \"f(x_1, x_2, x_3) = 5.1 * x_1 + 1.3 * x_2 - 5.4 * x_3 + 2.8\",\n",
    "            substrings_to_isolate=params\n",
    "        ).to_corner(UL)\n",
    "        for p in params:\n",
    "            eqn_before.set_color_by_tex(p, YELLOW)\n",
    "        error_before = MathTex(f\"E = {mse_before:.2f}\", color=RED).to_corner(UL).shift(DOWN)\n",
    "        \n",
    "        self.play(Write(eqn_before))\n",
    "        self.play(Write(error_before))\n",
    "\n",
    "        self.next_slide()\n",
    "\n",
    "        lm = linreg_multivariate(np.array(data), outcome(np.array(data)))\n",
    "        params = [f\"{lm.coef_[0]:.1f}\", f\"{lm.coef_[1]:.1f}\", f\"{abs(lm.coef_[2]):.1f}\", f\"{lm.intercept_:.1f}\"]\n",
    "        eqn_after = MathTex(\n",
    "            f\"f(x_1, x_2, x_3) = {lm.coef_[0]:.1f} * x_1 + {lm.coef_[1]:.1f} * x_2 - {abs(lm.coef_[2]):.1f} * x_3 + {lm.intercept_:.1f}\",\n",
    "            substrings_to_isolate=params).to_corner(UL)\n",
    "        for p in params:\n",
    "            eqn_after.set_color_by_tex(p, YELLOW)\n",
    "            \n",
    "        mse_after = root_mean_squared_error(y, lm.predict(np.array(data)))\n",
    "        mse_after = f\"{mse_after:.2f}\".zfill(6)\n",
    "        error_after = MathTex(f\"E = {mse_after}\", color=RED).to_corner(UL).shift(DOWN)\n",
    "\n",
    "        self.play(\n",
    "            Transform(eqn_before, eqn_after),\n",
    "            Transform(error_before, error_after)\n",
    "        )\n",
    "        \n",
    "        self.next_slide()\n",
    "        self.play(\n",
    "            *[FadeOut(obj) for obj in self.mobjects_without_canvas]\n",
    "        )\n",
    "        self.next_slide()"
   ]
  },
  {
   "cell_type": "code",
   "execution_count": 35,
   "id": "20dd4bb5-cd34-400a-b350-eca05b6c5003",
   "metadata": {
    "collapsed": true,
    "jupyter": {
     "outputs_hidden": true,
     "source_hidden": true
    }
   },
   "outputs": [
    {
     "data": {
      "text/html": [
       "<pre style=\"white-space:pre;overflow-x:auto;line-height:normal;font-family:Menlo,'DejaVu Sans Mono',consolas,'Courier New',monospace\">Manim Community <span style=\"color: #008000; text-decoration-color: #008000\">v0.18.1</span>\n",
       "\n",
       "</pre>\n"
      ],
      "text/plain": [
       "Manim Community \u001b[32mv0.\u001b[0m\u001b[32m18.1\u001b[0m\n",
       "\n"
      ]
     },
     "metadata": {},
     "output_type": "display_data"
    },
    {
     "name": "stderr",
     "output_type": "stream",
     "text": [
      "                                                                                                                                                                                                                                                                                                      "
     ]
    },
    {
     "data": {
      "text/html": [
       "<pre style=\"white-space:pre;overflow-x:auto;line-height:normal;font-family:Menlo,'DejaVu Sans Mono',consolas,'Courier New',monospace\"><span style=\"color: #7fbfbf; text-decoration-color: #7fbfbf\">[11/03/24 09:35:51] </span><span style=\"color: #000080; text-decoration-color: #000080\">INFO    </span> Generated <span style=\"color: #008080; text-decoration-color: #008080; font-weight: bold\">4</span> slides to <span style=\"color: #008000; text-decoration-color: #008000\">'/home/arne/Projects/Work/11.PHDD PhD </span>               <a href=\"file:///home/arne/miniconda3/envs/manim/lib/python3.12/site-packages/manim_slides/slide/base.py\" target=\"_blank\"><span style=\"color: #7f7f7f; text-decoration-color: #7f7f7f\">base.py</span></a><span style=\"color: #7f7f7f; text-decoration-color: #7f7f7f\">:</span><a href=\"file:///home/arne/miniconda3/envs/manim/lib/python3.12/site-packages/manim_slides/slide/base.py#547\" target=\"_blank\"><span style=\"color: #7f7f7f; text-decoration-color: #7f7f7f\">547</span></a>\n",
       "<span style=\"color: #7fbfbf; text-decoration-color: #7fbfbf\">                    </span>         <span style=\"color: #008000; text-decoration-color: #008000\">Defense/public_defense/slides/files/Chapter1_7'</span>                            <span style=\"color: #7f7f7f; text-decoration-color: #7f7f7f\">           </span>\n",
       "</pre>\n"
      ],
      "text/plain": [
       "\u001b[2;36m[11/03/24 09:35:51]\u001b[0m\u001b[2;36m \u001b[0m\u001b[34mINFO    \u001b[0m Generated \u001b[1;36m4\u001b[0m slides to \u001b[32m'/home/arne/Projects/Work/11.PHDD PhD \u001b[0m               \u001b]8;id=871484;file:///home/arne/miniconda3/envs/manim/lib/python3.12/site-packages/manim_slides/slide/base.py\u001b\\\u001b[2mbase.py\u001b[0m\u001b]8;;\u001b\\\u001b[2m:\u001b[0m\u001b]8;id=769952;file:///home/arne/miniconda3/envs/manim/lib/python3.12/site-packages/manim_slides/slide/base.py#547\u001b\\\u001b[2m547\u001b[0m\u001b]8;;\u001b\\\n",
       "\u001b[2;36m                    \u001b[0m         \u001b[32mDefense/public_defense/slides/files/Chapter1_7'\u001b[0m                            \u001b[2m           \u001b[0m\n"
      ]
     },
     "metadata": {},
     "output_type": "display_data"
    },
    {
     "data": {
      "text/html": [
       "<pre style=\"white-space:pre;overflow-x:auto;line-height:normal;font-family:Menlo,'DejaVu Sans Mono',consolas,'Courier New',monospace\"><span style=\"color: #7fbfbf; text-decoration-color: #7fbfbf\">                    </span><span style=\"color: #000080; text-decoration-color: #000080\">INFO    </span> Slide <span style=\"color: #008000; text-decoration-color: #008000\">'Chapter1_7'</span> configuration written in                                <a href=\"file:///home/arne/miniconda3/envs/manim/lib/python3.12/site-packages/manim_slides/slide/base.py\" target=\"_blank\"><span style=\"color: #7f7f7f; text-decoration-color: #7f7f7f\">base.py</span></a><span style=\"color: #7f7f7f; text-decoration-color: #7f7f7f\">:</span><a href=\"file:///home/arne/miniconda3/envs/manim/lib/python3.12/site-packages/manim_slides/slide/base.py#559\" target=\"_blank\"><span style=\"color: #7f7f7f; text-decoration-color: #7f7f7f\">559</span></a>\n",
       "<span style=\"color: #7fbfbf; text-decoration-color: #7fbfbf\">                    </span>         <span style=\"color: #008000; text-decoration-color: #008000\">'/home/arne/Projects/Work/11.PHDD PhD </span>                                     <span style=\"color: #7f7f7f; text-decoration-color: #7f7f7f\">           </span>\n",
       "<span style=\"color: #7fbfbf; text-decoration-color: #7fbfbf\">                    </span>         <span style=\"color: #008000; text-decoration-color: #008000\">Defense/public_defense/slides/Chapter1_7.json'</span>                             <span style=\"color: #7f7f7f; text-decoration-color: #7f7f7f\">           </span>\n",
       "</pre>\n"
      ],
      "text/plain": [
       "\u001b[2;36m                   \u001b[0m\u001b[2;36m \u001b[0m\u001b[34mINFO    \u001b[0m Slide \u001b[32m'Chapter1_7'\u001b[0m configuration written in                                \u001b]8;id=697941;file:///home/arne/miniconda3/envs/manim/lib/python3.12/site-packages/manim_slides/slide/base.py\u001b\\\u001b[2mbase.py\u001b[0m\u001b]8;;\u001b\\\u001b[2m:\u001b[0m\u001b]8;id=832349;file:///home/arne/miniconda3/envs/manim/lib/python3.12/site-packages/manim_slides/slide/base.py#559\u001b\\\u001b[2m559\u001b[0m\u001b]8;;\u001b\\\n",
       "\u001b[2;36m                    \u001b[0m         \u001b[32m'/home/arne/Projects/Work/11.PHDD PhD \u001b[0m                                     \u001b[2m           \u001b[0m\n",
       "\u001b[2;36m                    \u001b[0m         \u001b[32mDefense/public_defense/slides/Chapter1_7.json'\u001b[0m                             \u001b[2m           \u001b[0m\n"
      ]
     },
     "metadata": {},
     "output_type": "display_data"
    },
    {
     "data": {
      "text/html": [
       "<video src=\"media/jupyter/Chapter1_7@2024-11-03@09-35-51.mp4\" controls autoplay loop style=\"max-width: 60%;\"  >\n",
       "      Your browser does not support the <code>video</code> element.\n",
       "    </video>"
      ],
      "text/plain": [
       "<IPython.core.display.Video object>"
      ]
     },
     "metadata": {},
     "output_type": "display_data"
    }
   ],
   "source": [
    "%%manim -v WARNING --disable_caching -q l Chapter1_7\n",
    "\n",
    "class Chapter1_7(Slide):\n",
    "    def construct(self):\n",
    "        # ORIGINAL SETUP\n",
    "        # Draw axes\n",
    "        axis_config = {\"include_ticks\": True, \"include_numbers\": True, }\n",
    "        plane = NumberPlane(\n",
    "            x_axis_config=axis_config, \n",
    "            y_axis_config=axis_config, \n",
    "            background_line_style={\n",
    "                \"stroke_width\": 4,\n",
    "                \"stroke_opacity\": 0.2\n",
    "            },\n",
    "            x_range=(-6, 22, 2),\n",
    "            x_length=config.frame_width,\n",
    "            y_range=(-1, 7),\n",
    "            y_length=config.frame_height)\n",
    "\n",
    "        self.next_slide()\n",
    "        \n",
    "        # Generate data\n",
    "        def true_fn(x):\n",
    "            return 5 - x / 4\n",
    "\n",
    "        x_points = np.arange(-3, 19, 2)\n",
    "        rng = np.random.default_rng(seed=0)\n",
    "        noise = rng.normal(0, 0.5, len(x_points))\n",
    "        y_points = true_fn(x_points) + noise\n",
    "\n",
    "        dots = []\n",
    "        for x, y in zip(x_points, y_points):\n",
    "            dot = Dot().move_to(plane.coords_to_point(x, y, 0))\n",
    "            dots.append(dot)\n",
    "\n",
    "        lm = linreg_univariate(x_points, y_points)\n",
    "        reg_line = plane.plot(lambda x: lm.predict(np.array(x).reshape(-1,1))[0])\n",
    "\n",
    "        self.play(\n",
    "            Write(plane),\n",
    "            *[Create(dot) for dot in dots],\n",
    "            Create(reg_line)\n",
    "        )\n",
    "\n",
    "        self.next_slide()\n",
    "\n",
    "        # CHANGE TO PARABOLIC DATA\n",
    "        def parabola(x):\n",
    "            return x**2/15 - x + 4\n",
    "            \n",
    "        rng = np.random.default_rng(seed=0)\n",
    "        noise = rng.normal(0, 0.5, len(x_points))\n",
    "        y_parabola = parabola(x_points) + noise\n",
    "\n",
    "        for i in range(len(dots)):\n",
    "            dot = dots[i]\n",
    "            dot.generate_target()\n",
    "            dot.target.move_to(plane.coords_to_point(x_points[i], y_parabola[i], 0))\n",
    "\n",
    "        self.play(MoveToTarget(dot) for dot in dots)\n",
    "\n",
    "        self.next_slide()\n",
    "\n",
    "        lm_para = parabolic_reg(x_points, y_parabola)\n",
    "        para_line = plane.plot(lambda x: lm_para.predict(np.array(x).reshape(-1,1))[0])\n",
    "        self.play(Transform(reg_line, para_line))\n",
    "\n",
    "        # TODO add equation showing added parameter\n",
    "\n",
    "        # CHANGE TO MORE COMPLEX DATA\n",
    "\n",
    "        self.play(FadeOut(reg_line))\n",
    "        def noise_data(x):\n",
    "            rng = np.random.default_rng(seed=0)\n",
    "            noise = rng.normal(0, 2, len(x))\n",
    "            return noise + 3.5\n",
    "        y_noise = noise_data(x_points)\n",
    "\n",
    "        for i in range(len(dots)):\n",
    "            dot = dots[i]\n",
    "            dot.generate_target()\n",
    "            dot.target.move_to(plane.coords_to_point(x_points[i], y_noise[i], 0))\n",
    "        self.play(MoveToTarget(dot) for dot in dots)\n",
    "\n",
    "        nn = nn_reg(x_points, y_noise)\n",
    "        nn_line = plane.plot(lambda x: nn.predict(np.array(x).reshape(-1,1))[0])\n",
    "        self.play(Write(nn_line))\n",
    "\n",
    "        self.next_slide()\n",
    "        self.play(\n",
    "            *[FadeOut(obj) for obj in self.mobjects_without_canvas]\n",
    "        )"
   ]
  },
  {
   "cell_type": "code",
   "execution_count": 13,
   "id": "55446f0a-3228-47af-87c1-6d10dde90a8f",
   "metadata": {
    "collapsed": true,
    "jupyter": {
     "outputs_hidden": true,
     "source_hidden": true
    }
   },
   "outputs": [
    {
     "data": {
      "text/html": [
       "<pre style=\"white-space:pre;overflow-x:auto;line-height:normal;font-family:Menlo,'DejaVu Sans Mono',consolas,'Courier New',monospace\">Manim Community <span style=\"color: #008000; text-decoration-color: #008000\">v0.18.1</span>\n",
       "\n",
       "</pre>\n"
      ],
      "text/plain": [
       "Manim Community \u001b[32mv0.\u001b[0m\u001b[32m18.1\u001b[0m\n",
       "\n"
      ]
     },
     "metadata": {},
     "output_type": "display_data"
    },
    {
     "name": "stderr",
     "output_type": "stream",
     "text": [
      "                                                                                                                                                                                                                                                                                                      "
     ]
    },
    {
     "data": {
      "text/html": [
       "<pre style=\"white-space:pre;overflow-x:auto;line-height:normal;font-family:Menlo,'DejaVu Sans Mono',consolas,'Courier New',monospace\"><span style=\"color: #7fbfbf; text-decoration-color: #7fbfbf\">[11/03/24 08:55:58] </span><span style=\"color: #000080; text-decoration-color: #000080\">INFO    </span> Generated <span style=\"color: #008080; text-decoration-color: #008080; font-weight: bold\">1</span> slides to <span style=\"color: #008000; text-decoration-color: #008000\">'/home/arne/Projects/Work/11.PHDD PhD </span>               <a href=\"file:///home/arne/miniconda3/envs/manim/lib/python3.12/site-packages/manim_slides/slide/base.py\" target=\"_blank\"><span style=\"color: #7f7f7f; text-decoration-color: #7f7f7f\">base.py</span></a><span style=\"color: #7f7f7f; text-decoration-color: #7f7f7f\">:</span><a href=\"file:///home/arne/miniconda3/envs/manim/lib/python3.12/site-packages/manim_slides/slide/base.py#547\" target=\"_blank\"><span style=\"color: #7f7f7f; text-decoration-color: #7f7f7f\">547</span></a>\n",
       "<span style=\"color: #7fbfbf; text-decoration-color: #7fbfbf\">                    </span>         <span style=\"color: #008000; text-decoration-color: #008000\">Defense/public_defense/slides/files/Sandbox'</span>                               <span style=\"color: #7f7f7f; text-decoration-color: #7f7f7f\">           </span>\n",
       "</pre>\n"
      ],
      "text/plain": [
       "\u001b[2;36m[11/03/24 08:55:58]\u001b[0m\u001b[2;36m \u001b[0m\u001b[34mINFO    \u001b[0m Generated \u001b[1;36m1\u001b[0m slides to \u001b[32m'/home/arne/Projects/Work/11.PHDD PhD \u001b[0m               \u001b]8;id=929838;file:///home/arne/miniconda3/envs/manim/lib/python3.12/site-packages/manim_slides/slide/base.py\u001b\\\u001b[2mbase.py\u001b[0m\u001b]8;;\u001b\\\u001b[2m:\u001b[0m\u001b]8;id=479253;file:///home/arne/miniconda3/envs/manim/lib/python3.12/site-packages/manim_slides/slide/base.py#547\u001b\\\u001b[2m547\u001b[0m\u001b]8;;\u001b\\\n",
       "\u001b[2;36m                    \u001b[0m         \u001b[32mDefense/public_defense/slides/files/Sandbox'\u001b[0m                               \u001b[2m           \u001b[0m\n"
      ]
     },
     "metadata": {},
     "output_type": "display_data"
    },
    {
     "data": {
      "text/html": [
       "<pre style=\"white-space:pre;overflow-x:auto;line-height:normal;font-family:Menlo,'DejaVu Sans Mono',consolas,'Courier New',monospace\"><span style=\"color: #7fbfbf; text-decoration-color: #7fbfbf\">                    </span><span style=\"color: #000080; text-decoration-color: #000080\">INFO    </span> Slide <span style=\"color: #008000; text-decoration-color: #008000\">'Sandbox'</span> configuration written in <span style=\"color: #008000; text-decoration-color: #008000\">'/home/arne/Projects/Work/11.PHDD</span> <a href=\"file:///home/arne/miniconda3/envs/manim/lib/python3.12/site-packages/manim_slides/slide/base.py\" target=\"_blank\"><span style=\"color: #7f7f7f; text-decoration-color: #7f7f7f\">base.py</span></a><span style=\"color: #7f7f7f; text-decoration-color: #7f7f7f\">:</span><a href=\"file:///home/arne/miniconda3/envs/manim/lib/python3.12/site-packages/manim_slides/slide/base.py#559\" target=\"_blank\"><span style=\"color: #7f7f7f; text-decoration-color: #7f7f7f\">559</span></a>\n",
       "<span style=\"color: #7fbfbf; text-decoration-color: #7fbfbf\">                    </span>         <span style=\"color: #008000; text-decoration-color: #008000\">PhD Defense/public_defense/slides/Sandbox.json'</span>                            <span style=\"color: #7f7f7f; text-decoration-color: #7f7f7f\">           </span>\n",
       "</pre>\n"
      ],
      "text/plain": [
       "\u001b[2;36m                   \u001b[0m\u001b[2;36m \u001b[0m\u001b[34mINFO    \u001b[0m Slide \u001b[32m'Sandbox'\u001b[0m configuration written in \u001b[32m'/home/arne/Projects/Work/11.PHDD\u001b[0m \u001b]8;id=283786;file:///home/arne/miniconda3/envs/manim/lib/python3.12/site-packages/manim_slides/slide/base.py\u001b\\\u001b[2mbase.py\u001b[0m\u001b]8;;\u001b\\\u001b[2m:\u001b[0m\u001b]8;id=713954;file:///home/arne/miniconda3/envs/manim/lib/python3.12/site-packages/manim_slides/slide/base.py#559\u001b\\\u001b[2m559\u001b[0m\u001b]8;;\u001b\\\n",
       "\u001b[2;36m                    \u001b[0m         \u001b[32mPhD Defense/public_defense/slides/Sandbox.json'\u001b[0m                            \u001b[2m           \u001b[0m\n"
      ]
     },
     "metadata": {},
     "output_type": "display_data"
    },
    {
     "data": {
      "text/html": [
       "<video src=\"media/jupyter/Sandbox@2024-11-03@08-55-58.mp4\" controls autoplay loop style=\"max-width: 60%;\"  >\n",
       "      Your browser does not support the <code>video</code> element.\n",
       "    </video>"
      ],
      "text/plain": [
       "<IPython.core.display.Video object>"
      ]
     },
     "metadata": {},
     "output_type": "display_data"
    }
   ],
   "source": [
    "%%manim -v WARNING --disable_caching -q l Digit_sandbox\n",
    "\n",
    "class Digit_sandbox(Slide):\n",
    "    def construct(self):\n",
    "        tracker = ValueTracker(0)\n",
    "        number = always_redraw(lambda: DecimalNumber(tracker.get_value(), num_decimal_places = 2))\n",
    "        self.play(Write(number))\n",
    "        self.play(tracker.animate.set_value(3))\n",
    "        self.wait()"
   ]
  },
  {
   "cell_type": "code",
   "execution_count": 62,
   "id": "753bea52-4f77-4305-a5ab-1ae491f7f7a1",
   "metadata": {
    "collapsed": true,
    "jupyter": {
     "outputs_hidden": true,
     "source_hidden": true
    }
   },
   "outputs": [
    {
     "data": {
      "text/html": [
       "<pre style=\"white-space:pre;overflow-x:auto;line-height:normal;font-family:Menlo,'DejaVu Sans Mono',consolas,'Courier New',monospace\">Manim Community <span style=\"color: #008000; text-decoration-color: #008000\">v0.18.1</span>\n",
       "\n",
       "</pre>\n"
      ],
      "text/plain": [
       "Manim Community \u001b[32mv0.\u001b[0m\u001b[32m18.1\u001b[0m\n",
       "\n"
      ]
     },
     "metadata": {},
     "output_type": "display_data"
    },
    {
     "name": "stderr",
     "output_type": "stream",
     "text": [
      "                                                                                                                                                                                                                                                                                                      "
     ]
    },
    {
     "data": {
      "text/html": [
       "<pre style=\"white-space:pre;overflow-x:auto;line-height:normal;font-family:Menlo,'DejaVu Sans Mono',consolas,'Courier New',monospace\"><span style=\"color: #7fbfbf; text-decoration-color: #7fbfbf\">[11/03/24 09:52:43] </span><span style=\"color: #000080; text-decoration-color: #000080\">INFO    </span> Generated <span style=\"color: #008080; text-decoration-color: #008080; font-weight: bold\">2</span> slides to <span style=\"color: #008000; text-decoration-color: #008000\">'/home/arne/Projects/Work/11.PHDD PhD </span>               <a href=\"file:///home/arne/miniconda3/envs/manim/lib/python3.12/site-packages/manim_slides/slide/base.py\" target=\"_blank\"><span style=\"color: #7f7f7f; text-decoration-color: #7f7f7f\">base.py</span></a><span style=\"color: #7f7f7f; text-decoration-color: #7f7f7f\">:</span><a href=\"file:///home/arne/miniconda3/envs/manim/lib/python3.12/site-packages/manim_slides/slide/base.py#547\" target=\"_blank\"><span style=\"color: #7f7f7f; text-decoration-color: #7f7f7f\">547</span></a>\n",
       "<span style=\"color: #7fbfbf; text-decoration-color: #7fbfbf\">                    </span>         <span style=\"color: #008000; text-decoration-color: #008000\">Defense/public_defense/slides/files/Chapter1_8'</span>                            <span style=\"color: #7f7f7f; text-decoration-color: #7f7f7f\">           </span>\n",
       "</pre>\n"
      ],
      "text/plain": [
       "\u001b[2;36m[11/03/24 09:52:43]\u001b[0m\u001b[2;36m \u001b[0m\u001b[34mINFO    \u001b[0m Generated \u001b[1;36m2\u001b[0m slides to \u001b[32m'/home/arne/Projects/Work/11.PHDD PhD \u001b[0m               \u001b]8;id=937185;file:///home/arne/miniconda3/envs/manim/lib/python3.12/site-packages/manim_slides/slide/base.py\u001b\\\u001b[2mbase.py\u001b[0m\u001b]8;;\u001b\\\u001b[2m:\u001b[0m\u001b]8;id=846550;file:///home/arne/miniconda3/envs/manim/lib/python3.12/site-packages/manim_slides/slide/base.py#547\u001b\\\u001b[2m547\u001b[0m\u001b]8;;\u001b\\\n",
       "\u001b[2;36m                    \u001b[0m         \u001b[32mDefense/public_defense/slides/files/Chapter1_8'\u001b[0m                            \u001b[2m           \u001b[0m\n"
      ]
     },
     "metadata": {},
     "output_type": "display_data"
    },
    {
     "data": {
      "text/html": [
       "<pre style=\"white-space:pre;overflow-x:auto;line-height:normal;font-family:Menlo,'DejaVu Sans Mono',consolas,'Courier New',monospace\"><span style=\"color: #7fbfbf; text-decoration-color: #7fbfbf\">                    </span><span style=\"color: #000080; text-decoration-color: #000080\">INFO    </span> Slide <span style=\"color: #008000; text-decoration-color: #008000\">'Chapter1_8'</span> configuration written in                                <a href=\"file:///home/arne/miniconda3/envs/manim/lib/python3.12/site-packages/manim_slides/slide/base.py\" target=\"_blank\"><span style=\"color: #7f7f7f; text-decoration-color: #7f7f7f\">base.py</span></a><span style=\"color: #7f7f7f; text-decoration-color: #7f7f7f\">:</span><a href=\"file:///home/arne/miniconda3/envs/manim/lib/python3.12/site-packages/manim_slides/slide/base.py#559\" target=\"_blank\"><span style=\"color: #7f7f7f; text-decoration-color: #7f7f7f\">559</span></a>\n",
       "<span style=\"color: #7fbfbf; text-decoration-color: #7fbfbf\">                    </span>         <span style=\"color: #008000; text-decoration-color: #008000\">'/home/arne/Projects/Work/11.PHDD PhD </span>                                     <span style=\"color: #7f7f7f; text-decoration-color: #7f7f7f\">           </span>\n",
       "<span style=\"color: #7fbfbf; text-decoration-color: #7fbfbf\">                    </span>         <span style=\"color: #008000; text-decoration-color: #008000\">Defense/public_defense/slides/Chapter1_8.json'</span>                             <span style=\"color: #7f7f7f; text-decoration-color: #7f7f7f\">           </span>\n",
       "</pre>\n"
      ],
      "text/plain": [
       "\u001b[2;36m                   \u001b[0m\u001b[2;36m \u001b[0m\u001b[34mINFO    \u001b[0m Slide \u001b[32m'Chapter1_8'\u001b[0m configuration written in                                \u001b]8;id=901844;file:///home/arne/miniconda3/envs/manim/lib/python3.12/site-packages/manim_slides/slide/base.py\u001b\\\u001b[2mbase.py\u001b[0m\u001b]8;;\u001b\\\u001b[2m:\u001b[0m\u001b]8;id=924633;file:///home/arne/miniconda3/envs/manim/lib/python3.12/site-packages/manim_slides/slide/base.py#559\u001b\\\u001b[2m559\u001b[0m\u001b]8;;\u001b\\\n",
       "\u001b[2;36m                    \u001b[0m         \u001b[32m'/home/arne/Projects/Work/11.PHDD PhD \u001b[0m                                     \u001b[2m           \u001b[0m\n",
       "\u001b[2;36m                    \u001b[0m         \u001b[32mDefense/public_defense/slides/Chapter1_8.json'\u001b[0m                             \u001b[2m           \u001b[0m\n"
      ]
     },
     "metadata": {},
     "output_type": "display_data"
    },
    {
     "data": {
      "text/html": [
       "<video src=\"media/jupyter/Chapter1_8@2024-11-03@09-52-43.mp4\" controls autoplay loop style=\"max-width: 60%;\"  >\n",
       "      Your browser does not support the <code>video</code> element.\n",
       "    </video>"
      ],
      "text/plain": [
       "<IPython.core.display.Video object>"
      ]
     },
     "metadata": {},
     "output_type": "display_data"
    }
   ],
   "source": [
    "%%manim -v WARNING --disable_caching -q l Chapter1_8\n",
    "\n",
    "class Chapter1_8(Slide):\n",
    "    def construct(self):\n",
    "        x_points = np.arange(-3, 19, 2)\n",
    "        def noise_data(x):\n",
    "            rng = np.random.default_rng(seed=0)\n",
    "            noise = rng.normal(0, 2, len(x))\n",
    "            return noise + 3.5\n",
    "        y_noise = noise_data(x_points)\n",
    "        nn = nn_reg(x_points, y_noise)\n",
    "\n",
    "        nn_string = f\"f(x) &= {nn['predict'].intercepts_[1][0]:.2f}\"\n",
    "        l1_coefs = nn[\"predict\"].coefs_[0].reshape(-1)\n",
    "        l2_coefs = nn[\"predict\"].coefs_[1].reshape(-1)\n",
    "        l1_intercepts = nn[\"predict\"].intercepts_[0].reshape(-1)\n",
    "        \n",
    "        for i in range(25):\n",
    "            substring = \"{:.4f} * \\\\max(0, {:.4f} * x {} {:.4f})\".format(\n",
    "                l2_coefs[i], l1_coefs[i], '+' if l1_intercepts[i] > 0 else '', l1_intercepts[i]\n",
    "            )\n",
    "            if i % 2 == 0:\n",
    "                substring = substring + '\\\\\\\\ &'\n",
    "            if l2_coefs[i] > 0:\n",
    "                nn_string += '+'\n",
    "            nn_string += substring\n",
    "        \n",
    "        formula = MathTex(nn_string).scale(1.5)\n",
    "        self.play(Write(formula))\n",
    "        self.next_slide()\n",
    "\n",
    "        formula.generate_target()\n",
    "        formula.target.scale(0.5)\n",
    "\n",
    "        self.play(MoveToTarget(formula, run_time=5))"
   ]
  },
  {
   "cell_type": "code",
   "execution_count": 149,
   "id": "37e22c17-d1ce-4392-8961-023a90d587db",
   "metadata": {
    "collapsed": true,
    "jupyter": {
     "outputs_hidden": true,
     "source_hidden": true
    },
    "scrolled": true
   },
   "outputs": [
    {
     "data": {
      "text/html": [
       "<pre style=\"white-space:pre;overflow-x:auto;line-height:normal;font-family:Menlo,'DejaVu Sans Mono',consolas,'Courier New',monospace\">Manim Community <span style=\"color: #008000; text-decoration-color: #008000\">v0.18.1</span>\n",
       "\n",
       "</pre>\n"
      ],
      "text/plain": [
       "Manim Community \u001b[32mv0.\u001b[0m\u001b[32m18.1\u001b[0m\n",
       "\n"
      ]
     },
     "metadata": {},
     "output_type": "display_data"
    },
    {
     "name": "stderr",
     "output_type": "stream",
     "text": [
      "                                                                                                                                                                                                                                                                                                      "
     ]
    },
    {
     "data": {
      "text/html": [
       "<pre style=\"white-space:pre;overflow-x:auto;line-height:normal;font-family:Menlo,'DejaVu Sans Mono',consolas,'Courier New',monospace\"><span style=\"color: #7fbfbf; text-decoration-color: #7fbfbf\">[11/03/24 12:10:44] </span><span style=\"color: #000080; text-decoration-color: #000080\">INFO    </span> Generated <span style=\"color: #008080; text-decoration-color: #008080; font-weight: bold\">7</span> slides to <span style=\"color: #008000; text-decoration-color: #008000\">'/home/arne/Projects/Work/11.PHDD PhD </span>               <a href=\"file:///home/arne/miniconda3/envs/manim/lib/python3.12/site-packages/manim_slides/slide/base.py\" target=\"_blank\"><span style=\"color: #7f7f7f; text-decoration-color: #7f7f7f\">base.py</span></a><span style=\"color: #7f7f7f; text-decoration-color: #7f7f7f\">:</span><a href=\"file:///home/arne/miniconda3/envs/manim/lib/python3.12/site-packages/manim_slides/slide/base.py#547\" target=\"_blank\"><span style=\"color: #7f7f7f; text-decoration-color: #7f7f7f\">547</span></a>\n",
       "<span style=\"color: #7fbfbf; text-decoration-color: #7fbfbf\">                    </span>         <span style=\"color: #008000; text-decoration-color: #008000\">Defense/public_defense/slides/files/Chapter1_9'</span>                            <span style=\"color: #7f7f7f; text-decoration-color: #7f7f7f\">           </span>\n",
       "</pre>\n"
      ],
      "text/plain": [
       "\u001b[2;36m[11/03/24 12:10:44]\u001b[0m\u001b[2;36m \u001b[0m\u001b[34mINFO    \u001b[0m Generated \u001b[1;36m7\u001b[0m slides to \u001b[32m'/home/arne/Projects/Work/11.PHDD PhD \u001b[0m               \u001b]8;id=529347;file:///home/arne/miniconda3/envs/manim/lib/python3.12/site-packages/manim_slides/slide/base.py\u001b\\\u001b[2mbase.py\u001b[0m\u001b]8;;\u001b\\\u001b[2m:\u001b[0m\u001b]8;id=493180;file:///home/arne/miniconda3/envs/manim/lib/python3.12/site-packages/manim_slides/slide/base.py#547\u001b\\\u001b[2m547\u001b[0m\u001b]8;;\u001b\\\n",
       "\u001b[2;36m                    \u001b[0m         \u001b[32mDefense/public_defense/slides/files/Chapter1_9'\u001b[0m                            \u001b[2m           \u001b[0m\n"
      ]
     },
     "metadata": {},
     "output_type": "display_data"
    },
    {
     "data": {
      "text/html": [
       "<pre style=\"white-space:pre;overflow-x:auto;line-height:normal;font-family:Menlo,'DejaVu Sans Mono',consolas,'Courier New',monospace\"><span style=\"color: #7fbfbf; text-decoration-color: #7fbfbf\">                    </span><span style=\"color: #000080; text-decoration-color: #000080\">INFO    </span> Slide <span style=\"color: #008000; text-decoration-color: #008000\">'Chapter1_9'</span> configuration written in                                <a href=\"file:///home/arne/miniconda3/envs/manim/lib/python3.12/site-packages/manim_slides/slide/base.py\" target=\"_blank\"><span style=\"color: #7f7f7f; text-decoration-color: #7f7f7f\">base.py</span></a><span style=\"color: #7f7f7f; text-decoration-color: #7f7f7f\">:</span><a href=\"file:///home/arne/miniconda3/envs/manim/lib/python3.12/site-packages/manim_slides/slide/base.py#559\" target=\"_blank\"><span style=\"color: #7f7f7f; text-decoration-color: #7f7f7f\">559</span></a>\n",
       "<span style=\"color: #7fbfbf; text-decoration-color: #7fbfbf\">                    </span>         <span style=\"color: #008000; text-decoration-color: #008000\">'/home/arne/Projects/Work/11.PHDD PhD </span>                                     <span style=\"color: #7f7f7f; text-decoration-color: #7f7f7f\">           </span>\n",
       "<span style=\"color: #7fbfbf; text-decoration-color: #7fbfbf\">                    </span>         <span style=\"color: #008000; text-decoration-color: #008000\">Defense/public_defense/slides/Chapter1_9.json'</span>                             <span style=\"color: #7f7f7f; text-decoration-color: #7f7f7f\">           </span>\n",
       "</pre>\n"
      ],
      "text/plain": [
       "\u001b[2;36m                   \u001b[0m\u001b[2;36m \u001b[0m\u001b[34mINFO    \u001b[0m Slide \u001b[32m'Chapter1_9'\u001b[0m configuration written in                                \u001b]8;id=733382;file:///home/arne/miniconda3/envs/manim/lib/python3.12/site-packages/manim_slides/slide/base.py\u001b\\\u001b[2mbase.py\u001b[0m\u001b]8;;\u001b\\\u001b[2m:\u001b[0m\u001b]8;id=112322;file:///home/arne/miniconda3/envs/manim/lib/python3.12/site-packages/manim_slides/slide/base.py#559\u001b\\\u001b[2m559\u001b[0m\u001b]8;;\u001b\\\n",
       "\u001b[2;36m                    \u001b[0m         \u001b[32m'/home/arne/Projects/Work/11.PHDD PhD \u001b[0m                                     \u001b[2m           \u001b[0m\n",
       "\u001b[2;36m                    \u001b[0m         \u001b[32mDefense/public_defense/slides/Chapter1_9.json'\u001b[0m                             \u001b[2m           \u001b[0m\n"
      ]
     },
     "metadata": {},
     "output_type": "display_data"
    },
    {
     "data": {
      "text/html": [
       "<video src=\"media/jupyter/Chapter1_9@2024-11-03@12-10-44.mp4\" controls autoplay loop style=\"max-width: 60%;\"  >\n",
       "      Your browser does not support the <code>video</code> element.\n",
       "    </video>"
      ],
      "text/plain": [
       "<IPython.core.display.Video object>"
      ]
     },
     "metadata": {},
     "output_type": "display_data"
    }
   ],
   "source": [
    "%%manim -v WARNING --disable_caching -q l Chapter1_9\n",
    "\n",
    "class Chapter1_9(Slide):\n",
    "    def construct(self):\n",
    "        title_text = Text(\"ChaptGPT (GPT-3.5):\").shift(2 * UP)\n",
    "        self.play(Write(title_text))\n",
    "        self.next_slide()\n",
    "\n",
    "        num_text = Text(\"175\", font_size=125)\n",
    "        self.play(Write(num_text))\n",
    "\n",
    "        param_text = Text(\"parameters\").next_to(num_text, 2*DOWN)\n",
    "        self.play(Write(param_text))\n",
    "\n",
    "        self.next_slide()\n",
    "\n",
    "        num_text.generate_target()\n",
    "        num_text.target.shift(3 * LEFT)\n",
    "        self.play(MoveToTarget(num_text))\n",
    "        billion = Text(\"billion\", font_size=125, color=RED).next_to(num_text, 2*RIGHT)\n",
    "        self.play(Write(billion))\n",
    "\n",
    "        self.next_slide()\n",
    "        cur_text = Text(\"ChatGPT-4: 1.75 trillion (estimated)\").next_to(param_text, DOWN)\n",
    "        self.play(Write(cur_text))\n",
    "\n",
    "        self.next_slide()\n",
    "        self.play(\n",
    "            *[FadeOut(obj) for obj in self.mobjects_without_canvas]\n",
    "        )\n",
    "\n",
    "        map_img = ImageMobject(\"distance.png\").scale(0.4)\n",
    "        dist_text = Text(\"687.8 km\").next_to(map_img, DOWN)\n",
    "        self.play(FadeIn(map_img), Write(dist_text))\n",
    "\n",
    "        self.next_slide()\n",
    "\n",
    "        time_text = Text(\"Writing at 1 parameter per second: 55,492 years\").scale(0.8).next_to(dist_text, DOWN)\n",
    "        self.play(Write(time_text))\n",
    "\n",
    "        self.next_slide()\n",
    "        self.play(\n",
    "            *[FadeOut(obj) for obj in self.mobjects_without_canvas]\n",
    "        )"
   ]
  },
  {
   "cell_type": "code",
   "execution_count": 150,
   "id": "3ae4d301-3d9e-46bb-9522-d9de6a4dfbb7",
   "metadata": {
    "collapsed": true,
    "jupyter": {
     "outputs_hidden": true,
     "source_hidden": true
    },
    "scrolled": true
   },
   "outputs": [
    {
     "data": {
      "text/html": [
       "<pre style=\"white-space:pre;overflow-x:auto;line-height:normal;font-family:Menlo,'DejaVu Sans Mono',consolas,'Courier New',monospace\">Manim Community <span style=\"color: #008000; text-decoration-color: #008000\">v0.18.1</span>\n",
       "\n",
       "</pre>\n"
      ],
      "text/plain": [
       "Manim Community \u001b[32mv0.\u001b[0m\u001b[32m18.1\u001b[0m\n",
       "\n"
      ]
     },
     "metadata": {},
     "output_type": "display_data"
    },
    {
     "name": "stderr",
     "output_type": "stream",
     "text": [
      "                                                                                                                                                                                                                                                                                                      "
     ]
    },
    {
     "data": {
      "text/html": [
       "<pre style=\"white-space:pre;overflow-x:auto;line-height:normal;font-family:Menlo,'DejaVu Sans Mono',consolas,'Courier New',monospace\"><span style=\"color: #7fbfbf; text-decoration-color: #7fbfbf\">[11/03/24 12:11:43] </span><span style=\"color: #000080; text-decoration-color: #000080\">INFO    </span> Generated <span style=\"color: #008080; text-decoration-color: #008080; font-weight: bold\">7</span> slides to <span style=\"color: #008000; text-decoration-color: #008000\">'/home/arne/Projects/Work/11.PHDD PhD </span>               <a href=\"file:///home/arne/miniconda3/envs/manim/lib/python3.12/site-packages/manim_slides/slide/base.py\" target=\"_blank\"><span style=\"color: #7f7f7f; text-decoration-color: #7f7f7f\">base.py</span></a><span style=\"color: #7f7f7f; text-decoration-color: #7f7f7f\">:</span><a href=\"file:///home/arne/miniconda3/envs/manim/lib/python3.12/site-packages/manim_slides/slide/base.py#547\" target=\"_blank\"><span style=\"color: #7f7f7f; text-decoration-color: #7f7f7f\">547</span></a>\n",
       "<span style=\"color: #7fbfbf; text-decoration-color: #7fbfbf\">                    </span>         <span style=\"color: #008000; text-decoration-color: #008000\">Defense/public_defense/slides/files/Chapter1_10'</span>                           <span style=\"color: #7f7f7f; text-decoration-color: #7f7f7f\">           </span>\n",
       "</pre>\n"
      ],
      "text/plain": [
       "\u001b[2;36m[11/03/24 12:11:43]\u001b[0m\u001b[2;36m \u001b[0m\u001b[34mINFO    \u001b[0m Generated \u001b[1;36m7\u001b[0m slides to \u001b[32m'/home/arne/Projects/Work/11.PHDD PhD \u001b[0m               \u001b]8;id=465351;file:///home/arne/miniconda3/envs/manim/lib/python3.12/site-packages/manim_slides/slide/base.py\u001b\\\u001b[2mbase.py\u001b[0m\u001b]8;;\u001b\\\u001b[2m:\u001b[0m\u001b]8;id=635318;file:///home/arne/miniconda3/envs/manim/lib/python3.12/site-packages/manim_slides/slide/base.py#547\u001b\\\u001b[2m547\u001b[0m\u001b]8;;\u001b\\\n",
       "\u001b[2;36m                    \u001b[0m         \u001b[32mDefense/public_defense/slides/files/Chapter1_10'\u001b[0m                           \u001b[2m           \u001b[0m\n"
      ]
     },
     "metadata": {},
     "output_type": "display_data"
    },
    {
     "data": {
      "text/html": [
       "<pre style=\"white-space:pre;overflow-x:auto;line-height:normal;font-family:Menlo,'DejaVu Sans Mono',consolas,'Courier New',monospace\"><span style=\"color: #7fbfbf; text-decoration-color: #7fbfbf\">                    </span><span style=\"color: #000080; text-decoration-color: #000080\">INFO    </span> Slide <span style=\"color: #008000; text-decoration-color: #008000\">'Chapter1_10'</span> configuration written in                               <a href=\"file:///home/arne/miniconda3/envs/manim/lib/python3.12/site-packages/manim_slides/slide/base.py\" target=\"_blank\"><span style=\"color: #7f7f7f; text-decoration-color: #7f7f7f\">base.py</span></a><span style=\"color: #7f7f7f; text-decoration-color: #7f7f7f\">:</span><a href=\"file:///home/arne/miniconda3/envs/manim/lib/python3.12/site-packages/manim_slides/slide/base.py#559\" target=\"_blank\"><span style=\"color: #7f7f7f; text-decoration-color: #7f7f7f\">559</span></a>\n",
       "<span style=\"color: #7fbfbf; text-decoration-color: #7fbfbf\">                    </span>         <span style=\"color: #008000; text-decoration-color: #008000\">'/home/arne/Projects/Work/11.PHDD PhD </span>                                     <span style=\"color: #7f7f7f; text-decoration-color: #7f7f7f\">           </span>\n",
       "<span style=\"color: #7fbfbf; text-decoration-color: #7fbfbf\">                    </span>         <span style=\"color: #008000; text-decoration-color: #008000\">Defense/public_defense/slides/Chapter1_10.json'</span>                            <span style=\"color: #7f7f7f; text-decoration-color: #7f7f7f\">           </span>\n",
       "</pre>\n"
      ],
      "text/plain": [
       "\u001b[2;36m                   \u001b[0m\u001b[2;36m \u001b[0m\u001b[34mINFO    \u001b[0m Slide \u001b[32m'Chapter1_10'\u001b[0m configuration written in                               \u001b]8;id=806098;file:///home/arne/miniconda3/envs/manim/lib/python3.12/site-packages/manim_slides/slide/base.py\u001b\\\u001b[2mbase.py\u001b[0m\u001b]8;;\u001b\\\u001b[2m:\u001b[0m\u001b]8;id=512056;file:///home/arne/miniconda3/envs/manim/lib/python3.12/site-packages/manim_slides/slide/base.py#559\u001b\\\u001b[2m559\u001b[0m\u001b]8;;\u001b\\\n",
       "\u001b[2;36m                    \u001b[0m         \u001b[32m'/home/arne/Projects/Work/11.PHDD PhD \u001b[0m                                     \u001b[2m           \u001b[0m\n",
       "\u001b[2;36m                    \u001b[0m         \u001b[32mDefense/public_defense/slides/Chapter1_10.json'\u001b[0m                            \u001b[2m           \u001b[0m\n"
      ]
     },
     "metadata": {},
     "output_type": "display_data"
    },
    {
     "data": {
      "text/html": [
       "<video src=\"media/jupyter/Chapter1_10@2024-11-03@12-11-43.mp4\" controls autoplay loop style=\"max-width: 60%;\"  >\n",
       "      Your browser does not support the <code>video</code> element.\n",
       "    </video>"
      ],
      "text/plain": [
       "<IPython.core.display.Video object>"
      ]
     },
     "metadata": {},
     "output_type": "display_data"
    }
   ],
   "source": [
    "%%manim -v WARNING --disable_caching -q l Chapter1_10\n",
    "\n",
    "class Chapter1_10(Slide):\n",
    "    def construct(self):\n",
    "        rect = Rectangle(width=5, height=3)\n",
    "        f = MathTex(\"f\", font_size=100)\n",
    "        self.play(Create(rect), Write(f))\n",
    "        \n",
    "        self.next_slide()\n",
    "\n",
    "        in_arrows, in_vars = [], []\n",
    "        for i, direction in enumerate((UL, LEFT, DL)):\n",
    "            arr = Arrow(start=direction, end=RIGHT).next_to(rect, direction=direction)\n",
    "            in_arrows.append(arr)\n",
    "            in_vars.append(MathTex(f\"x_{i+1}\", font_size=100).next_to(arr, direction=direction))\n",
    "\n",
    "        out_arrow = Arrow(start=LEFT, end=RIGHT).next_to(rect, direction=RIGHT)\n",
    "        \n",
    "        y = MathTex(\"y\", font_size=100).next_to(out_arrow, direction=RIGHT)\n",
    "        \n",
    "        self.play(\n",
    "            *[DrawBorderThenFill(in_arrow, run_time=1) for in_arrow in in_arrows],\n",
    "            *[Write(x, run_time=1) for x in in_vars]\n",
    "        )\n",
    "        self.play(\n",
    "            DrawBorderThenFill(out_arrow, run_time=1),\n",
    "            Write(y, run_time=1)\n",
    "        )\n",
    "\n",
    "        self.next_slide()\n",
    "\n",
    "        params = [\n",
    "            (0, 1.1, 0.01),\n",
    "            (1, 2, 0.06),\n",
    "            (2, 1.3, 0.02)\n",
    "        ]\n",
    "        \n",
    "        for i, scale, rot in params:\n",
    "            self.play(Circumscribe(in_vars[i]))\n",
    "            self.play(\n",
    "                Wiggle(in_vars[i]),\n",
    "                Wiggle(y, scale_value = scale, rotation_angle=rot * TAU))\n",
    "\n",
    "            self.next_slide()\n",
    "\n",
    "        self.next_slide()\n",
    "        self.play(\n",
    "            *[FadeOut(obj) for obj in self.mobjects_without_canvas]\n",
    "        )\n",
    "\n",
    "        bar = BarChart(values=[0.1, 0.5, 0.2], bar_names=[f\"$x_{i+1}$\" for i in range(3)]).scale(1.5)\n",
    "        self.play(Write(bar), run_time=2)\n",
    "\n",
    "        self.next_slide()\n",
    "        self.play(\n",
    "            *[FadeOut(obj) for obj in self.mobjects_without_canvas]\n",
    "        )"
   ]
  },
  {
   "cell_type": "code",
   "execution_count": 339,
   "id": "5e2df0fe-703a-4c25-8f0a-a989809675e3",
   "metadata": {
    "collapsed": true,
    "jupyter": {
     "outputs_hidden": true,
     "source_hidden": true
    }
   },
   "outputs": [
    {
     "data": {
      "text/html": [
       "<pre style=\"white-space:pre;overflow-x:auto;line-height:normal;font-family:Menlo,'DejaVu Sans Mono',consolas,'Courier New',monospace\">Manim Community <span style=\"color: #008000; text-decoration-color: #008000\">v0.18.1</span>\n",
       "\n",
       "</pre>\n"
      ],
      "text/plain": [
       "Manim Community \u001b[32mv0.\u001b[0m\u001b[32m18.1\u001b[0m\n",
       "\n"
      ]
     },
     "metadata": {},
     "output_type": "display_data"
    },
    {
     "name": "stderr",
     "output_type": "stream",
     "text": [
      "                                                                                                                                                                                                                                                                                                      "
     ]
    },
    {
     "data": {
      "text/html": [
       "<pre style=\"white-space:pre;overflow-x:auto;line-height:normal;font-family:Menlo,'DejaVu Sans Mono',consolas,'Courier New',monospace\"><span style=\"color: #7fbfbf; text-decoration-color: #7fbfbf\">[11/03/24 15:15:18] </span><span style=\"color: #000080; text-decoration-color: #000080\">INFO    </span> Generated <span style=\"color: #008080; text-decoration-color: #008080; font-weight: bold\">4</span> slides to <span style=\"color: #008000; text-decoration-color: #008000\">'/home/arne/Projects/Work/11.PHDD PhD </span>               <a href=\"file:///home/arne/miniconda3/envs/manim/lib/python3.12/site-packages/manim_slides/slide/base.py\" target=\"_blank\"><span style=\"color: #7f7f7f; text-decoration-color: #7f7f7f\">base.py</span></a><span style=\"color: #7f7f7f; text-decoration-color: #7f7f7f\">:</span><a href=\"file:///home/arne/miniconda3/envs/manim/lib/python3.12/site-packages/manim_slides/slide/base.py#547\" target=\"_blank\"><span style=\"color: #7f7f7f; text-decoration-color: #7f7f7f\">547</span></a>\n",
       "<span style=\"color: #7fbfbf; text-decoration-color: #7fbfbf\">                    </span>         <span style=\"color: #008000; text-decoration-color: #008000\">Defense/public_defense/slides/files/Chapter2_1'</span>                            <span style=\"color: #7f7f7f; text-decoration-color: #7f7f7f\">           </span>\n",
       "</pre>\n"
      ],
      "text/plain": [
       "\u001b[2;36m[11/03/24 15:15:18]\u001b[0m\u001b[2;36m \u001b[0m\u001b[34mINFO    \u001b[0m Generated \u001b[1;36m4\u001b[0m slides to \u001b[32m'/home/arne/Projects/Work/11.PHDD PhD \u001b[0m               \u001b]8;id=544013;file:///home/arne/miniconda3/envs/manim/lib/python3.12/site-packages/manim_slides/slide/base.py\u001b\\\u001b[2mbase.py\u001b[0m\u001b]8;;\u001b\\\u001b[2m:\u001b[0m\u001b]8;id=146531;file:///home/arne/miniconda3/envs/manim/lib/python3.12/site-packages/manim_slides/slide/base.py#547\u001b\\\u001b[2m547\u001b[0m\u001b]8;;\u001b\\\n",
       "\u001b[2;36m                    \u001b[0m         \u001b[32mDefense/public_defense/slides/files/Chapter2_1'\u001b[0m                            \u001b[2m           \u001b[0m\n"
      ]
     },
     "metadata": {},
     "output_type": "display_data"
    },
    {
     "data": {
      "text/html": [
       "<pre style=\"white-space:pre;overflow-x:auto;line-height:normal;font-family:Menlo,'DejaVu Sans Mono',consolas,'Courier New',monospace\"><span style=\"color: #7fbfbf; text-decoration-color: #7fbfbf\">                    </span><span style=\"color: #000080; text-decoration-color: #000080\">INFO    </span> Slide <span style=\"color: #008000; text-decoration-color: #008000\">'Chapter2_1'</span> configuration written in                                <a href=\"file:///home/arne/miniconda3/envs/manim/lib/python3.12/site-packages/manim_slides/slide/base.py\" target=\"_blank\"><span style=\"color: #7f7f7f; text-decoration-color: #7f7f7f\">base.py</span></a><span style=\"color: #7f7f7f; text-decoration-color: #7f7f7f\">:</span><a href=\"file:///home/arne/miniconda3/envs/manim/lib/python3.12/site-packages/manim_slides/slide/base.py#559\" target=\"_blank\"><span style=\"color: #7f7f7f; text-decoration-color: #7f7f7f\">559</span></a>\n",
       "<span style=\"color: #7fbfbf; text-decoration-color: #7fbfbf\">                    </span>         <span style=\"color: #008000; text-decoration-color: #008000\">'/home/arne/Projects/Work/11.PHDD PhD </span>                                     <span style=\"color: #7f7f7f; text-decoration-color: #7f7f7f\">           </span>\n",
       "<span style=\"color: #7fbfbf; text-decoration-color: #7fbfbf\">                    </span>         <span style=\"color: #008000; text-decoration-color: #008000\">Defense/public_defense/slides/Chapter2_1.json'</span>                             <span style=\"color: #7f7f7f; text-decoration-color: #7f7f7f\">           </span>\n",
       "</pre>\n"
      ],
      "text/plain": [
       "\u001b[2;36m                   \u001b[0m\u001b[2;36m \u001b[0m\u001b[34mINFO    \u001b[0m Slide \u001b[32m'Chapter2_1'\u001b[0m configuration written in                                \u001b]8;id=505558;file:///home/arne/miniconda3/envs/manim/lib/python3.12/site-packages/manim_slides/slide/base.py\u001b\\\u001b[2mbase.py\u001b[0m\u001b]8;;\u001b\\\u001b[2m:\u001b[0m\u001b]8;id=156922;file:///home/arne/miniconda3/envs/manim/lib/python3.12/site-packages/manim_slides/slide/base.py#559\u001b\\\u001b[2m559\u001b[0m\u001b]8;;\u001b\\\n",
       "\u001b[2;36m                    \u001b[0m         \u001b[32m'/home/arne/Projects/Work/11.PHDD PhD \u001b[0m                                     \u001b[2m           \u001b[0m\n",
       "\u001b[2;36m                    \u001b[0m         \u001b[32mDefense/public_defense/slides/Chapter2_1.json'\u001b[0m                             \u001b[2m           \u001b[0m\n"
      ]
     },
     "metadata": {},
     "output_type": "display_data"
    },
    {
     "data": {
      "text/html": [
       "<video src=\"media/jupyter/Chapter2_1@2024-11-03@15-15-18.mp4\" controls autoplay loop style=\"max-width: 60%;\"  >\n",
       "      Your browser does not support the <code>video</code> element.\n",
       "    </video>"
      ],
      "text/plain": [
       "<IPython.core.display.Video object>"
      ]
     },
     "metadata": {},
     "output_type": "display_data"
    }
   ],
   "source": [
    "%%manim -v WARNING --disable_caching -q l Chapter2_1\n",
    "        \n",
    "class Chapter2_1(Slide):\n",
    "    def construct(self):\n",
    "        X = np.loadtxt(\"digits.csv\", delimiter=',')\n",
    "        y = np.loadtxt(\"labels.csv\", delimiter=',')\n",
    "        def get_img(idx):\n",
    "            img = ImageMobject(X[idx, :].reshape(28, 28)).scale(15)\n",
    "            img.set_resampling_algorithm(RESAMPLING_ALGORITHMS[\"nearest\"])\n",
    "            label = Text(f\"Label: {int(y[idx])}\")\n",
    "            return img, label\n",
    "        \n",
    "        imgs, labels = [], []\n",
    "        for i in range(3):\n",
    "            img, label = get_img(i)\n",
    "            imgs.append(img.shift((-4 + i * 4) * RIGHT))\n",
    "            labels.append(label.next_to(img, DOWN))\n",
    "\n",
    "        self.play(FadeIn(img) for img in imgs)\n",
    "        self.play(LaggedStart(*[Write(label) for label in labels], lag_ratio=0.25))\n",
    "\n",
    "        self.next_slide()\n",
    "\n",
    "        self.play(\n",
    "            *[FadeOut(img) for img in (imgs[0], imgs[2])],\n",
    "            *[FadeOut(label) for label in labels]\n",
    "        )\n",
    "        \n",
    "        img = imgs[1]\n",
    "        img.generate_target()\n",
    "        img.target.center()\n",
    "        img.target.scale(1.8)\n",
    "        self.play(MoveToTarget(img))\n",
    "\n",
    "        self.next_slide()\n",
    "        \n",
    "        v_img = PixelsAsSquares(img)\n",
    "        self.play(\n",
    "            FadeOut(img),\n",
    "            FadeIn(v_img)\n",
    "        )\n",
    "        \n",
    "        circles = PixelsAsCircles(v_img)\n",
    "        values = circles.get_values()\n",
    "        self.play(\n",
    "            ReplacementTransform(v_img, circles)\n",
    "        )\n",
    "        self.play(*[FadeIn(value) for value in values])\n",
    "\n",
    "        self.next_slide()\n",
    "\n",
    "        self.play(*[FadeOut(value) for value in values])\n",
    "\n",
    "        rows = VGroup(*[\n",
    "            VGroup(*circles.neurons[28*i:28*(i+1)])\n",
    "            for i in range(28)\n",
    "        ])\n",
    "\n",
    "        self.play(rows.animate.space_out_submobjects(1.2))\n",
    "        self.play(\n",
    "            rows.animate.arrange(RIGHT, buff = SMALL_BUFF),\n",
    "            run_time = 2\n",
    "        )\n",
    "\n",
    "        summarized = VGroup(\n",
    "            *[Circle(stroke_color=WHITE, radius=0.25) for _ in range(7)],\n",
    "            MathTex(r\"\\dots\", font_size=100),\n",
    "            *[Circle(stroke_color=WHITE, radius=0.25) for _ in range(3)]             \n",
    "        ).arrange(RIGHT).scale(20)\n",
    "        summarized.generate_target()\n",
    "        summarized.target.scale(0.05)\n",
    "        self.play(\n",
    "            LaggedStart(\n",
    "                ShrinkToCenter(rows),\n",
    "                AnimationGroup(FadeIn(summarized), MoveToTarget(summarized)),\n",
    "                lag_ratio=0.5\n",
    "            )\n",
    "        )\n",
    "\n",
    "        self.next_slide()\n",
    "\n",
    "        summarized.generate_target()\n",
    "        summarized.target.rotate(-90 * DEGREES)\n",
    "        summarized.target.scale(0.7)\n",
    "        summarized.target.to_edge(LEFT).shift(RIGHT)\n",
    "\n",
    "        self.play(MoveToTarget(summarized))\n",
    "\n",
    "        rect = Rectangle(width=5, height=3)\n",
    "        f = MathTex(\"f\", font_size=100)\n",
    "        self.play(Create(rect), Write(f))\n",
    "        \n",
    "        arrows = []\n",
    "        for obj in summarized:\n",
    "            if isinstance(obj, Circle):\n",
    "                arr = Line(start=obj.get_edge_center(RIGHT) + 0.2 * RIGHT, end=rect.get_edge_center(LEFT))\n",
    "                arrows.append(arr)\n",
    "        self.play(LaggedStart(*[Write(arr) for arr in arrows]))\n",
    "\n",
    "        out_arrow = Arrow(start=LEFT, end=RIGHT).next_to(rect, direction=RIGHT)\n",
    "        y = MathTex(\"y\", font_size=100).next_to(out_arrow, direction=RIGHT)\n",
    "        self.play(\n",
    "            LaggedStart(\n",
    "                DrawBorderThenFill(out_arrow, run_time=1),\n",
    "                Write(y, run_time=1), lag_ratio=0.5\n",
    "            )\n",
    "        )"
   ]
  },
  {
   "cell_type": "code",
   "execution_count": 443,
   "id": "c01a0fa1-7d65-4939-9372-4177a2b76117",
   "metadata": {
    "collapsed": true,
    "jupyter": {
     "outputs_hidden": true,
     "source_hidden": true
    }
   },
   "outputs": [
    {
     "data": {
      "text/html": [
       "<pre style=\"white-space:pre;overflow-x:auto;line-height:normal;font-family:Menlo,'DejaVu Sans Mono',consolas,'Courier New',monospace\">Manim Community <span style=\"color: #008000; text-decoration-color: #008000\">v0.18.1</span>\n",
       "\n",
       "</pre>\n"
      ],
      "text/plain": [
       "Manim Community \u001b[32mv0.\u001b[0m\u001b[32m18.1\u001b[0m\n",
       "\n"
      ]
     },
     "metadata": {},
     "output_type": "display_data"
    },
    {
     "name": "stderr",
     "output_type": "stream",
     "text": [
      "                                                                                                                                                                                                                                                                                                      "
     ]
    },
    {
     "data": {
      "text/html": [
       "<pre style=\"white-space:pre;overflow-x:auto;line-height:normal;font-family:Menlo,'DejaVu Sans Mono',consolas,'Courier New',monospace\"><span style=\"color: #7fbfbf; text-decoration-color: #7fbfbf\">[11/03/24 15:49:52] </span><span style=\"color: #000080; text-decoration-color: #000080\">INFO    </span> Generated <span style=\"color: #008080; text-decoration-color: #008080; font-weight: bold\">1</span> slides to <span style=\"color: #008000; text-decoration-color: #008000\">'/home/arne/Projects/Work/11.PHDD PhD </span>               <a href=\"file:///home/arne/miniconda3/envs/manim/lib/python3.12/site-packages/manim_slides/slide/base.py\" target=\"_blank\"><span style=\"color: #7f7f7f; text-decoration-color: #7f7f7f\">base.py</span></a><span style=\"color: #7f7f7f; text-decoration-color: #7f7f7f\">:</span><a href=\"file:///home/arne/miniconda3/envs/manim/lib/python3.12/site-packages/manim_slides/slide/base.py#547\" target=\"_blank\"><span style=\"color: #7f7f7f; text-decoration-color: #7f7f7f\">547</span></a>\n",
       "<span style=\"color: #7fbfbf; text-decoration-color: #7fbfbf\">                    </span>         <span style=\"color: #008000; text-decoration-color: #008000\">Defense/public_defense/slides/files/Chapter2_2'</span>                            <span style=\"color: #7f7f7f; text-decoration-color: #7f7f7f\">           </span>\n",
       "</pre>\n"
      ],
      "text/plain": [
       "\u001b[2;36m[11/03/24 15:49:52]\u001b[0m\u001b[2;36m \u001b[0m\u001b[34mINFO    \u001b[0m Generated \u001b[1;36m1\u001b[0m slides to \u001b[32m'/home/arne/Projects/Work/11.PHDD PhD \u001b[0m               \u001b]8;id=388322;file:///home/arne/miniconda3/envs/manim/lib/python3.12/site-packages/manim_slides/slide/base.py\u001b\\\u001b[2mbase.py\u001b[0m\u001b]8;;\u001b\\\u001b[2m:\u001b[0m\u001b]8;id=544535;file:///home/arne/miniconda3/envs/manim/lib/python3.12/site-packages/manim_slides/slide/base.py#547\u001b\\\u001b[2m547\u001b[0m\u001b]8;;\u001b\\\n",
       "\u001b[2;36m                    \u001b[0m         \u001b[32mDefense/public_defense/slides/files/Chapter2_2'\u001b[0m                            \u001b[2m           \u001b[0m\n"
      ]
     },
     "metadata": {},
     "output_type": "display_data"
    },
    {
     "data": {
      "text/html": [
       "<pre style=\"white-space:pre;overflow-x:auto;line-height:normal;font-family:Menlo,'DejaVu Sans Mono',consolas,'Courier New',monospace\"><span style=\"color: #7fbfbf; text-decoration-color: #7fbfbf\">                    </span><span style=\"color: #000080; text-decoration-color: #000080\">INFO    </span> Slide <span style=\"color: #008000; text-decoration-color: #008000\">'Chapter2_2'</span> configuration written in                                <a href=\"file:///home/arne/miniconda3/envs/manim/lib/python3.12/site-packages/manim_slides/slide/base.py\" target=\"_blank\"><span style=\"color: #7f7f7f; text-decoration-color: #7f7f7f\">base.py</span></a><span style=\"color: #7f7f7f; text-decoration-color: #7f7f7f\">:</span><a href=\"file:///home/arne/miniconda3/envs/manim/lib/python3.12/site-packages/manim_slides/slide/base.py#559\" target=\"_blank\"><span style=\"color: #7f7f7f; text-decoration-color: #7f7f7f\">559</span></a>\n",
       "<span style=\"color: #7fbfbf; text-decoration-color: #7fbfbf\">                    </span>         <span style=\"color: #008000; text-decoration-color: #008000\">'/home/arne/Projects/Work/11.PHDD PhD </span>                                     <span style=\"color: #7f7f7f; text-decoration-color: #7f7f7f\">           </span>\n",
       "<span style=\"color: #7fbfbf; text-decoration-color: #7fbfbf\">                    </span>         <span style=\"color: #008000; text-decoration-color: #008000\">Defense/public_defense/slides/Chapter2_2.json'</span>                             <span style=\"color: #7f7f7f; text-decoration-color: #7f7f7f\">           </span>\n",
       "</pre>\n"
      ],
      "text/plain": [
       "\u001b[2;36m                   \u001b[0m\u001b[2;36m \u001b[0m\u001b[34mINFO    \u001b[0m Slide \u001b[32m'Chapter2_2'\u001b[0m configuration written in                                \u001b]8;id=975669;file:///home/arne/miniconda3/envs/manim/lib/python3.12/site-packages/manim_slides/slide/base.py\u001b\\\u001b[2mbase.py\u001b[0m\u001b]8;;\u001b\\\u001b[2m:\u001b[0m\u001b]8;id=589316;file:///home/arne/miniconda3/envs/manim/lib/python3.12/site-packages/manim_slides/slide/base.py#559\u001b\\\u001b[2m559\u001b[0m\u001b]8;;\u001b\\\n",
       "\u001b[2;36m                    \u001b[0m         \u001b[32m'/home/arne/Projects/Work/11.PHDD PhD \u001b[0m                                     \u001b[2m           \u001b[0m\n",
       "\u001b[2;36m                    \u001b[0m         \u001b[32mDefense/public_defense/slides/Chapter2_2.json'\u001b[0m                             \u001b[2m           \u001b[0m\n"
      ]
     },
     "metadata": {},
     "output_type": "display_data"
    },
    {
     "data": {
      "text/html": [
       "<video src=\"media/jupyter/Chapter2_2@2024-11-03@15-49-52.mp4\" controls autoplay loop style=\"max-width: 60%;\"  >\n",
       "      Your browser does not support the <code>video</code> element.\n",
       "    </video>"
      ],
      "text/plain": [
       "<IPython.core.display.Video object>"
      ]
     },
     "metadata": {},
     "output_type": "display_data"
    }
   ],
   "source": [
    "%%manim -v WARNING --disable_caching -q l Chapter2_2\n",
    "        \n",
    "class Chapter2_2(Slide):\n",
    "    def construct(self):\n",
    "        idx = 1\n",
    "        X = np.loadtxt(\"digits.csv\", delimiter=',')\n",
    "        y = np.loadtxt(\"labels.csv\", delimiter=',')\n",
    "        \n",
    "        img = ImageMobject(X[idx, :].reshape(28, 28)).scale(25)\n",
    "        img.set_resampling_algorithm(RESAMPLING_ALGORITHMS[\"nearest\"])\n",
    "        img.to_edge(LEFT).shift(RIGHT)\n",
    "        self.play(FadeIn(img))\n",
    "\n",
    "        self.next_slide()\n",
    "        \n",
    "        attrs = X[idx, :].reshape(28, 28)\n",
    "        img_binarized = np.zeros((28, 28))\n",
    "        img_binarized[attrs > 128] = 1\n",
    "        \n",
    "        rng = np.random.default_rng(seed=0)\n",
    "        neg_noise = img_binarized * np.clip(rng.normal(loc=50, scale=25, size=(28, 28)), 0, 255)\n",
    "        attrs -= neg_noise\n",
    "\n",
    "        pos_noise = (1 - img_binarized) * rng.uniform(low=0, high=30, size=(28, 28))\n",
    "        attrs += pos_noise\n",
    "        \n",
    "        attrs[13:17, 9:20] += rng.normal(loc=70, scale=20, size=(4, 11))\n",
    "        attrs[14:16, 9:20] += rng.normal(loc=70, scale=20, size=(2, 11))\n",
    "        \n",
    "        attr_img = ImageMobject(attrs).scale(25)\n",
    "        attr_img.set_resampling_algorithm(RESAMPLING_ALGORITHMS[\"nearest\"])\n",
    "        attr_img.to_edge(RIGHT).shift(LEFT)\n",
    "        self.play(FadeIn(attr_img))"
   ]
  },
  {
   "cell_type": "code",
   "execution_count": 237,
   "id": "a47039a5-d2a8-401c-a54b-ca8edfffec6a",
   "metadata": {
    "jupyter": {
     "source_hidden": true
    }
   },
   "outputs": [],
   "source": [
    "class PixelsAsSquares(VGroup):\n",
    "    def __init__(self, image_mobject, **kwargs):\n",
    "        VGroup.__init__(self, **kwargs)\n",
    "        for row in image_mobject.pixel_array:\n",
    "            for val in row:\n",
    "                square = Square(\n",
    "                    stroke_width = 1,\n",
    "                    stroke_color = WHITE,\n",
    "                    stroke_opacity = 0.5,\n",
    "                    fill_opacity = val[0]/255.0,\n",
    "                    fill_color = WHITE,\n",
    "                )\n",
    "                self.add(square)\n",
    "        self.arrange_in_grid(\n",
    "            *image_mobject.pixel_array.shape[:2],\n",
    "            buff=0\n",
    "        )\n",
    "        self.replace(image_mobject)"
   ]
  },
  {
   "cell_type": "code",
   "execution_count": 253,
   "id": "dc97ddf6-18cf-4eab-899e-3f537462fef3",
   "metadata": {
    "jupyter": {
     "source_hidden": true
    }
   },
   "outputs": [],
   "source": [
    "class PixelsAsCircles(VGroup):\n",
    "    def __init__(self, v_img, **kwargs):\n",
    "        VGroup.__init__(self, **kwargs)\n",
    "        self.neurons = []\n",
    "        for pixel in v_img:\n",
    "            neuron = Circle(\n",
    "                radius = pixel.width/2,\n",
    "                stroke_color = WHITE,\n",
    "                stroke_width = 1,\n",
    "                fill_color = WHITE,\n",
    "                fill_opacity = pixel.fill_opacity,\n",
    "            )\n",
    "            neuron.rotate(3*np.pi/4)\n",
    "            neuron.move_to(pixel)\n",
    "            self.add(neuron)\n",
    "            self.neurons.append(neuron)\n",
    "        self.space_out_submobjects(1.2)\n",
    "\n",
    "    def get_values(self):\n",
    "        nums = []\n",
    "        for neuron in self.neurons:\n",
    "            o = neuron.fill_opacity\n",
    "            num = DecimalNumber(o, num_decimal_places = 1)\n",
    "            num.set(width=0.7*neuron.width)\n",
    "            num.move_to(neuron)\n",
    "            if o > 0.8:\n",
    "                num.set_fill(BLACK)\n",
    "            nums.append(num)\n",
    "        return nums"
   ]
  },
  {
   "cell_type": "code",
   "execution_count": 466,
   "id": "57bbaf9f-bf5f-4849-a576-89d63c26a404",
   "metadata": {
    "collapsed": true,
    "jupyter": {
     "outputs_hidden": true,
     "source_hidden": true
    }
   },
   "outputs": [
    {
     "data": {
      "text/html": [
       "<pre style=\"white-space:pre;overflow-x:auto;line-height:normal;font-family:Menlo,'DejaVu Sans Mono',consolas,'Courier New',monospace\">Manim Community <span style=\"color: #008000; text-decoration-color: #008000\">v0.18.1</span>\n",
       "\n",
       "</pre>\n"
      ],
      "text/plain": [
       "Manim Community \u001b[32mv0.\u001b[0m\u001b[32m18.1\u001b[0m\n",
       "\n"
      ]
     },
     "metadata": {},
     "output_type": "display_data"
    },
    {
     "name": "stderr",
     "output_type": "stream",
     "text": [
      "                                                                                                                                                                                                                                                                                                      "
     ]
    },
    {
     "data": {
      "text/html": [
       "<pre style=\"white-space:pre;overflow-x:auto;line-height:normal;font-family:Menlo,'DejaVu Sans Mono',consolas,'Courier New',monospace\"><span style=\"color: #7fbfbf; text-decoration-color: #7fbfbf\">[11/03/24 16:04:47] </span><span style=\"color: #000080; text-decoration-color: #000080\">INFO    </span> Generated <span style=\"color: #008080; text-decoration-color: #008080; font-weight: bold\">2</span> slides to <span style=\"color: #008000; text-decoration-color: #008000\">'/home/arne/Projects/Work/11.PHDD PhD </span>               <a href=\"file:///home/arne/miniconda3/envs/manim/lib/python3.12/site-packages/manim_slides/slide/base.py\" target=\"_blank\"><span style=\"color: #7f7f7f; text-decoration-color: #7f7f7f\">base.py</span></a><span style=\"color: #7f7f7f; text-decoration-color: #7f7f7f\">:</span><a href=\"file:///home/arne/miniconda3/envs/manim/lib/python3.12/site-packages/manim_slides/slide/base.py#547\" target=\"_blank\"><span style=\"color: #7f7f7f; text-decoration-color: #7f7f7f\">547</span></a>\n",
       "<span style=\"color: #7fbfbf; text-decoration-color: #7fbfbf\">                    </span>         <span style=\"color: #008000; text-decoration-color: #008000\">Defense/public_defense/slides/files/Chapter2_3'</span>                            <span style=\"color: #7f7f7f; text-decoration-color: #7f7f7f\">           </span>\n",
       "</pre>\n"
      ],
      "text/plain": [
       "\u001b[2;36m[11/03/24 16:04:47]\u001b[0m\u001b[2;36m \u001b[0m\u001b[34mINFO    \u001b[0m Generated \u001b[1;36m2\u001b[0m slides to \u001b[32m'/home/arne/Projects/Work/11.PHDD PhD \u001b[0m               \u001b]8;id=613888;file:///home/arne/miniconda3/envs/manim/lib/python3.12/site-packages/manim_slides/slide/base.py\u001b\\\u001b[2mbase.py\u001b[0m\u001b]8;;\u001b\\\u001b[2m:\u001b[0m\u001b]8;id=679840;file:///home/arne/miniconda3/envs/manim/lib/python3.12/site-packages/manim_slides/slide/base.py#547\u001b\\\u001b[2m547\u001b[0m\u001b]8;;\u001b\\\n",
       "\u001b[2;36m                    \u001b[0m         \u001b[32mDefense/public_defense/slides/files/Chapter2_3'\u001b[0m                            \u001b[2m           \u001b[0m\n"
      ]
     },
     "metadata": {},
     "output_type": "display_data"
    },
    {
     "data": {
      "text/html": [
       "<pre style=\"white-space:pre;overflow-x:auto;line-height:normal;font-family:Menlo,'DejaVu Sans Mono',consolas,'Courier New',monospace\"><span style=\"color: #7fbfbf; text-decoration-color: #7fbfbf\">                    </span><span style=\"color: #000080; text-decoration-color: #000080\">INFO    </span> Slide <span style=\"color: #008000; text-decoration-color: #008000\">'Chapter2_3'</span> configuration written in                                <a href=\"file:///home/arne/miniconda3/envs/manim/lib/python3.12/site-packages/manim_slides/slide/base.py\" target=\"_blank\"><span style=\"color: #7f7f7f; text-decoration-color: #7f7f7f\">base.py</span></a><span style=\"color: #7f7f7f; text-decoration-color: #7f7f7f\">:</span><a href=\"file:///home/arne/miniconda3/envs/manim/lib/python3.12/site-packages/manim_slides/slide/base.py#559\" target=\"_blank\"><span style=\"color: #7f7f7f; text-decoration-color: #7f7f7f\">559</span></a>\n",
       "<span style=\"color: #7fbfbf; text-decoration-color: #7fbfbf\">                    </span>         <span style=\"color: #008000; text-decoration-color: #008000\">'/home/arne/Projects/Work/11.PHDD PhD </span>                                     <span style=\"color: #7f7f7f; text-decoration-color: #7f7f7f\">           </span>\n",
       "<span style=\"color: #7fbfbf; text-decoration-color: #7fbfbf\">                    </span>         <span style=\"color: #008000; text-decoration-color: #008000\">Defense/public_defense/slides/Chapter2_3.json'</span>                             <span style=\"color: #7f7f7f; text-decoration-color: #7f7f7f\">           </span>\n",
       "</pre>\n"
      ],
      "text/plain": [
       "\u001b[2;36m                   \u001b[0m\u001b[2;36m \u001b[0m\u001b[34mINFO    \u001b[0m Slide \u001b[32m'Chapter2_3'\u001b[0m configuration written in                                \u001b]8;id=109016;file:///home/arne/miniconda3/envs/manim/lib/python3.12/site-packages/manim_slides/slide/base.py\u001b\\\u001b[2mbase.py\u001b[0m\u001b]8;;\u001b\\\u001b[2m:\u001b[0m\u001b]8;id=119341;file:///home/arne/miniconda3/envs/manim/lib/python3.12/site-packages/manim_slides/slide/base.py#559\u001b\\\u001b[2m559\u001b[0m\u001b]8;;\u001b\\\n",
       "\u001b[2;36m                    \u001b[0m         \u001b[32m'/home/arne/Projects/Work/11.PHDD PhD \u001b[0m                                     \u001b[2m           \u001b[0m\n",
       "\u001b[2;36m                    \u001b[0m         \u001b[32mDefense/public_defense/slides/Chapter2_3.json'\u001b[0m                             \u001b[2m           \u001b[0m\n"
      ]
     },
     "metadata": {},
     "output_type": "display_data"
    },
    {
     "data": {
      "text/html": [
       "<video src=\"media/jupyter/Chapter2_3@2024-11-03@16-04-47.mp4\" controls autoplay loop style=\"max-width: 60%;\"  >\n",
       "      Your browser does not support the <code>video</code> element.\n",
       "    </video>"
      ],
      "text/plain": [
       "<IPython.core.display.Video object>"
      ]
     },
     "metadata": {},
     "output_type": "display_data"
    }
   ],
   "source": [
    "%%manim -v WARNING --disable_caching -q l Chapter2_3\n",
    "        \n",
    "class Chapter2_3(Slide):\n",
    "    def construct(self):\n",
    "        lesion_img = ImageMobject(\"lesion.png\").scale(0.8).shift(LEFT * 5)\n",
    "        self.play(FadeIn(lesion_img))\n",
    "\n",
    "        # GENERAL FUNCTION\n",
    "        rect = Rectangle(width=3, height=2)\n",
    "        f = MathTex(\"f\", font_size=100)\n",
    "        \n",
    "        self.next_slide()\n",
    "        \n",
    "        in_arrow = Arrow(start=lesion_img.get_edge_center(RIGHT), end=rect.get_edge_center(LEFT))\n",
    "        out_arrow = Arrow(start=LEFT, end=RIGHT).next_to(rect, direction=RIGHT)\n",
    "        y = Text(\"malignant?\", font_size=35).next_to(out_arrow, direction=RIGHT)\n",
    "        self.play(\n",
    "            LaggedStart(\n",
    "                DrawBorderThenFill(in_arrow, run_time=1),\n",
    "                AnimationGroup(Create(rect), Write(f)),\n",
    "                DrawBorderThenFill(out_arrow, run_time=1),\n",
    "                Write(y, run_time=1), lag_ratio=0.5\n",
    "            )\n",
    "        )\n",
    "\n",
    "        self.next_slide()\n",
    "        self.play(\n",
    "            *[FadeOut(obj) for obj in self.mobjects_without_canvas]\n",
    "        )\n",
    "\n",
    "        self.play(Wait())"
   ]
  },
  {
   "cell_type": "code",
   "execution_count": 474,
   "id": "48937ef6-bb1c-41fd-9f8d-b43f919bb3ef",
   "metadata": {
    "collapsed": true,
    "jupyter": {
     "outputs_hidden": true,
     "source_hidden": true
    }
   },
   "outputs": [
    {
     "data": {
      "text/html": [
       "<pre style=\"white-space:pre;overflow-x:auto;line-height:normal;font-family:Menlo,'DejaVu Sans Mono',consolas,'Courier New',monospace\">Manim Community <span style=\"color: #008000; text-decoration-color: #008000\">v0.18.1</span>\n",
       "\n",
       "</pre>\n"
      ],
      "text/plain": [
       "Manim Community \u001b[32mv0.\u001b[0m\u001b[32m18.1\u001b[0m\n",
       "\n"
      ]
     },
     "metadata": {},
     "output_type": "display_data"
    },
    {
     "name": "stderr",
     "output_type": "stream",
     "text": [
      "                                                                                                                                                                                                                                                                                                      "
     ]
    },
    {
     "data": {
      "text/html": [
       "<pre style=\"white-space:pre;overflow-x:auto;line-height:normal;font-family:Menlo,'DejaVu Sans Mono',consolas,'Courier New',monospace\"><span style=\"color: #7fbfbf; text-decoration-color: #7fbfbf\">[11/03/24 16:35:22] </span><span style=\"color: #000080; text-decoration-color: #000080\">INFO    </span> Generated <span style=\"color: #008080; text-decoration-color: #008080; font-weight: bold\">3</span> slides to <span style=\"color: #008000; text-decoration-color: #008000\">'/home/arne/Projects/Work/11.PHDD PhD </span>               <a href=\"file:///home/arne/miniconda3/envs/manim/lib/python3.12/site-packages/manim_slides/slide/base.py\" target=\"_blank\"><span style=\"color: #7f7f7f; text-decoration-color: #7f7f7f\">base.py</span></a><span style=\"color: #7f7f7f; text-decoration-color: #7f7f7f\">:</span><a href=\"file:///home/arne/miniconda3/envs/manim/lib/python3.12/site-packages/manim_slides/slide/base.py#547\" target=\"_blank\"><span style=\"color: #7f7f7f; text-decoration-color: #7f7f7f\">547</span></a>\n",
       "<span style=\"color: #7fbfbf; text-decoration-color: #7fbfbf\">                    </span>         <span style=\"color: #008000; text-decoration-color: #008000\">Defense/public_defense/slides/files/Chapter2_4'</span>                            <span style=\"color: #7f7f7f; text-decoration-color: #7f7f7f\">           </span>\n",
       "</pre>\n"
      ],
      "text/plain": [
       "\u001b[2;36m[11/03/24 16:35:22]\u001b[0m\u001b[2;36m \u001b[0m\u001b[34mINFO    \u001b[0m Generated \u001b[1;36m3\u001b[0m slides to \u001b[32m'/home/arne/Projects/Work/11.PHDD PhD \u001b[0m               \u001b]8;id=429473;file:///home/arne/miniconda3/envs/manim/lib/python3.12/site-packages/manim_slides/slide/base.py\u001b\\\u001b[2mbase.py\u001b[0m\u001b]8;;\u001b\\\u001b[2m:\u001b[0m\u001b]8;id=15561;file:///home/arne/miniconda3/envs/manim/lib/python3.12/site-packages/manim_slides/slide/base.py#547\u001b\\\u001b[2m547\u001b[0m\u001b]8;;\u001b\\\n",
       "\u001b[2;36m                    \u001b[0m         \u001b[32mDefense/public_defense/slides/files/Chapter2_4'\u001b[0m                            \u001b[2m           \u001b[0m\n"
      ]
     },
     "metadata": {},
     "output_type": "display_data"
    },
    {
     "data": {
      "text/html": [
       "<pre style=\"white-space:pre;overflow-x:auto;line-height:normal;font-family:Menlo,'DejaVu Sans Mono',consolas,'Courier New',monospace\"><span style=\"color: #7fbfbf; text-decoration-color: #7fbfbf\">                    </span><span style=\"color: #000080; text-decoration-color: #000080\">INFO    </span> Slide <span style=\"color: #008000; text-decoration-color: #008000\">'Chapter2_4'</span> configuration written in                                <a href=\"file:///home/arne/miniconda3/envs/manim/lib/python3.12/site-packages/manim_slides/slide/base.py\" target=\"_blank\"><span style=\"color: #7f7f7f; text-decoration-color: #7f7f7f\">base.py</span></a><span style=\"color: #7f7f7f; text-decoration-color: #7f7f7f\">:</span><a href=\"file:///home/arne/miniconda3/envs/manim/lib/python3.12/site-packages/manim_slides/slide/base.py#559\" target=\"_blank\"><span style=\"color: #7f7f7f; text-decoration-color: #7f7f7f\">559</span></a>\n",
       "<span style=\"color: #7fbfbf; text-decoration-color: #7fbfbf\">                    </span>         <span style=\"color: #008000; text-decoration-color: #008000\">'/home/arne/Projects/Work/11.PHDD PhD </span>                                     <span style=\"color: #7f7f7f; text-decoration-color: #7f7f7f\">           </span>\n",
       "<span style=\"color: #7fbfbf; text-decoration-color: #7fbfbf\">                    </span>         <span style=\"color: #008000; text-decoration-color: #008000\">Defense/public_defense/slides/Chapter2_4.json'</span>                             <span style=\"color: #7f7f7f; text-decoration-color: #7f7f7f\">           </span>\n",
       "</pre>\n"
      ],
      "text/plain": [
       "\u001b[2;36m                   \u001b[0m\u001b[2;36m \u001b[0m\u001b[34mINFO    \u001b[0m Slide \u001b[32m'Chapter2_4'\u001b[0m configuration written in                                \u001b]8;id=569740;file:///home/arne/miniconda3/envs/manim/lib/python3.12/site-packages/manim_slides/slide/base.py\u001b\\\u001b[2mbase.py\u001b[0m\u001b]8;;\u001b\\\u001b[2m:\u001b[0m\u001b]8;id=572934;file:///home/arne/miniconda3/envs/manim/lib/python3.12/site-packages/manim_slides/slide/base.py#559\u001b\\\u001b[2m559\u001b[0m\u001b]8;;\u001b\\\n",
       "\u001b[2;36m                    \u001b[0m         \u001b[32m'/home/arne/Projects/Work/11.PHDD PhD \u001b[0m                                     \u001b[2m           \u001b[0m\n",
       "\u001b[2;36m                    \u001b[0m         \u001b[32mDefense/public_defense/slides/Chapter2_4.json'\u001b[0m                             \u001b[2m           \u001b[0m\n"
      ]
     },
     "metadata": {},
     "output_type": "display_data"
    },
    {
     "data": {
      "text/html": [
       "<video src=\"media/jupyter/Chapter2_4@2024-11-03@16-35-22.mp4\" controls autoplay loop style=\"max-width: 60%;\"  >\n",
       "      Your browser does not support the <code>video</code> element.\n",
       "    </video>"
      ],
      "text/plain": [
       "<IPython.core.display.Video object>"
      ]
     },
     "metadata": {},
     "output_type": "display_data"
    }
   ],
   "source": [
    "%%manim -v WARNING --disable_caching -q l Chapter2_4\n",
    "        \n",
    "class Chapter2_4(Slide):\n",
    "    def construct(self):\n",
    "        lesion_img = ImageMobject(\"lesions.png\").scale(0.8).shift(UP)\n",
    "        self.play(FadeIn(lesion_img))\n",
    "\n",
    "        self.next_slide()\n",
    "        markings_img = ImageMobject(\"markings.png\").scale(0.8).shift(DOWN * 2)\n",
    "        self.play(FadeIn(markings_img))\n",
    "        \n",
    "        self.next_slide()\n",
    "        self.play(\n",
    "            *[FadeOut(obj) for obj in self.mobjects_without_canvas]\n",
    "        )\n",
    "\n",
    "        self.play(Wait())"
   ]
  },
  {
   "cell_type": "code",
   "execution_count": 493,
   "id": "a4116eb7-7c6a-4f01-93b5-b18d24133177",
   "metadata": {
    "collapsed": true,
    "jupyter": {
     "outputs_hidden": true,
     "source_hidden": true
    }
   },
   "outputs": [
    {
     "data": {
      "text/html": [
       "<pre style=\"white-space:pre;overflow-x:auto;line-height:normal;font-family:Menlo,'DejaVu Sans Mono',consolas,'Courier New',monospace\">Manim Community <span style=\"color: #008000; text-decoration-color: #008000\">v0.18.1</span>\n",
       "\n",
       "</pre>\n"
      ],
      "text/plain": [
       "Manim Community \u001b[32mv0.\u001b[0m\u001b[32m18.1\u001b[0m\n",
       "\n"
      ]
     },
     "metadata": {},
     "output_type": "display_data"
    },
    {
     "name": "stderr",
     "output_type": "stream",
     "text": [
      "                                                                                                                                                                                                                                                                                                      "
     ]
    },
    {
     "data": {
      "text/html": [
       "<pre style=\"white-space:pre;overflow-x:auto;line-height:normal;font-family:Menlo,'DejaVu Sans Mono',consolas,'Courier New',monospace\"><span style=\"color: #7fbfbf; text-decoration-color: #7fbfbf\">[11/03/24 17:07:04] </span><span style=\"color: #000080; text-decoration-color: #000080\">INFO    </span> Generated <span style=\"color: #008080; text-decoration-color: #008080; font-weight: bold\">3</span> slides to <span style=\"color: #008000; text-decoration-color: #008000\">'/home/arne/Projects/Work/11.PHDD PhD </span>               <a href=\"file:///home/arne/miniconda3/envs/manim/lib/python3.12/site-packages/manim_slides/slide/base.py\" target=\"_blank\"><span style=\"color: #7f7f7f; text-decoration-color: #7f7f7f\">base.py</span></a><span style=\"color: #7f7f7f; text-decoration-color: #7f7f7f\">:</span><a href=\"file:///home/arne/miniconda3/envs/manim/lib/python3.12/site-packages/manim_slides/slide/base.py#547\" target=\"_blank\"><span style=\"color: #7f7f7f; text-decoration-color: #7f7f7f\">547</span></a>\n",
       "<span style=\"color: #7fbfbf; text-decoration-color: #7fbfbf\">                    </span>         <span style=\"color: #008000; text-decoration-color: #008000\">Defense/public_defense/slides/files/Chapter2_5'</span>                            <span style=\"color: #7f7f7f; text-decoration-color: #7f7f7f\">           </span>\n",
       "</pre>\n"
      ],
      "text/plain": [
       "\u001b[2;36m[11/03/24 17:07:04]\u001b[0m\u001b[2;36m \u001b[0m\u001b[34mINFO    \u001b[0m Generated \u001b[1;36m3\u001b[0m slides to \u001b[32m'/home/arne/Projects/Work/11.PHDD PhD \u001b[0m               \u001b]8;id=697731;file:///home/arne/miniconda3/envs/manim/lib/python3.12/site-packages/manim_slides/slide/base.py\u001b\\\u001b[2mbase.py\u001b[0m\u001b]8;;\u001b\\\u001b[2m:\u001b[0m\u001b]8;id=204857;file:///home/arne/miniconda3/envs/manim/lib/python3.12/site-packages/manim_slides/slide/base.py#547\u001b\\\u001b[2m547\u001b[0m\u001b]8;;\u001b\\\n",
       "\u001b[2;36m                    \u001b[0m         \u001b[32mDefense/public_defense/slides/files/Chapter2_5'\u001b[0m                            \u001b[2m           \u001b[0m\n"
      ]
     },
     "metadata": {},
     "output_type": "display_data"
    },
    {
     "data": {
      "text/html": [
       "<pre style=\"white-space:pre;overflow-x:auto;line-height:normal;font-family:Menlo,'DejaVu Sans Mono',consolas,'Courier New',monospace\"><span style=\"color: #7fbfbf; text-decoration-color: #7fbfbf\">                    </span><span style=\"color: #000080; text-decoration-color: #000080\">INFO    </span> Slide <span style=\"color: #008000; text-decoration-color: #008000\">'Chapter2_5'</span> configuration written in                                <a href=\"file:///home/arne/miniconda3/envs/manim/lib/python3.12/site-packages/manim_slides/slide/base.py\" target=\"_blank\"><span style=\"color: #7f7f7f; text-decoration-color: #7f7f7f\">base.py</span></a><span style=\"color: #7f7f7f; text-decoration-color: #7f7f7f\">:</span><a href=\"file:///home/arne/miniconda3/envs/manim/lib/python3.12/site-packages/manim_slides/slide/base.py#559\" target=\"_blank\"><span style=\"color: #7f7f7f; text-decoration-color: #7f7f7f\">559</span></a>\n",
       "<span style=\"color: #7fbfbf; text-decoration-color: #7fbfbf\">                    </span>         <span style=\"color: #008000; text-decoration-color: #008000\">'/home/arne/Projects/Work/11.PHDD PhD </span>                                     <span style=\"color: #7f7f7f; text-decoration-color: #7f7f7f\">           </span>\n",
       "<span style=\"color: #7fbfbf; text-decoration-color: #7fbfbf\">                    </span>         <span style=\"color: #008000; text-decoration-color: #008000\">Defense/public_defense/slides/Chapter2_5.json'</span>                             <span style=\"color: #7f7f7f; text-decoration-color: #7f7f7f\">           </span>\n",
       "</pre>\n"
      ],
      "text/plain": [
       "\u001b[2;36m                   \u001b[0m\u001b[2;36m \u001b[0m\u001b[34mINFO    \u001b[0m Slide \u001b[32m'Chapter2_5'\u001b[0m configuration written in                                \u001b]8;id=20702;file:///home/arne/miniconda3/envs/manim/lib/python3.12/site-packages/manim_slides/slide/base.py\u001b\\\u001b[2mbase.py\u001b[0m\u001b]8;;\u001b\\\u001b[2m:\u001b[0m\u001b]8;id=860612;file:///home/arne/miniconda3/envs/manim/lib/python3.12/site-packages/manim_slides/slide/base.py#559\u001b\\\u001b[2m559\u001b[0m\u001b]8;;\u001b\\\n",
       "\u001b[2;36m                    \u001b[0m         \u001b[32m'/home/arne/Projects/Work/11.PHDD PhD \u001b[0m                                     \u001b[2m           \u001b[0m\n",
       "\u001b[2;36m                    \u001b[0m         \u001b[32mDefense/public_defense/slides/Chapter2_5.json'\u001b[0m                             \u001b[2m           \u001b[0m\n"
      ]
     },
     "metadata": {},
     "output_type": "display_data"
    },
    {
     "data": {
      "text/html": [
       "<video src=\"media/jupyter/Chapter2_5@2024-11-03@17-07-04.mp4\" controls autoplay loop style=\"max-width: 60%;\"  >\n",
       "      Your browser does not support the <code>video</code> element.\n",
       "    </video>"
      ],
      "text/plain": [
       "<IPython.core.display.Video object>"
      ]
     },
     "metadata": {},
     "output_type": "display_data"
    }
   ],
   "source": [
    "%%manim -v WARNING --disable_caching -q l Chapter2_5\n",
    "        \n",
    "class Chapter2_5(Slide):\n",
    "    def construct(self):\n",
    "        self.next_slide()\n",
    "        imgs = []\n",
    "\n",
    "        coords = [\n",
    "            (-3, -2),\n",
    "            (-3, 0),\n",
    "            (-3, 2),\n",
    "            (3, -2),\n",
    "            (3, 0),\n",
    "            (3, 2),\n",
    "            (0, -3),\n",
    "            (0, 0),\n",
    "            (0, 2),\n",
    "        ]\n",
    "        \n",
    "        for i in range(9):\n",
    "            x, y = coords[i]\n",
    "            img = ImageMobject(f\"method{i+1}.png\", ).move_to((x, y, 0))\n",
    "            img.width = 6\n",
    "            imgs.append(img)\n",
    "        self.play(LaggedStart(*[FadeIn(img) for img in imgs], lag_ratio=0.8))\n",
    "\n",
    "        self.next_slide()\n",
    "        self.play(\n",
    "            *[FadeOut(obj) for obj in self.mobjects_without_canvas]\n",
    "        )\n",
    "\n",
    "        imgs = []\n",
    "        for i in range(9):\n",
    "            x, y = coords[i]\n",
    "            img = ImageMobject(f\"metric{i+1}.png\", ).move_to((x, y, 0))\n",
    "            img.width = 6\n",
    "            imgs.append(img)\n",
    "        self.play(LaggedStart(*[FadeIn(img) for img in imgs], lag_ratio=0.8))\n",
    "\n",
    "        self.next_slide()\n",
    "        self.play(\n",
    "            *[FadeOut(obj) for obj in self.mobjects_without_canvas]\n",
    "        )"
   ]
  },
  {
   "cell_type": "code",
   "execution_count": 522,
   "id": "aeb4cee1-2bdb-47bc-a3f1-bf07edd0753b",
   "metadata": {
    "collapsed": true,
    "jupyter": {
     "outputs_hidden": true,
     "source_hidden": true
    }
   },
   "outputs": [
    {
     "data": {
      "text/html": [
       "<pre style=\"white-space:pre;overflow-x:auto;line-height:normal;font-family:Menlo,'DejaVu Sans Mono',consolas,'Courier New',monospace\">Manim Community <span style=\"color: #008000; text-decoration-color: #008000\">v0.18.1</span>\n",
       "\n",
       "</pre>\n"
      ],
      "text/plain": [
       "Manim Community \u001b[32mv0.\u001b[0m\u001b[32m18.1\u001b[0m\n",
       "\n"
      ]
     },
     "metadata": {},
     "output_type": "display_data"
    },
    {
     "name": "stderr",
     "output_type": "stream",
     "text": [
      "                                                                                                                                                                                                                                                                                                      "
     ]
    },
    {
     "data": {
      "text/html": [
       "<pre style=\"white-space:pre;overflow-x:auto;line-height:normal;font-family:Menlo,'DejaVu Sans Mono',consolas,'Courier New',monospace\"><span style=\"color: #7fbfbf; text-decoration-color: #7fbfbf\">[11/03/24 17:23:41] </span><span style=\"color: #000080; text-decoration-color: #000080\">INFO    </span> Generated <span style=\"color: #008080; text-decoration-color: #008080; font-weight: bold\">3</span> slides to <span style=\"color: #008000; text-decoration-color: #008000\">'/home/arne/Projects/Work/11.PHDD PhD </span>               <a href=\"file:///home/arne/miniconda3/envs/manim/lib/python3.12/site-packages/manim_slides/slide/base.py\" target=\"_blank\"><span style=\"color: #7f7f7f; text-decoration-color: #7f7f7f\">base.py</span></a><span style=\"color: #7f7f7f; text-decoration-color: #7f7f7f\">:</span><a href=\"file:///home/arne/miniconda3/envs/manim/lib/python3.12/site-packages/manim_slides/slide/base.py#547\" target=\"_blank\"><span style=\"color: #7f7f7f; text-decoration-color: #7f7f7f\">547</span></a>\n",
       "<span style=\"color: #7fbfbf; text-decoration-color: #7fbfbf\">                    </span>         <span style=\"color: #008000; text-decoration-color: #008000\">Defense/public_defense/slides/files/Chapter2_6'</span>                            <span style=\"color: #7f7f7f; text-decoration-color: #7f7f7f\">           </span>\n",
       "</pre>\n"
      ],
      "text/plain": [
       "\u001b[2;36m[11/03/24 17:23:41]\u001b[0m\u001b[2;36m \u001b[0m\u001b[34mINFO    \u001b[0m Generated \u001b[1;36m3\u001b[0m slides to \u001b[32m'/home/arne/Projects/Work/11.PHDD PhD \u001b[0m               \u001b]8;id=651018;file:///home/arne/miniconda3/envs/manim/lib/python3.12/site-packages/manim_slides/slide/base.py\u001b\\\u001b[2mbase.py\u001b[0m\u001b]8;;\u001b\\\u001b[2m:\u001b[0m\u001b]8;id=495935;file:///home/arne/miniconda3/envs/manim/lib/python3.12/site-packages/manim_slides/slide/base.py#547\u001b\\\u001b[2m547\u001b[0m\u001b]8;;\u001b\\\n",
       "\u001b[2;36m                    \u001b[0m         \u001b[32mDefense/public_defense/slides/files/Chapter2_6'\u001b[0m                            \u001b[2m           \u001b[0m\n"
      ]
     },
     "metadata": {},
     "output_type": "display_data"
    },
    {
     "data": {
      "text/html": [
       "<pre style=\"white-space:pre;overflow-x:auto;line-height:normal;font-family:Menlo,'DejaVu Sans Mono',consolas,'Courier New',monospace\"><span style=\"color: #7fbfbf; text-decoration-color: #7fbfbf\">                    </span><span style=\"color: #000080; text-decoration-color: #000080\">INFO    </span> Slide <span style=\"color: #008000; text-decoration-color: #008000\">'Chapter2_6'</span> configuration written in                                <a href=\"file:///home/arne/miniconda3/envs/manim/lib/python3.12/site-packages/manim_slides/slide/base.py\" target=\"_blank\"><span style=\"color: #7f7f7f; text-decoration-color: #7f7f7f\">base.py</span></a><span style=\"color: #7f7f7f; text-decoration-color: #7f7f7f\">:</span><a href=\"file:///home/arne/miniconda3/envs/manim/lib/python3.12/site-packages/manim_slides/slide/base.py#559\" target=\"_blank\"><span style=\"color: #7f7f7f; text-decoration-color: #7f7f7f\">559</span></a>\n",
       "<span style=\"color: #7fbfbf; text-decoration-color: #7fbfbf\">                    </span>         <span style=\"color: #008000; text-decoration-color: #008000\">'/home/arne/Projects/Work/11.PHDD PhD </span>                                     <span style=\"color: #7f7f7f; text-decoration-color: #7f7f7f\">           </span>\n",
       "<span style=\"color: #7fbfbf; text-decoration-color: #7fbfbf\">                    </span>         <span style=\"color: #008000; text-decoration-color: #008000\">Defense/public_defense/slides/Chapter2_6.json'</span>                             <span style=\"color: #7f7f7f; text-decoration-color: #7f7f7f\">           </span>\n",
       "</pre>\n"
      ],
      "text/plain": [
       "\u001b[2;36m                   \u001b[0m\u001b[2;36m \u001b[0m\u001b[34mINFO    \u001b[0m Slide \u001b[32m'Chapter2_6'\u001b[0m configuration written in                                \u001b]8;id=619099;file:///home/arne/miniconda3/envs/manim/lib/python3.12/site-packages/manim_slides/slide/base.py\u001b\\\u001b[2mbase.py\u001b[0m\u001b]8;;\u001b\\\u001b[2m:\u001b[0m\u001b]8;id=806164;file:///home/arne/miniconda3/envs/manim/lib/python3.12/site-packages/manim_slides/slide/base.py#559\u001b\\\u001b[2m559\u001b[0m\u001b]8;;\u001b\\\n",
       "\u001b[2;36m                    \u001b[0m         \u001b[32m'/home/arne/Projects/Work/11.PHDD PhD \u001b[0m                                     \u001b[2m           \u001b[0m\n",
       "\u001b[2;36m                    \u001b[0m         \u001b[32mDefense/public_defense/slides/Chapter2_6.json'\u001b[0m                             \u001b[2m           \u001b[0m\n"
      ]
     },
     "metadata": {},
     "output_type": "display_data"
    },
    {
     "data": {
      "text/html": [
       "<video src=\"media/jupyter/Chapter2_6@2024-11-03@17-23-41.mp4\" controls autoplay loop style=\"max-width: 60%;\"  >\n",
       "      Your browser does not support the <code>video</code> element.\n",
       "    </video>"
      ],
      "text/plain": [
       "<IPython.core.display.Video object>"
      ]
     },
     "metadata": {},
     "output_type": "display_data"
    }
   ],
   "source": [
    "%%manim -v WARNING --disable_caching -q l Chapter2_6\n",
    "\n",
    "class Chapter2_6(Slide):\n",
    "    def construct(self):\n",
    "        self.next_slide()\n",
    "        scale = 0.275\n",
    "        imgs = [\n",
    "            ImageMobject(\"MNIST_default.png\").scale(scale).shift(4.5*LEFT),\n",
    "            ImageMobject(\"CIFAR10_default.png\").scale(scale),\n",
    "            ImageMobject(\"ImageNet_default.png\").scale(scale).shift(4.5*RIGHT)\n",
    "        ]\n",
    "        self.play(FadeIn(img) for img in imgs)\n",
    "\n",
    "        self.next_slide()\n",
    "        self.play(\n",
    "            *[FadeOut(obj) for obj in self.mobjects_without_canvas]\n",
    "        )\n",
    "\n",
    "        text = Text(\"There is no universal measure of quality!\", font_size=45)\n",
    "        self.play(Write(text))\n",
    "        \n",
    "        self.next_slide()\n",
    "        self.play(\n",
    "            *[FadeOut(obj) for obj in self.mobjects_without_canvas]\n",
    "        )\n",
    "        "
   ]
  },
  {
   "cell_type": "code",
   "execution_count": 579,
   "id": "aa11747b-4589-4c9a-a8b4-8c023857aba7",
   "metadata": {
    "collapsed": true,
    "jupyter": {
     "outputs_hidden": true,
     "source_hidden": true
    }
   },
   "outputs": [
    {
     "data": {
      "text/html": [
       "<pre style=\"white-space:pre;overflow-x:auto;line-height:normal;font-family:Menlo,'DejaVu Sans Mono',consolas,'Courier New',monospace\">Manim Community <span style=\"color: #008000; text-decoration-color: #008000\">v0.18.1</span>\n",
       "\n",
       "</pre>\n"
      ],
      "text/plain": [
       "Manim Community \u001b[32mv0.\u001b[0m\u001b[32m18.1\u001b[0m\n",
       "\n"
      ]
     },
     "metadata": {},
     "output_type": "display_data"
    },
    {
     "name": "stderr",
     "output_type": "stream",
     "text": [
      "                                                                                                                                                                                                                                                                                                      "
     ]
    },
    {
     "data": {
      "text/html": [
       "<pre style=\"white-space:pre;overflow-x:auto;line-height:normal;font-family:Menlo,'DejaVu Sans Mono',consolas,'Courier New',monospace\"><span style=\"color: #7fbfbf; text-decoration-color: #7fbfbf\">[11/03/24 18:22:04] </span><span style=\"color: #000080; text-decoration-color: #000080\">INFO    </span> Generated <span style=\"color: #008080; text-decoration-color: #008080; font-weight: bold\">10</span> slides to <span style=\"color: #008000; text-decoration-color: #008000\">'/home/arne/Projects/Work/11.PHDD PhD </span>              <a href=\"file:///home/arne/miniconda3/envs/manim/lib/python3.12/site-packages/manim_slides/slide/base.py\" target=\"_blank\"><span style=\"color: #7f7f7f; text-decoration-color: #7f7f7f\">base.py</span></a><span style=\"color: #7f7f7f; text-decoration-color: #7f7f7f\">:</span><a href=\"file:///home/arne/miniconda3/envs/manim/lib/python3.12/site-packages/manim_slides/slide/base.py#547\" target=\"_blank\"><span style=\"color: #7f7f7f; text-decoration-color: #7f7f7f\">547</span></a>\n",
       "<span style=\"color: #7fbfbf; text-decoration-color: #7fbfbf\">                    </span>         <span style=\"color: #008000; text-decoration-color: #008000\">Defense/public_defense/slides/files/Chapter3_1'</span>                            <span style=\"color: #7f7f7f; text-decoration-color: #7f7f7f\">           </span>\n",
       "</pre>\n"
      ],
      "text/plain": [
       "\u001b[2;36m[11/03/24 18:22:04]\u001b[0m\u001b[2;36m \u001b[0m\u001b[34mINFO    \u001b[0m Generated \u001b[1;36m10\u001b[0m slides to \u001b[32m'/home/arne/Projects/Work/11.PHDD PhD \u001b[0m              \u001b]8;id=331342;file:///home/arne/miniconda3/envs/manim/lib/python3.12/site-packages/manim_slides/slide/base.py\u001b\\\u001b[2mbase.py\u001b[0m\u001b]8;;\u001b\\\u001b[2m:\u001b[0m\u001b]8;id=600201;file:///home/arne/miniconda3/envs/manim/lib/python3.12/site-packages/manim_slides/slide/base.py#547\u001b\\\u001b[2m547\u001b[0m\u001b]8;;\u001b\\\n",
       "\u001b[2;36m                    \u001b[0m         \u001b[32mDefense/public_defense/slides/files/Chapter3_1'\u001b[0m                            \u001b[2m           \u001b[0m\n"
      ]
     },
     "metadata": {},
     "output_type": "display_data"
    },
    {
     "data": {
      "text/html": [
       "<pre style=\"white-space:pre;overflow-x:auto;line-height:normal;font-family:Menlo,'DejaVu Sans Mono',consolas,'Courier New',monospace\"><span style=\"color: #7fbfbf; text-decoration-color: #7fbfbf\">                    </span><span style=\"color: #000080; text-decoration-color: #000080\">INFO    </span> Slide <span style=\"color: #008000; text-decoration-color: #008000\">'Chapter3_1'</span> configuration written in                                <a href=\"file:///home/arne/miniconda3/envs/manim/lib/python3.12/site-packages/manim_slides/slide/base.py\" target=\"_blank\"><span style=\"color: #7f7f7f; text-decoration-color: #7f7f7f\">base.py</span></a><span style=\"color: #7f7f7f; text-decoration-color: #7f7f7f\">:</span><a href=\"file:///home/arne/miniconda3/envs/manim/lib/python3.12/site-packages/manim_slides/slide/base.py#559\" target=\"_blank\"><span style=\"color: #7f7f7f; text-decoration-color: #7f7f7f\">559</span></a>\n",
       "<span style=\"color: #7fbfbf; text-decoration-color: #7fbfbf\">                    </span>         <span style=\"color: #008000; text-decoration-color: #008000\">'/home/arne/Projects/Work/11.PHDD PhD </span>                                     <span style=\"color: #7f7f7f; text-decoration-color: #7f7f7f\">           </span>\n",
       "<span style=\"color: #7fbfbf; text-decoration-color: #7fbfbf\">                    </span>         <span style=\"color: #008000; text-decoration-color: #008000\">Defense/public_defense/slides/Chapter3_1.json'</span>                             <span style=\"color: #7f7f7f; text-decoration-color: #7f7f7f\">           </span>\n",
       "</pre>\n"
      ],
      "text/plain": [
       "\u001b[2;36m                   \u001b[0m\u001b[2;36m \u001b[0m\u001b[34mINFO    \u001b[0m Slide \u001b[32m'Chapter3_1'\u001b[0m configuration written in                                \u001b]8;id=103464;file:///home/arne/miniconda3/envs/manim/lib/python3.12/site-packages/manim_slides/slide/base.py\u001b\\\u001b[2mbase.py\u001b[0m\u001b]8;;\u001b\\\u001b[2m:\u001b[0m\u001b]8;id=288195;file:///home/arne/miniconda3/envs/manim/lib/python3.12/site-packages/manim_slides/slide/base.py#559\u001b\\\u001b[2m559\u001b[0m\u001b]8;;\u001b\\\n",
       "\u001b[2;36m                    \u001b[0m         \u001b[32m'/home/arne/Projects/Work/11.PHDD PhD \u001b[0m                                     \u001b[2m           \u001b[0m\n",
       "\u001b[2;36m                    \u001b[0m         \u001b[32mDefense/public_defense/slides/Chapter3_1.json'\u001b[0m                             \u001b[2m           \u001b[0m\n"
      ]
     },
     "metadata": {},
     "output_type": "display_data"
    },
    {
     "data": {
      "text/html": [
       "<video src=\"media/jupyter/Chapter3_1@2024-11-03@18-22-04.mp4\" controls autoplay loop style=\"max-width: 60%;\"  >\n",
       "      Your browser does not support the <code>video</code> element.\n",
       "    </video>"
      ],
      "text/plain": [
       "<IPython.core.display.Video object>"
      ]
     },
     "metadata": {},
     "output_type": "display_data"
    }
   ],
   "source": [
    "%%manim -v WARNING --disable_caching -q l Chapter3_1\n",
    "\n",
    "class Chapter3_1(Slide):\n",
    "    def construct(self):\n",
    "        variables = VGroup(*[\n",
    "            Text(name, font_size=24) for name in [\"Length\", \"Weight\", \"Age\", \"Blood pressure\", \"Cholesterol\"]\n",
    "        ]).arrange(DOWN, buff=0.5).to_edge(LEFT).shift(0.25 * RIGHT)\n",
    "        for var in variables[1:]:\n",
    "            var.align_to(variables[0], direction=RIGHT)\n",
    "\n",
    "        self.play(Write(variables))\n",
    "\n",
    "        # GENERAL FUNCTION\n",
    "        rect = Rectangle(width=5, height=3)\n",
    "        f = MathTex(\"f\", font_size=100)\n",
    "        \n",
    "        arrows = []\n",
    "        for obj in variables:\n",
    "            arr = Line(start=obj.get_edge_center(RIGHT) + 0.2 * RIGHT, end=rect.get_edge_center(LEFT))\n",
    "            arrows.append(arr)\n",
    "        \n",
    "        out_arrow = Arrow(start=LEFT, end=0.5 * RIGHT).next_to(rect, direction=RIGHT)\n",
    "        y = Text(\"Diabetes risk\", font_size=35).next_to(out_arrow, direction=RIGHT)\n",
    "        self.play(\n",
    "            LaggedStart(*[Write(arr) for arr in arrows],\n",
    "                        AnimationGroup(Create(rect), Write(f)),\n",
    "                        DrawBorderThenFill(out_arrow, run_time=1),\n",
    "                        Write(y, run_time=1)\n",
    "                       )\n",
    "        )\n",
    "\n",
    "        self.next_slide()\n",
    "        \n",
    "        variables_new = VGroup(*[\n",
    "            MathTex(name, font_size=44) for name in [\"L=195\", \"W=85\", \"A=45\", \"B=135\", \"C=110\"]\n",
    "        ]).arrange(DOWN, buff=0.5).to_edge(LEFT).shift(0.5 * RIGHT)\n",
    "\n",
    "        y_new = Text(\"High risk\", font_size=35).next_to(out_arrow, direction=RIGHT)\n",
    "\n",
    "        self.play(\n",
    "            ReplacementTransform(variables, variables_new),\n",
    "            ReplacementTransform(y, y_new)\n",
    "        )\n",
    "\n",
    "        self.next_slide()\n",
    "\n",
    "        variables_new[0].generate_target()\n",
    "        variables_new[0].target.color = BLUE\n",
    "        self.play(\n",
    "            Circumscribe(variables_new[0]), MoveToTarget(variables_new[0])\n",
    "        )\n",
    "\n",
    "        self.next_slide()\n",
    "\n",
    "        length = variables_new[0]\n",
    "        no_length = MathTex(r\"L = ???\", font_size=44, color=BLUE).move_to(length)\n",
    "        no_output = Text(\"???\", font_size=35).next_to(out_arrow, direction=RIGHT)\n",
    "        self.play(\n",
    "            Transform(length, no_length),\n",
    "            Transform(y_new, no_output)\n",
    "        )\n",
    "\n",
    "        self.next_slide()\n",
    "\n",
    "        zero_length = MathTex(\"L = 0\", font_size=44, color=BLUE).move_to(length)\n",
    "        y_zero = Text(\"Low risk\", font_size=35).next_to(out_arrow, direction=RIGHT)\n",
    "        self.play(\n",
    "            Transform(length, zero_length),\n",
    "            Transform(y_new, y_zero)\n",
    "        )\n",
    "\n",
    "        self.next_slide()\n",
    "\n",
    "        values = [9, 41, 24, 38, '...']\n",
    "        outputs = [\n",
    "            \"Low risk\",\n",
    "            \"High risk\",\n",
    "            \"Low risk\",\n",
    "            \"High risk\",\n",
    "            \"...\"\n",
    "        ]\n",
    "        for value, output in zip(values, outputs):\n",
    "            new_length = MathTex(f\"L = {value}\", font_size=44, color=BLUE).move_to(length)\n",
    "            new_output = Text(output, font_size=35).next_to(out_arrow, direction=RIGHT)\n",
    "            self.play(\n",
    "                Transform(length, new_length),\n",
    "                Transform(y_new, new_output)\n",
    "            )\n",
    "\n",
    "        self.next_slide()\n",
    "\n",
    "        orig_length = MathTex(f\"L = 195\", font_size=44).move_to(length)\n",
    "        orig_out = Text(\"High risk\", font_size=35).next_to(out_arrow, direction=RIGHT)\n",
    "        self.play(\n",
    "            Transform(length, orig_length),\n",
    "            Transform(y_new, orig_out)\n",
    "        )\n",
    "\n",
    "        self.next_slide()\n",
    "\n",
    "        new_f = Tex(r\"\"\"\n",
    "        IF $B > 130$ OR $C > 100$\\\\\n",
    "        THEN High risk\\\\ELSE Low risk\n",
    "        \"\"\", font_size=40)\n",
    "\n",
    "        self.play(Transform(f, new_f))\n",
    "\n",
    "        self.next_slide()\n",
    "\n",
    "        bp_values = [120, 110, 140, 130, '...']\n",
    "        c_values = [100, 105, 115, 90, '...']\n",
    "\n",
    "        bp = variables_new[3]\n",
    "        c = variables_new[4]\n",
    "        for value in bp_values:\n",
    "            new_bp = MathTex(f\"B = {value}\", font_size=44, color=BLUE).move_to(bp)\n",
    "            self.play(\n",
    "                Transform(bp, new_bp),\n",
    "            )\n",
    "        orig_bp = MathTex(f\"B = 135\", font_size=44).move_to(bp)\n",
    "        self.play(Transform(bp, orig_bp))\n",
    "        \n",
    "        for value in c_values:\n",
    "            new_c = MathTex(f\"C = {value}\", font_size=44, color=BLUE).move_to(c)\n",
    "            self.play(\n",
    "                Transform(c, new_c),\n",
    "            )\n",
    "        orig_c = MathTex(f\"C = 110\", font_size=44).move_to(c)\n",
    "        self.play(Transform(c, orig_c))\n",
    "        \n",
    "        self.next_slide()\n",
    "        self.play(\n",
    "            *[FadeOut(obj) for obj in self.mobjects_without_canvas]\n",
    "        )"
   ]
  },
  {
   "cell_type": "code",
   "execution_count": 589,
   "id": "6354785d-624f-48af-9eed-7dd126898a67",
   "metadata": {
    "collapsed": true,
    "jupyter": {
     "outputs_hidden": true,
     "source_hidden": true
    },
    "scrolled": true
   },
   "outputs": [
    {
     "data": {
      "text/html": [
       "<pre style=\"white-space:pre;overflow-x:auto;line-height:normal;font-family:Menlo,'DejaVu Sans Mono',consolas,'Courier New',monospace\">Manim Community <span style=\"color: #008000; text-decoration-color: #008000\">v0.18.1</span>\n",
       "\n",
       "</pre>\n"
      ],
      "text/plain": [
       "Manim Community \u001b[32mv0.\u001b[0m\u001b[32m18.1\u001b[0m\n",
       "\n"
      ]
     },
     "metadata": {},
     "output_type": "display_data"
    },
    {
     "name": "stderr",
     "output_type": "stream",
     "text": [
      "                                                                                                                                                                                                                                                                                                      "
     ]
    },
    {
     "data": {
      "text/html": [
       "<pre style=\"white-space:pre;overflow-x:auto;line-height:normal;font-family:Menlo,'DejaVu Sans Mono',consolas,'Courier New',monospace\"><span style=\"color: #7fbfbf; text-decoration-color: #7fbfbf\">[11/03/24 19:10:13] </span><span style=\"color: #000080; text-decoration-color: #000080\">INFO    </span> Generated <span style=\"color: #008080; text-decoration-color: #008080; font-weight: bold\">1</span> slides to <span style=\"color: #008000; text-decoration-color: #008000\">'/home/arne/Projects/Work/11.PHDD PhD </span>               <a href=\"file:///home/arne/miniconda3/envs/manim/lib/python3.12/site-packages/manim_slides/slide/base.py\" target=\"_blank\"><span style=\"color: #7f7f7f; text-decoration-color: #7f7f7f\">base.py</span></a><span style=\"color: #7f7f7f; text-decoration-color: #7f7f7f\">:</span><a href=\"file:///home/arne/miniconda3/envs/manim/lib/python3.12/site-packages/manim_slides/slide/base.py#547\" target=\"_blank\"><span style=\"color: #7f7f7f; text-decoration-color: #7f7f7f\">547</span></a>\n",
       "<span style=\"color: #7fbfbf; text-decoration-color: #7fbfbf\">                    </span>         <span style=\"color: #008000; text-decoration-color: #008000\">Defense/public_defense/slides/files/Chapter3_2'</span>                            <span style=\"color: #7f7f7f; text-decoration-color: #7f7f7f\">           </span>\n",
       "</pre>\n"
      ],
      "text/plain": [
       "\u001b[2;36m[11/03/24 19:10:13]\u001b[0m\u001b[2;36m \u001b[0m\u001b[34mINFO    \u001b[0m Generated \u001b[1;36m1\u001b[0m slides to \u001b[32m'/home/arne/Projects/Work/11.PHDD PhD \u001b[0m               \u001b]8;id=670431;file:///home/arne/miniconda3/envs/manim/lib/python3.12/site-packages/manim_slides/slide/base.py\u001b\\\u001b[2mbase.py\u001b[0m\u001b]8;;\u001b\\\u001b[2m:\u001b[0m\u001b]8;id=336914;file:///home/arne/miniconda3/envs/manim/lib/python3.12/site-packages/manim_slides/slide/base.py#547\u001b\\\u001b[2m547\u001b[0m\u001b]8;;\u001b\\\n",
       "\u001b[2;36m                    \u001b[0m         \u001b[32mDefense/public_defense/slides/files/Chapter3_2'\u001b[0m                            \u001b[2m           \u001b[0m\n"
      ]
     },
     "metadata": {},
     "output_type": "display_data"
    },
    {
     "data": {
      "text/html": [
       "<pre style=\"white-space:pre;overflow-x:auto;line-height:normal;font-family:Menlo,'DejaVu Sans Mono',consolas,'Courier New',monospace\"><span style=\"color: #7fbfbf; text-decoration-color: #7fbfbf\">                    </span><span style=\"color: #000080; text-decoration-color: #000080\">INFO    </span> Slide <span style=\"color: #008000; text-decoration-color: #008000\">'Chapter3_2'</span> configuration written in                                <a href=\"file:///home/arne/miniconda3/envs/manim/lib/python3.12/site-packages/manim_slides/slide/base.py\" target=\"_blank\"><span style=\"color: #7f7f7f; text-decoration-color: #7f7f7f\">base.py</span></a><span style=\"color: #7f7f7f; text-decoration-color: #7f7f7f\">:</span><a href=\"file:///home/arne/miniconda3/envs/manim/lib/python3.12/site-packages/manim_slides/slide/base.py#559\" target=\"_blank\"><span style=\"color: #7f7f7f; text-decoration-color: #7f7f7f\">559</span></a>\n",
       "<span style=\"color: #7fbfbf; text-decoration-color: #7fbfbf\">                    </span>         <span style=\"color: #008000; text-decoration-color: #008000\">'/home/arne/Projects/Work/11.PHDD PhD </span>                                     <span style=\"color: #7f7f7f; text-decoration-color: #7f7f7f\">           </span>\n",
       "<span style=\"color: #7fbfbf; text-decoration-color: #7fbfbf\">                    </span>         <span style=\"color: #008000; text-decoration-color: #008000\">Defense/public_defense/slides/Chapter3_2.json'</span>                             <span style=\"color: #7f7f7f; text-decoration-color: #7f7f7f\">           </span>\n",
       "</pre>\n"
      ],
      "text/plain": [
       "\u001b[2;36m                   \u001b[0m\u001b[2;36m \u001b[0m\u001b[34mINFO    \u001b[0m Slide \u001b[32m'Chapter3_2'\u001b[0m configuration written in                                \u001b]8;id=408708;file:///home/arne/miniconda3/envs/manim/lib/python3.12/site-packages/manim_slides/slide/base.py\u001b\\\u001b[2mbase.py\u001b[0m\u001b]8;;\u001b\\\u001b[2m:\u001b[0m\u001b]8;id=308727;file:///home/arne/miniconda3/envs/manim/lib/python3.12/site-packages/manim_slides/slide/base.py#559\u001b\\\u001b[2m559\u001b[0m\u001b]8;;\u001b\\\n",
       "\u001b[2;36m                    \u001b[0m         \u001b[32m'/home/arne/Projects/Work/11.PHDD PhD \u001b[0m                                     \u001b[2m           \u001b[0m\n",
       "\u001b[2;36m                    \u001b[0m         \u001b[32mDefense/public_defense/slides/Chapter3_2.json'\u001b[0m                             \u001b[2m           \u001b[0m\n"
      ]
     },
     "metadata": {},
     "output_type": "display_data"
    },
    {
     "data": {
      "text/html": [
       "<video src=\"media/jupyter/Chapter3_2@2024-11-03@19-10-13.mp4\" controls autoplay loop style=\"max-width: 60%;\"  >\n",
       "      Your browser does not support the <code>video</code> element.\n",
       "    </video>"
      ],
      "text/plain": [
       "<IPython.core.display.Video object>"
      ]
     },
     "metadata": {},
     "output_type": "display_data"
    }
   ],
   "source": [
    "%%manim -v WARNING --disable_caching -q l Chapter3_2\n",
    "\n",
    "class Chapter3_2(Slide):\n",
    "    def construct(self):\n",
    "        title = Text(\"Three ingredients:\", font_size=50).shift(2 * UP)\n",
    "        p = paragraph(\n",
    "            \"1. Target: what to explain\",\n",
    "            \"2. Removal: how to remove features\",\n",
    "            \"3. Aggregation: how to summarize effects\",\n",
    "            t2c={\n",
    "                \"1. Target:\": BLUE,\n",
    "                \"2. Removal:\": BLUE,\n",
    "                \"3. Aggregation:\": BLUE\n",
    "            }\n",
    "        ).to_edge(LEFT).shift(0.5 * RIGHT)\n",
    "\n",
    "        self.play(Write(title))\n",
    "        self.play(Write(p), run_time=6)"
   ]
  },
  {
   "cell_type": "code",
   "execution_count": null,
   "id": "063c3777-0e3d-4431-9cea-c9f1055578cb",
   "metadata": {},
   "outputs": [],
   "source": []
  }
 ],
 "metadata": {
  "kernelspec": {
   "display_name": "Python 3 (ipykernel)",
   "language": "python",
   "name": "python3"
  },
  "language_info": {
   "codemirror_mode": {
    "name": "ipython",
    "version": 3
   },
   "file_extension": ".py",
   "mimetype": "text/x-python",
   "name": "python",
   "nbconvert_exporter": "python",
   "pygments_lexer": "ipython3",
   "version": "3.12.2"
  }
 },
 "nbformat": 4,
 "nbformat_minor": 5
}
